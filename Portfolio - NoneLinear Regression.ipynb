{
 "cells": [
  {
   "cell_type": "markdown",
   "metadata": {},
   "source": [
    "<h1><center>Non Linear Regression Analysis</center></h1>"
   ]
  },
  {
   "cell_type": "markdown",
   "metadata": {},
   "source": [
    "In this work we will study the Chinese GDP creating a non linear regressions od the data using python and `scipy`. The data used in this notebook has been extrated from \n",
    "the [World Bank](https://data.worldbank.org/)."
   ]
  },
  {
   "cell_type": "markdown",
   "metadata": {
    "toc": true
   },
   "source": [
    "<h1>Table of Contents<span class=\"tocSkip\"></span></h1>\n",
    "<div class=\"toc\"><ul class=\"toc-item\"><li><span><a href=\"#Initial-Setup\" data-toc-modified-id=\"Initial-Setup-1\">Initial Setup</a></span></li><li><span><a href=\"#Importing-Data\" data-toc-modified-id=\"Importing-Data-2\">Importing Data</a></span></li><li><span><a href=\"#Plotting-the-Dataset\" data-toc-modified-id=\"Plotting-the-Dataset-3\">Plotting the Dataset</a></span></li><li><span><a href=\"#Choosing-a-model\" data-toc-modified-id=\"Choosing-a-model-4\">Choosing a model</a></span></li><li><span><a href=\"#Building-The-Model\" data-toc-modified-id=\"Building-The-Model-5\">Building The Model</a></span></li><li><span><a href=\"#How-we-find-the-best-parameters-for-our-fit-line?\" data-toc-modified-id=\"How-we-find-the-best-parameters-for-our-fit-line?-6\">How we find the best parameters for our fit line?</a></span></li><li><span><a href=\"#Accuracy-of-the-model\" data-toc-modified-id=\"Accuracy-of-the-model-7\">Accuracy of the model</a></span></li></ul></div>"
   ]
  },
  {
   "cell_type": "markdown",
   "metadata": {},
   "source": [
    "## Initial Setup"
   ]
  },
  {
   "cell_type": "code",
   "execution_count": 1,
   "metadata": {
    "ExecuteTime": {
     "end_time": "2020-08-12T21:53:58.686275Z",
     "start_time": "2020-08-12T21:53:56.096699Z"
    }
   },
   "outputs": [],
   "source": [
    "import numpy as np\n",
    "import matplotlib.pyplot as plt\n",
    "%matplotlib inline\n",
    "import seaborn as sns \n",
    "sns.set()"
   ]
  },
  {
   "cell_type": "markdown",
   "metadata": {},
   "source": [
    "## Importing Data"
   ]
  },
  {
   "cell_type": "markdown",
   "metadata": {},
   "source": [
    "The data used in this work correspond to China's GDP from 1960 to 2019. We download the entire economic information available in for Chine in the World Bank Site . Hence, we will need to create a dataset with two columns, the first, a year between 1960 and 2019, the second, China's corresponding annual gross domestic income in US dollars for that year. "
   ]
  },
  {
   "cell_type": "code",
   "execution_count": 133,
   "metadata": {
    "ExecuteTime": {
     "end_time": "2020-08-13T03:07:40.198693Z",
     "start_time": "2020-08-13T03:07:40.195693Z"
    }
   },
   "outputs": [],
   "source": [
    "import numpy as np\n",
    "import pandas as pd"
   ]
  },
  {
   "cell_type": "code",
   "execution_count": 183,
   "metadata": {
    "ExecuteTime": {
     "end_time": "2020-08-13T03:35:05.678847Z",
     "start_time": "2020-08-13T03:35:05.631834Z"
    }
   },
   "outputs": [
    {
     "name": "stdout",
     "output_type": "stream",
     "text": [
      "<class 'pandas.core.frame.DataFrame'>\n",
      "RangeIndex: 60 entries, 0 to 59\n",
      "Data columns (total 2 columns):\n",
      " #   Column  Non-Null Count  Dtype \n",
      "---  ------  --------------  ----- \n",
      " 0   Year    60 non-null     object\n",
      " 1   Value   60 non-null     object\n",
      "dtypes: object(2)\n",
      "memory usage: 1.1+ KB\n",
      "None\n"
     ]
    },
    {
     "data": {
      "text/html": [
       "<div>\n",
       "<style scoped>\n",
       "    .dataframe tbody tr th:only-of-type {\n",
       "        vertical-align: middle;\n",
       "    }\n",
       "\n",
       "    .dataframe tbody tr th {\n",
       "        vertical-align: top;\n",
       "    }\n",
       "\n",
       "    .dataframe thead th {\n",
       "        text-align: right;\n",
       "    }\n",
       "</style>\n",
       "<table border=\"1\" class=\"dataframe\">\n",
       "  <thead>\n",
       "    <tr style=\"text-align: right;\">\n",
       "      <th></th>\n",
       "      <th>Year</th>\n",
       "      <th>Value</th>\n",
       "    </tr>\n",
       "  </thead>\n",
       "  <tbody>\n",
       "    <tr>\n",
       "      <th>0</th>\n",
       "      <td>1960</td>\n",
       "      <td>5.97165e+10</td>\n",
       "    </tr>\n",
       "    <tr>\n",
       "      <th>1</th>\n",
       "      <td>1961</td>\n",
       "      <td>5.00569e+10</td>\n",
       "    </tr>\n",
       "    <tr>\n",
       "      <th>2</th>\n",
       "      <td>1962</td>\n",
       "      <td>4.72094e+10</td>\n",
       "    </tr>\n",
       "    <tr>\n",
       "      <th>3</th>\n",
       "      <td>1963</td>\n",
       "      <td>5.07068e+10</td>\n",
       "    </tr>\n",
       "    <tr>\n",
       "      <th>4</th>\n",
       "      <td>1964</td>\n",
       "      <td>5.97083e+10</td>\n",
       "    </tr>\n",
       "  </tbody>\n",
       "</table>\n",
       "</div>"
      ],
      "text/plain": [
       "   Year        Value\n",
       "0  1960  5.97165e+10\n",
       "1  1961  5.00569e+10\n",
       "2  1962  4.72094e+10\n",
       "3  1963  5.07068e+10\n",
       "4  1964  5.97083e+10"
      ]
     },
     "execution_count": 183,
     "metadata": {},
     "output_type": "execute_result"
    }
   ],
   "source": [
    "df = pd.read_csv(\"datasets/API_CHN_DS2_en_csv_v2_1221525.csv\", error_bad_lines=False)\n",
    "df=df[df['Indicator Name']==\"GDP (current US$)\"]\n",
    "df=df.T\n",
    "df=df.iloc[4:64]\n",
    "df.reset_index(level=0, inplace=True)\n",
    "df.columns=[\"Year\",\"Value\"]\n",
    "print(df.info())\n",
    "df.head()"
   ]
  },
  {
   "cell_type": "markdown",
   "metadata": {},
   "source": [
    "## Plotting the Dataset\n",
    "This is what the datapoints look like. It kind of looks like an either logistic or exponential function. The growth starts off slow, then from 2005 on forward, the growth is very significant. And finally, it decelerate slightly in the 2010s."
   ]
  },
  {
   "cell_type": "code",
   "execution_count": 184,
   "metadata": {
    "ExecuteTime": {
     "end_time": "2020-08-13T03:35:09.442837Z",
     "start_time": "2020-08-13T03:35:09.143883Z"
    }
   },
   "outputs": [
    {
     "data": {
      "image/png": "[encoded data removed]",
      "text/plain": [
       "<Figure size 432x288 with 1 Axes>"
      ]
     },
     "metadata": {},
     "output_type": "display_data"
    }
   ],
   "source": [
    "import matplotlib.ticker as ticker\n",
    "\n",
    "x = pd.to_datetime(df['Year'])\n",
    "y = df['Value']/10**12\n",
    "\n",
    "\n",
    "fig, ax = plt.subplots()\n",
    "ax.plot(x, y, 'ro', markersize=3)\n",
    "ax.set_xlabel('Year',labelpad=6)\n",
    "ax.set_ylabel('GDP US$ Trillions')\n",
    "ax.set_title('Chinese GDP Evolution between 1960 and 2019.')\n",
    "ax.ticklabel_format(style='plain',axis='y')\n",
    "fig.autofmt_xdate()\n",
    "plt.annotate('source World Bank', xy=(0.019, 0.95), xycoords='axes fraction' ,bbox=dict(boxstyle=\"round\", fc=\"white\", ec=\"gray\", alpha=0.9), \n",
    "             size=8, alpha=0.7)\n",
    "plt.savefig(\"img/nlr1.png\", dpi=300)\n",
    "plt.show()"
   ]
  },
  {
   "cell_type": "markdown",
   "metadata": {},
   "source": [
    "## Choosing a model \n",
    "\n",
    "From an initial look at the plot, we determine that the logistic function could be a good approximation,\n",
    "since it has the property of starting with a slow growth, increasing growth in the middle, and then decreasing again at the end; as illustrated below:"
   ]
  },
  {
   "cell_type": "code",
   "execution_count": 185,
   "metadata": {
    "ExecuteTime": {
     "end_time": "2020-08-13T03:35:12.363879Z",
     "start_time": "2020-08-13T03:35:12.200892Z"
    }
   },
   "outputs": [
    {
     "data": {
      "image/png": "[encoded data removed]",
      "text/plain": [
       "<Figure size 432x288 with 1 Axes>"
      ]
     },
     "metadata": {},
     "output_type": "display_data"
    }
   ],
   "source": [
    "X = np.arange(-5.0, 5.0, 0.1)\n",
    "Y = 1.0 / (1.0 + np.exp(-X))\n",
    "\n",
    "plt.plot(X,Y) \n",
    "plt.ylabel('Dependent Variable')\n",
    "plt.xlabel('Indepdendent Variable')\n",
    "plt.show()"
   ]
  },
  {
   "cell_type": "markdown",
   "metadata": {},
   "source": [
    "## Building The Model \n",
    "Now, let's build our regression model and initialize its parameters. "
   ]
  },
  {
   "cell_type": "code",
   "execution_count": 186,
   "metadata": {
    "ExecuteTime": {
     "end_time": "2020-08-13T03:35:15.198840Z",
     "start_time": "2020-08-13T03:35:15.194839Z"
    }
   },
   "outputs": [],
   "source": [
    "def sigmoid(x, Beta_1, Beta_2):\n",
    "     y = 1 / (1 + np.exp(-Beta_1*(x-Beta_2)))\n",
    "     return y"
   ]
  },
  {
   "cell_type": "markdown",
   "metadata": {},
   "source": [
    "Lets look at a sample sigmoid line that might fit with the data:"
   ]
  },
  {
   "cell_type": "code",
   "execution_count": 187,
   "metadata": {
    "ExecuteTime": {
     "end_time": "2020-08-13T03:35:19.501844Z",
     "start_time": "2020-08-13T03:35:19.319842Z"
    }
   },
   "outputs": [
    {
     "data": {
      "image/png": "[encoded data removed]",
      "text/plain": [
       "<Figure size 432x288 with 1 Axes>"
      ]
     },
     "metadata": {},
     "output_type": "display_data"
    }
   ],
   "source": [
    "beta_1 = 0.10\n",
    "beta_2 = 1990.0\n",
    "\n",
    "x_data, y_data= pd.to_numeric(df['Year']),pd.to_numeric(df['Value'])\n",
    "\n",
    "#logistic function\n",
    "Y_pred = sigmoid(x_data, beta_1 , beta_2)\n",
    "\n",
    "#plot initial prediction against datapoints\n",
    "plt.plot(x_data, Y_pred*15000000000000.)\n",
    "plt.plot(x_data, y_data, 'ro')\n",
    "plt.show()"
   ]
  },
  {
   "cell_type": "markdown",
   "metadata": {},
   "source": [
    "Our task here is to find the best parameters for our model. Lets first normalize our x and y:"
   ]
  },
  {
   "cell_type": "code",
   "execution_count": 197,
   "metadata": {
    "ExecuteTime": {
     "end_time": "2020-08-13T03:37:27.399914Z",
     "start_time": "2020-08-13T03:37:27.395914Z"
    }
   },
   "outputs": [],
   "source": [
    "# Lets normalize our data\n",
    "xdata =x_data/max(x_data)\n",
    "ydata =y_data/max(y_data)"
   ]
  },
  {
   "cell_type": "markdown",
   "metadata": {},
   "source": [
    "## How we find the best parameters for our fit line?\n",
    "we can use __curve_fit__ which uses non-linear least squares to fit our sigmoid function, to data. Optimal values for the parameters so that the sum of the squared residuals of sigmoid(xdata, *popt) - ydata is minimized.\n",
    "\n",
    "popt are our optimized parameters."
   ]
  },
  {
   "cell_type": "code",
   "execution_count": 198,
   "metadata": {
    "ExecuteTime": {
     "end_time": "2020-08-13T03:37:28.849969Z",
     "start_time": "2020-08-13T03:37:28.803913Z"
    }
   },
   "outputs": [
    {
     "name": "stdout",
     "output_type": "stream",
     "text": [
      " beta_1 = 572.140495, beta_2 = 0.995854\n"
     ]
    }
   ],
   "source": [
    "from scipy.optimize import curve_fit\n",
    "popt, pcov = curve_fit(sigmoid, xdata, ydata)\n",
    "#print the final parameters\n",
    "print(\" beta_1 = %f, beta_2 = %f\" % (popt[0], popt[1]))"
   ]
  },
  {
   "cell_type": "markdown",
   "metadata": {},
   "source": [
    "Now we plot our resulting regression model."
   ]
  },
  {
   "cell_type": "code",
   "execution_count": 268,
   "metadata": {
    "ExecuteTime": {
     "end_time": "2020-08-13T04:26:52.562903Z",
     "start_time": "2020-08-13T04:26:52.154902Z"
    }
   },
   "outputs": [
    {
     "data": {
      "image/png": "[encoded data removed]",
      "text/plain": [
       "<Figure size 432x288 with 1 Axes>"
      ]
     },
     "metadata": {},
     "output_type": "display_data"
    }
   ],
   "source": [
    "x = np.linspace(1960, 2020, 60, endpoint=False)\n",
    "x = x/max(x)\n",
    "y = sigmoid(x, *popt)\n",
    "\n",
    "year_data=-0.0267607 + 2019.03*x\n",
    "GDP_data=4.7209359006*10**10 + 1.42956934839103*10**13*y\n",
    "year_pred=-0.0267607+2019.03*xdata\n",
    "GDP_pred=4.7209359006*10**10 + 1.42956934839103*10**13*ydata\n",
    "\n",
    "fig, ax=plt.subplots()\n",
    "ax.plot(year_pred, GDP_pred/10**12,'ro', label='GDP Data')\n",
    "ax.plot(year_data,GDP_data/10**12, linewidth=3.0, label='Model Fitting')\n",
    "ax.set_xlabel('Year',labelpad=6)\n",
    "ax.set_ylabel('GDP US$ Trillions')\n",
    "ax.set_title('Chinese GDP Evolution between 1960 and 2019 with adjusted model.')\n",
    "plt.legend()\n",
    "plt.annotate('source World Bank', xy=(0.78, 0.05), xycoords='axes fraction' ,bbox=dict(boxstyle=\"round\", fc=\"white\", ec=\"gray\", alpha=0.9), \n",
    "             size=8, alpha=0.7)\n",
    "plt.savefig(\"img/nlr2.png\", dpi=300)\n",
    "plt.show()\n"
   ]
  },
  {
   "cell_type": "markdown",
   "metadata": {},
   "source": [
    "## Accuracy of the model"
   ]
  },
  {
   "cell_type": "code",
   "execution_count": 201,
   "metadata": {
    "ExecuteTime": {
     "end_time": "2020-08-13T03:37:44.769979Z",
     "start_time": "2020-08-13T03:37:44.761967Z"
    }
   },
   "outputs": [],
   "source": [
    "# split data into train/test\n",
    "msk = np.random.rand(len(df)) < 0.8\n",
    "train_x = xdata[msk]\n",
    "test_x = xdata[~msk]\n",
    "train_y = ydata[msk]\n",
    "test_y = ydata[~msk]"
   ]
  },
  {
   "cell_type": "code",
   "execution_count": 202,
   "metadata": {
    "ExecuteTime": {
     "end_time": "2020-08-13T03:37:46.392969Z",
     "start_time": "2020-08-13T03:37:46.345959Z"
    }
   },
   "outputs": [],
   "source": [
    "# build the model using train set\n",
    "popt, pcov = curve_fit(sigmoid, train_x, train_y)"
   ]
  },
  {
   "cell_type": "code",
   "execution_count": 203,
   "metadata": {
    "ExecuteTime": {
     "end_time": "2020-08-13T03:37:47.495925Z",
     "start_time": "2020-08-13T03:37:47.490924Z"
    }
   },
   "outputs": [],
   "source": [
    "# predict using test set\n",
    "y_hat = sigmoid(test_x, *popt)"
   ]
  },
  {
   "cell_type": "code",
   "execution_count": 204,
   "metadata": {
    "ExecuteTime": {
     "end_time": "2020-08-13T03:37:48.816924Z",
     "start_time": "2020-08-13T03:37:48.809967Z"
    }
   },
   "outputs": [
    {
     "name": "stdout",
     "output_type": "stream",
     "text": [
      "Mean absolute error: 0.02\n",
      "Residual sum of squares (MSE): 0.00\n",
      "R2-score: 0.98\n"
     ]
    }
   ],
   "source": [
    "# evaluation\n",
    "print(\"Mean absolute error: %.2f\" % np.mean(np.absolute(y_hat - test_y)))\n",
    "print(\"Residual sum of squares (MSE): %.2f\" % np.mean((y_hat - test_y) ** 2))\n",
    "from sklearn.metrics import r2_score\n",
    "print(\"R2-score: %.2f\" % r2_score(y_hat , test_y) )"
   ]
  },
  {
   "cell_type": "code",
   "execution_count": null,
   "metadata": {},
   "outputs": [],
   "source": []
  }
 ],
 "metadata": {
  "kernelspec": {
   "display_name": "Python 3",
   "language": "python",
   "name": "python3"
  },
  "language_info": {
   "codemirror_mode": {
    "name": "ipython",
    "version": 3
   },
   "file_extension": ".py",
   "mimetype": "text/x-python",
   "name": "python",
   "nbconvert_exporter": "python",
   "pygments_lexer": "ipython3",
   "version": "3.7.6"
  },
  "toc": {
   "base_numbering": 1,
   "nav_menu": {},
   "number_sections": false,
   "sideBar": true,
   "skip_h1_title": true,
   "title_cell": "Table of Contents",
   "title_sidebar": "Contents",
   "toc_cell": true,
   "toc_position": {},
   "toc_section_display": false,
   "toc_window_display": true
  }
 },
 "nbformat": 4,
 "nbformat_minor": 2
}
