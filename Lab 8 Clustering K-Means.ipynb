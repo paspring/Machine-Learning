{
 "cells": [
  {
   "cell_type": "markdown",
   "metadata": {
    "button": false,
    "new_sheet": false,
    "run_control": {
     "read_only": false
    }
   },
   "source": [
    "<img src=\"https://miro.medium.com/max/1200/1*rw8IUza1dbffBhiA4i0GNQ.png\" width=\"500\" align=\"center\"></a>\n",
    "\n",
    " <div style=\"font-size:5vw\"><center>K-Means Clustering\n",
    "   \n",
    "    \n",
    " <div>\n",
    "     \n",
    "---"
   ]
  },
  {
   "cell_type": "markdown",
   "metadata": {
    "button": false,
    "new_sheet": false,
    "run_control": {
     "read_only": false
    }
   },
   "source": [
    "# Introduction to clustering\n",
    "\n",
    "There are many models for **clustering** out there. In this notebook, we will be presenting the model that is considered one of the simplest models amongst them. Despite its simplicity, the **K-means** is vastly used for clustering in many data science applications, especially useful if you need to quickly discover insights from **unlabeled data**. In this notebook, you will learn how to use k-Means for customer segmentation.\n",
    "\n",
    "Some real-world applications of k-means:\n",
    "- Customer segmentation\n",
    "- Understand what the visitors of a website are trying to accomplish\n",
    "- Pattern recognition\n",
    "- Machine learning\n",
    "- Data compression\n",
    "\n",
    "\n",
    "In this notebook we practice k-means clustering with 2 examples:\n",
    "- k-means on a random generated dataset\n",
    "- Using k-means for customer segmentation"
   ]
  },
  {
   "cell_type": "markdown",
   "metadata": {},
   "source": [
    "## Understanding \n",
    "\n",
    "Imagine that you have a customer dataset and you need to apply customer segmentation on this historical data.\n",
    "<img src=\"clip/clus1.png\" width=700>\n",
    "\n",
    "**Customer segmentation** is the practice of partitioning a customer base into groups of individuals that have similar characteristics. It is a significant strategy, as it allows the business to target specific groups of customers, so as to more effectively allocate marketing resources. For example, *one group might contain customers who are high profit and low risk. That is, more likely to purchase products or subscribe for a service.* Knowing this information allows a business to devote more time and attention to retaining these customers. Another group might include customers from nonprofit organizations and so on.\n",
    "\n",
    "**A general segmentation process is not usually feasible for large volumes** of very data therefore you need an analytical approach to deriving segments and groups from large datasets.\n",
    "Customers can be grouped based on several factors, including age, gender, interests, spending habits and so on. **The important requirement is to use the available data to understand and identify how customers are similar to each other.**\n",
    "\n",
    "Let's learn how to divide a set of customers into categories, based on characteristics they share.\n",
    "One of the most adopted approaches that can be used for customer segmentation is clustering.\n",
    "\n",
    "<img src=\"https://media.geeksforgeeks.org/wp-content/uploads/k-means-copy.jpg\" width=500>\n",
    "\n",
    "**Clustering can group data only unsupervised**, based on the similarity of customers to each other.\n",
    "It will partition your customers into mutually exclusive groups.\n",
    "\n",
    "<img src=\"https://www.tutorialandexample.com/wp-content/uploads/2019/11/An-example-of-a-cluster-system.png\">\n",
    "\n",
    "For example, into three clusters. The customers in each cluster are similar to each other demographically.\n",
    "Now we can create a profile for each group, considering the common characteristics of each cluster.\n",
    "For example, the first group made up of affluent and middle aged customers. The second is made up of young,\n",
    "educated and middle income customers, and the third group includes young and low income customers.\n",
    "\n",
    "<img src=\"clip/clus2.png\" width=700>\n",
    "\n",
    "Finally, we can assign each individual in our dataset to one of these groups or segments of customers.\n",
    "\n",
    "<img src=\"clip/clus3.png\" width=300>\n",
    "\n",
    "Now imagine that you cross join this segmented dataset with the dataset of the product or services that customers purchase from your company. This information would really help to understand and predict the differences and individual customers preferences and their buying behaviors across various products.\n",
    "\n",
    "<img src=\"clip/clus4.png\" width=500>\n",
    "\n",
    "Indeed, having this information would allow your company to develop highly personalized experiences for each segment.\n",
    "\n",
    "***Customer segmentation is one of the popular usages of clustering.***\n",
    "\n",
    "Cluster analysis also has many other applications in different domains. So let's first define clustering and then we'll look at other applications."
   ]
  },
  {
   "cell_type": "markdown",
   "metadata": {},
   "source": [
    "## So what is a cluster?\n",
    "\n",
    "***Clustering means finding clusters in a dataset, unsupervised.\n",
    "A cluster is a group of data points or objects in a dataset that are similar to other objects in the group,\n",
    "and dissimilar to datapoints in other clusters.***\n",
    "\n",
    "<img src=\"https://miro.medium.com/max/1017/1*vNng_oOsNRHKrlh3pjSAyA.png\" width=500>"
   ]
  },
  {
   "cell_type": "markdown",
   "metadata": {},
   "source": [
    "## What is different between clustering and classification?\n",
    "\n",
    "Let's look at our customer dataset again.\n",
    "\n",
    "<img src=\"clip/clus6.png\" width=800>"
   ]
  },
  {
   "cell_type": "markdown",
   "metadata": {},
   "source": [
    "Classification algorithms predict categorical classed labels. This means assigning instances to predefined classes such as defaulted or not defaulted. For example, ***if an analyst wants to analyze customer data in order to know which customers might default on their payments, she uses a labeled dataset as training data and uses classification approaches such as a decision tree, Support Vector Machines or SVM, or logistic regression**, to predict the default value for a new or unknown customer.\n",
    "Generally speaking, **classification is a supervised learning** where each training data instance belongs to a particular class.\n",
    "\n",
    "***In clustering however, the data is unlabeled and the process is unsupervised***. For example, we can use a clustering algorithm such as k-means to group similar customers as mentioned, and assign them to a cluster,\n",
    "based on whether they share similar attributes, such as; age, education, and so on."
   ]
  },
  {
   "cell_type": "markdown",
   "metadata": {},
   "source": [
    "## Examples in different industries\n",
    "\n",
    "- In the **retail industry**, clustering is used to find associations among customers based on their demographic characteristics and use that information to identify buying patterns of various customer groups.\n",
    "- Also, it can be used in recommendation systems to find a group of similar items or similar users and use it for collaborative filtering, to recommend things like books or movies to customers.\n",
    "- In **banking**, analysts find clusters of normal transactions to find the patterns of fraudulent credit card usage. Also they use clustering to identify clusters of customers. For instance, to find loyal customers versus churned customers.\n",
    "- In the **insurance industry**, clustering is used for fraud detection in claims analysis, or to evaluate the insurance risk of certain customers based on their segments.\n",
    "\n",
    "- In **publication media**, clustering is used to auto categorize news based on his content or to tag news, then cluster it so as to recommend similar news articles to readers.\n",
    "\n",
    "- In **medicine**, it can be used to characterize patient behavior, based on their similar characteristics. So as to identify successful medical therapies for different illnesses.\n",
    "\n",
    "- In **biology**, clustering is used to group genes with similar expression patterns or to cluster genetic markers to identify family ties.\n",
    "\n",
    "If you look around you can find many other applications of clustering, but generally clustering can be used\n",
    "for one of the following purposes:\n",
    "\n",
    "- exploratory data analysis, \n",
    "- summary generation or reducing the scale,\n",
    "- outlier detection- especially to be used for fraud detection or noise removal,\n",
    "- finding duplicates and datasets or as a \n",
    "- pre-processing step for either prediction,\n",
    "- other data mining tasks or as part of a complex system."
   ]
  },
  {
   "cell_type": "markdown",
   "metadata": {},
   "source": [
    "## Different clustering algorithms and their characteristics.\n",
    "\n",
    "- **Partitioned-based clustering** is a group of clustering algorithms that produces fear like clusters, such as; \n",
    "    - K-Means, \n",
    "    - K-Medians or \n",
    "    - Fuzzy c-Means.\n",
    "    \n",
    "<img src=\"https://www.weareworldquant.com/media/1615/fig-2-web-01.png?mode=pad&width=1000&upscale=false&rnd=131680266910000000\" width=500>\n",
    "    \n",
    "***These algorithms are relatively efficient and are used for medium and large sized databases.***\n",
    "\n",
    "- **Hierarchical clustering** algorithms produce trees of clusters, such as \n",
    "    - agglomerative and \n",
    "    - divisive algorithms.\n",
    "<img src=\"https://miro.medium.com/max/2556/1*r1YriAFjwJokgcdtaodQAQ.png\" width=400>  \n",
    "    \n",
    "***This group of algorithms are very intuitive and are generally good for use with small size datasets.***\n",
    "\n",
    "\n",
    "\n",
    "- **Density-based clustering** algorithms produce arbitrary shaped clusters.\n",
    "\n",
    "    - They are especially good when dealing with spatial clusters or \n",
    "    - when there is noise in your data set.\n",
    "    - For example, the DB scan algorithm.\n",
    "    \n",
    "<img src=\"clip/clus9.png\" width=400>\n"
   ]
  },
  {
   "cell_type": "markdown",
   "metadata": {},
   "source": [
    "# K-means"
   ]
  },
  {
   "cell_type": "markdown",
   "metadata": {},
   "source": [
    "Imagine that you have a customer dataset and you need to apply customer segmentation on this historical data.\n",
    "\n",
    "Customer segmentation is the practice of partitioning a customer base into groups of individuals that have similar characteristics.\n",
    "\n",
    "\n",
    "***One of the algorithms that can be used for customer segmentation is K-Means clustering.***\n",
    "\n",
    "K-Means can group data only unsupervised based on the similarity of customers to each other.\n",
    "Let's define this technique more formally:\n",
    "- There are various types of clustering algorithms such as partitioning,\n",
    "- hierarchical or \n",
    "- density-based clustering.\n",
    "    \n",
    "K-Means is a type of partitioning clustering, that is, it divides the data into K non-overlapping subsets or\n",
    "clusters without any cluster internal structure or labels. This means, it's an unsupervised algorithm.\n",
    "Objects within a cluster are very similar, and objects across different clusters are very different or dissimilar. As you can see, for using K-Means we have to find similar samples: for example, similar customers.\n",
    "\n",
    "\n",
    "<img src=\"https://www.researchgate.net/profile/Justin_Page/publication/268880805/figure/fig3/AS:282625324404757@1444394536795/K-means-clustering-algorithm-An-example-2-cluster-run-is-shown-with-the-clusters.png\" width=300>\n",
    "\n",
    "Now, we face a couple of key questions:\n",
    "- First, how can we find the similarity of samples in clustering, and then \n",
    "- how do we measure how similar two customers are with regard to their demographics?\n",
    "\n",
    "Though the objective of K-Means is to form clusters in such a way that similar samples go into a cluster,\n",
    "and dissimilar samples fall into different clusters, it can be shown that instead of a similarity metric,\n",
    "we can use **dissimilarity metrics**. In other words, conventionally the distance of samples from each other is used to shape the clusters. **So we can say K-Means tries to minimize the intra-cluster distances and maximize the inter-cluster distances.**\n",
    "\n",
    "<img src=\"clip/clus7.png\" width=300>"
   ]
  },
  {
   "cell_type": "markdown",
   "metadata": {},
   "source": [
    "***Now, the question is, how can we calculate the dissimilarity or distance of two cases such as two customers?***\n",
    "\n",
    "<img src=\"clip/clus8.png\" width=400>\n",
    "\n",
    "Assume that we have two customers, we will call them Customer one and two. Let's also assume that we have only one feature for each of these two customers and that feature is age. We can easily use a specific type of\n",
    "Minkowski distance to calculate the distance of these two customers. Indeed, it is the Euclidean distance.\n",
    "\n",
    "<center>$d\\left( p,q\\right)   = \\sqrt {\\sum _{i=1}^{n}  \\left( q_{i}-p_{i}\\right)^2 } $</center>\n",
    "\n",
    "Distance of $x_1$ from $x_2$ is $\\sqrt {(54 - 50)^2}$ which is four. \n",
    "\n",
    "What about if we have more than one feature, for example age and income. For example, if we have income and age for each customer, we can still use the same formula but this time in a two-dimensional space.\n",
    "Also, we can use the same distance matrix for multidimensional vectors. Of course, ***we have to normalize*** our feature set to get the accurate dissimilarity measure.\n",
    "There are other dissimilarity measures as well that can be used for this purpose, ***but the technique is highly dependent on datatype*** and also the domain that clustering is done for it. \n",
    "For example you may use: \n",
    "\n",
    "- Euclidean distance,\n",
    "- Cosine similarity, \n",
    "- Average distance, and so on.\n",
    "\n",
    "Indeed, the similarity measure highly controls how the clusters are formed, so it is recommended to understand the domain knowledge of your dataset and datatype of features and then choose the meaningful distance measurement."
   ]
  },
  {
   "cell_type": "markdown",
   "metadata": {},
   "source": [
    "## How K-Means clustering works.\n",
    "\n",
    "For the sake of simplicity, let's assume that our dataset has only two features:\n",
    "- the age and income of customers.\n",
    "This means, it's a two-dimensional space.\n",
    "We can show the distribution of customers using a scatter plot:\n",
    "- The Y-axis indicates age and the \n",
    "- X-axis shows income of customers.\n",
    "We try to cluster the customer dataset into distinct groups or clusters based on these two dimensions."
   ]
  },
  {
   "cell_type": "markdown",
   "metadata": {},
   "source": [
    "- **Determine k:** In the **first step**, we should determine the number of clusters. The key concept of the K-Means algorithm is that it randomly picks a center point for each cluster. It means we must initialize K which represents number of clusters. Essentially, ***determining the number of clusters in a dataset or K is a hard problem in K-Means***, that we will discuss later. For now, let's put K equals three here for our sample dataset.It is like we have three representative points for our clusters. These three data points are called centroids of clusters and should be of same feature size of our customer feature set. There are two approaches to choose these centroids:\n",
    "\n",
    "    - One, we can randomly choose three observations out of the dataset and use these observations as the initial means.\n",
    "    - Or two, we can create three random points as centroids of the clusters which is our choice that is shown in the plot with red color.\n",
    "    \n",
    "<img src=\"clip/clus10.png\" width=400>"
   ]
  },
  {
   "cell_type": "markdown",
   "metadata": {},
   "source": [
    "- **Measure distances**: After the initialization step which was defining the centroid of each cluster, we have to assign each customer to the closest center. For this purpose, we have to calculate the distance of each data point or in our case each customer from the centroid points. As mentioned before, depending on the nature of the data and the purpose for which clustering is being used different measures of distance may be used to place items into clusters. Therefore, you will form a matrix where each row represents the distance of a customer from each centroid. It is called the Distance Matrix.\n",
    "\n",
    "<img src=\"clip/clus11.png\" width=600>"
   ]
  },
  {
   "cell_type": "markdown",
   "metadata": {},
   "source": [
    "- **Assign each point to the closest centroid:** The main objective of K-Means clustering is to minimize the distance of data points from the centroid of this cluster and maximize the distance from other cluster centroids. So, in this step, we have to find the closest centroid to each data point. We can use the distance matrix to find the nearest centroid to datapoints. Finding the closest centroids for each data point, we assign each data point to that cluster. In other words, all the customers will fall to a cluster based on their distance from centroids. We can easily say that it does not result in good clusters because the centroids were chosen randomly from the first.\n",
    "\n",
    "<img src=\"clip/clus12.png\" width=400>\n",
    "\n",
    "- **Error**: Indeed, the model would have a high error. Here, error is the total distance of each point from its centroid. It can be shown as within-cluster sum of squares error. Intuitively, we try to reduce this error. It means we should shape clusters in such a way that the total distance of all members of a cluster from its centroid be minimized."
   ]
  },
  {
   "cell_type": "markdown",
   "metadata": {},
   "source": [
    "## How can we turn it into better clusters with less error?\n",
    "\n",
    "Okay, we move centroids. \n",
    "- In the next step, each cluster center will be updated to be the mean for datapoints in its cluster. Indeed, each centroid moves according to their cluster members. In other words the centroid of each of the three clusters becomes the new mean.\n",
    "\n",
    "- Now, we have new centroids. As you can guess, once again we will have to calculate the distance of all points from the new centroids. The points are reclustered and the centroids move again. This continues until the centroids no longer move. Please note that whenever a centroid moves, each points distance to the centroid needs to be measured again.\n",
    "***Yes, K-Means is an iterative algorithm and we have to repeat steps two to four until the algorithm converges.***\n",
    "\n",
    "<img src=\"https://www.brandidea.com/images/datascience/kmeansxmeans.jpg\" width=500>\n",
    "\n",
    "In each iteration, it will move the centroids,\n",
    "calculate the distances from\n",
    "new centroids and assign data points to the nearest centroid.\n",
    "It results in the clusters with minimum error or the most dense clusters.\n",
    "However, as it is a heuristic algorithm,\n",
    "there is no guarantee that it will converge to the global\n",
    "optimum and the result may depend on the initial clusters.\n",
    "It means, this algorithm is guaranteed to converge to\n",
    "a result, but the result may be a local optimum i.e.\n",
    "not necessarily the best possible outcome.\n",
    "To solve this problem,\n",
    "it is common to run the whole process multiple times with different starting conditions.\n",
    "This means with randomized starting centroids,\n",
    "it may give a better outcome.\n",
    "As the algorithm is usually very fast,\n",
    "it wouldn't be any problem to run it multiple times.\n"
   ]
  },
  {
   "cell_type": "markdown",
   "metadata": {},
   "source": [
    "## k-Means accuracy and characteristics\n",
    "\n",
    "k-Means clustering algorithm:\n",
    "\n",
    "1. Randomly placing k centroids, one for each cluster: A k-Means algorithm works by randomly placing k centroids, one for each cluster. The farther apart the clusters are placed, the better.\n",
    "    \n",
    "2. Calculate the distance of each point from each centroid: Euclidean distance is used to measure the distance from the object to the centroid. Please note, however, that you can also use different types of distance measurements, not just Euclidean distance. Euclidean distance is used because it's the most popular.\n",
    "\n",
    "3. Assign each data point (object) to its closest centroid, creating a cluster.\n",
    "\n",
    "4. Recalculate the position of the k centroids: The new centroid position is determined by the mean of all points in the group.\n",
    "\n",
    "5. Repeat the steps 2-4, until the centroids no longer move.\n",
    "\n",
    "\n",
    "Now, the questions is, ***how can we evaluate the goodness of the clusters formed by k-Means?***\n",
    "In other words, ***how do we calculate the accuracy of k-Means clustering?***\n",
    "\n",
    "One way is to compare the clusters with **the ground truth**, if it's available.*(Ground truth is a term used in statistics and machine learning that means checking the results of machine learning for accuracy against the real world. The term is borrowed from meteorology, where \"ground truth\" refers to information obtained on site. The term implies a kind of reality check for machine learning algorithms)*\n",
    "\n",
    "However, because k-Means is an unsupervised algorithm we usually don't have ground truth in real world problems to be used. But there is still a way to say how bad each cluster is, based on the objective of the k-Means.\n",
    "- This value is the average distance between data points within a cluster. Also, average of the distances of data points from their cluster centroids can be used as a metric of error for the clustering algorithm.\n",
    "\n",
    "- Essentially, determining the number of clusters in a data set, or k as in the k-Means algorithm, is a frequent problem in data clustering. The correct choice of K is often ambiguous because it's very dependent on the shape and scale of the distribution of points in a dataset.\n",
    "\n",
    "- There are some approaches to address this problem, but one of the techniques that is commonly used is to run the clustering across the different values of K and looking at a metric of accuracy for clustering. This metric can be mean, distance between data points and their cluster's centroid, which indicate how dense our clusters are or, to what extent we minimize the error of clustering.\n",
    "\n",
    "- Then, looking at the change of this metric, we can find the best value for K. But the problem is that with increasing the number of clusters, the distance of centroids to data points will always reduce. This means increasing K will always decrease the error. So, the value of the metric as a function of K is plotted and **the elbow point is determined where the rate of decrease sharply shifts**.\n",
    "\n",
    "- It is the right K for clustering. This method is called the elbow method.\n",
    "\n",
    "<img src=\"https://www.scikit-yb.org/en/latest/_images/elbow-1.png\" width=500>\n",
    "\n",
    "\n",
    "So let's recap k-Means clustering, k-Means is a partition-based clustering which is:\n",
    "\n",
    "    A) relatively efficient on medium and large sized data sets;\n",
    "    \n",
    "    B) produces sphere-like clusters because the clusters are shaped around the centroids; and \n",
    "    \n",
    "    C) its drawback is that we should pre-specify the number of clusters, and this is not an easy task. "
   ]
  },
  {
   "cell_type": "markdown",
   "metadata": {},
   "source": [
    "# Project 1: Random numbers"
   ]
  },
  {
   "cell_type": "markdown",
   "metadata": {
    "button": false,
    "new_sheet": false,
    "run_control": {
     "read_only": false
    }
   },
   "source": [
    "## Setup: Import libraries\n",
    "Lets first import the required libraries.\n",
    "Also run <b> %matplotlib inline </b> since we will be plotting in this section."
   ]
  },
  {
   "cell_type": "code",
   "execution_count": 1,
   "metadata": {
    "ExecuteTime": {
     "end_time": "2020-05-22T16:10:27.887026Z",
     "start_time": "2020-05-22T16:10:24.953535Z"
    },
    "button": false,
    "new_sheet": false,
    "run_control": {
     "read_only": false
    }
   },
   "outputs": [
    {
     "name": "stderr",
     "output_type": "stream",
     "text": [
      "C:\\Users\\paspr\\anaconda3\\lib\\site-packages\\sklearn\\utils\\deprecation.py:144: FutureWarning: The sklearn.datasets.samples_generator module is  deprecated in version 0.22 and will be removed in version 0.24. The corresponding classes / functions should instead be imported from sklearn.datasets. Anything that cannot be imported from sklearn.datasets is now part of the private API.\n",
      "  warnings.warn(message, FutureWarning)\n"
     ]
    }
   ],
   "source": [
    "import random \n",
    "import numpy as np \n",
    "import matplotlib.pyplot as plt \n",
    "from sklearn.cluster import KMeans \n",
    "from sklearn.datasets.samples_generator import make_blobs \n",
    "%matplotlib inline"
   ]
  },
  {
   "cell_type": "markdown",
   "metadata": {
    "button": false,
    "new_sheet": false,
    "run_control": {
     "read_only": false
    }
   },
   "source": [
    "<h2 id=\"random_generated_dataset\">k-Means on a randomly generated dataset</h2>\n",
    "Lets create our own dataset for this lab!\n"
   ]
  },
  {
   "cell_type": "markdown",
   "metadata": {
    "button": false,
    "new_sheet": false,
    "run_control": {
     "read_only": false
    }
   },
   "source": [
    "First we need to set up a random seed. Use <b>numpy's random.seed()</b> function, where the seed will be set to <b>0</b>"
   ]
  },
  {
   "cell_type": "code",
   "execution_count": 2,
   "metadata": {
    "ExecuteTime": {
     "end_time": "2020-05-22T16:10:45.702635Z",
     "start_time": "2020-05-22T16:10:45.684328Z"
    },
    "button": false,
    "new_sheet": false,
    "run_control": {
     "read_only": false
    }
   },
   "outputs": [],
   "source": [
    "np.random.seed(0)"
   ]
  },
  {
   "cell_type": "markdown",
   "metadata": {
    "button": false,
    "new_sheet": false,
    "run_control": {
     "read_only": false
    }
   },
   "source": [
    "Next we will be making <i> random clusters </i> of points by using the <b> make_blobs </b> class. The <b> make_blobs </b> class can take in many inputs, but we will be using these specific ones. <br> <br>\n",
    "<b> <u> Input </u> </b>\n",
    "<ul>\n",
    "    <li> <b>n_samples</b>: The total number of points equally divided among clusters. </li>\n",
    "    <ul> <li> Value will be: 5000 </li> </ul>\n",
    "    <li> <b>centers</b>: The number of centers to generate, or the fixed center locations. </li>\n",
    "    <ul> <li> Value will be: [[4, 4], [-2, -1], [2, -3],[1,1]] </li> </ul>\n",
    "    <li> <b>cluster_std</b>: The standard deviation of the clusters. </li>\n",
    "    <ul> <li> Value will be: 0.9 </li> </ul>\n",
    "</ul>\n",
    "<br>\n",
    "<b> <u> Output </u> </b>\n",
    "<ul>\n",
    "    <li> <b>X</b>: Array of shape [n_samples, n_features]. (Feature Matrix)</li>\n",
    "    <ul> <li> The generated samples. </li> </ul> \n",
    "    <li> <b>y</b>: Array of shape [n_samples]. (Response Vector)</li>\n",
    "    <ul> <li> The integer labels for cluster membership of each sample. </li> </ul>\n",
    "</ul>\n"
   ]
  },
  {
   "cell_type": "code",
   "execution_count": 3,
   "metadata": {
    "ExecuteTime": {
     "end_time": "2020-05-22T16:11:22.770978Z",
     "start_time": "2020-05-22T16:11:22.686726Z"
    },
    "button": false,
    "new_sheet": false,
    "run_control": {
     "read_only": false
    }
   },
   "outputs": [],
   "source": [
    "X, y = make_blobs(n_samples=5000, centers=[[4,4], [-2, -1], [2, -3], [1, 1]], cluster_std=0.9)"
   ]
  },
  {
   "cell_type": "markdown",
   "metadata": {
    "button": false,
    "new_sheet": false,
    "run_control": {
     "read_only": false
    }
   },
   "source": [
    "Display the scatter plot of the randomly generated data."
   ]
  },
  {
   "cell_type": "code",
   "execution_count": 4,
   "metadata": {
    "ExecuteTime": {
     "end_time": "2020-05-22T16:11:26.843966Z",
     "start_time": "2020-05-22T16:11:26.383693Z"
    },
    "button": false,
    "new_sheet": false,
    "run_control": {
     "read_only": false
    }
   },
   "outputs": [
    {
     "data": {
      "text/plain": [
       "<matplotlib.collections.PathCollection at 0x24a25f42888>"
      ]
     },
     "execution_count": 4,
     "metadata": {},
     "output_type": "execute_result"
    },
    {
     "data": {
      "image/png": "[encoded data removed]",
      "text/plain": [
       "<Figure size 432x288 with 1 Axes>"
      ]
     },
     "metadata": {
      "needs_background": "light"
     },
     "output_type": "display_data"
    }
   ],
   "source": [
    "plt.scatter(X[:, 0], X[:, 1], marker='.')"
   ]
  },
  {
   "cell_type": "markdown",
   "metadata": {
    "button": false,
    "new_sheet": false,
    "run_control": {
     "read_only": false
    }
   },
   "source": [
    "<h2 id=\"setting_up_K_means\">Setting up K-Means</h2>\n",
    "Now that we have our random data, let's set up our K-Means Clustering."
   ]
  },
  {
   "cell_type": "markdown",
   "metadata": {
    "button": false,
    "new_sheet": false,
    "run_control": {
     "read_only": false
    }
   },
   "source": [
    "The KMeans class has many parameters that can be used, but we will be using these three:\n",
    "<ul>\n",
    "    <li> <b>init</b>: Initialization method of the centroids. </li>\n",
    "    <ul>\n",
    "        <li> Value will be: \"k-means++\" </li>\n",
    "        <li> k-means++: Selects initial cluster centers for k-mean clustering in a smart way to speed up convergence.</li>\n",
    "    </ul>\n",
    "    <li> <b>n_clusters</b>: The number of clusters to form as well as the number of centroids to generate. </li>\n",
    "    <ul> <li> Value will be: 4 (since we have 4 centers)</li> </ul>\n",
    "    <li> <b>n_init</b>: Number of time the k-means algorithm will be run with different centroid seeds. The final results will be the best output of n_init consecutive runs in terms of inertia. </li>\n",
    "    <ul> <li> Value will be: 12 </li> </ul>\n",
    "</ul>\n",
    "\n",
    "Initialize KMeans with these parameters, where the output parameter is called <b>k_means</b>."
   ]
  },
  {
   "cell_type": "code",
   "execution_count": 5,
   "metadata": {
    "ExecuteTime": {
     "end_time": "2020-05-22T16:12:06.952300Z",
     "start_time": "2020-05-22T16:12:06.937119Z"
    },
    "button": false,
    "new_sheet": false,
    "run_control": {
     "read_only": false
    }
   },
   "outputs": [],
   "source": [
    "k_means = KMeans(init = \"k-means++\", n_clusters = 4, n_init = 12)"
   ]
  },
  {
   "cell_type": "markdown",
   "metadata": {
    "button": false,
    "new_sheet": false,
    "run_control": {
     "read_only": false
    }
   },
   "source": [
    "Now let's fit the KMeans model with the feature matrix we created above, <b> X </b>"
   ]
  },
  {
   "cell_type": "code",
   "execution_count": 6,
   "metadata": {
    "ExecuteTime": {
     "end_time": "2020-05-22T16:12:12.669090Z",
     "start_time": "2020-05-22T16:12:12.475066Z"
    },
    "button": false,
    "new_sheet": false,
    "run_control": {
     "read_only": false
    },
    "scrolled": false
   },
   "outputs": [
    {
     "data": {
      "text/plain": [
       "KMeans(algorithm='auto', copy_x=True, init='k-means++', max_iter=300,\n",
       "       n_clusters=4, n_init=12, n_jobs=None, precompute_distances='auto',\n",
       "       random_state=None, tol=0.0001, verbose=0)"
      ]
     },
     "execution_count": 6,
     "metadata": {},
     "output_type": "execute_result"
    }
   ],
   "source": [
    "k_means.fit(X)"
   ]
  },
  {
   "cell_type": "markdown",
   "metadata": {
    "button": false,
    "new_sheet": false,
    "run_control": {
     "read_only": false
    }
   },
   "source": [
    "Now let's grab the labels for each point in the model using KMeans' <b> .labels\\_ </b> attribute and save it as <b> k_means_labels </b> "
   ]
  },
  {
   "cell_type": "code",
   "execution_count": 7,
   "metadata": {
    "ExecuteTime": {
     "end_time": "2020-05-22T16:12:27.214271Z",
     "start_time": "2020-05-22T16:12:27.177072Z"
    },
    "button": false,
    "new_sheet": false,
    "run_control": {
     "read_only": false
    }
   },
   "outputs": [
    {
     "data": {
      "text/plain": [
       "array([0, 2, 2, ..., 3, 0, 0])"
      ]
     },
     "execution_count": 7,
     "metadata": {},
     "output_type": "execute_result"
    }
   ],
   "source": [
    "k_means_labels = k_means.labels_\n",
    "k_means_labels"
   ]
  },
  {
   "cell_type": "markdown",
   "metadata": {
    "button": false,
    "new_sheet": false,
    "run_control": {
     "read_only": false
    }
   },
   "source": [
    "We will also get the coordinates of the cluster centers using KMeans' <b> .cluster&#95;centers&#95; </b> and save it as <b> k_means_cluster_centers </b>"
   ]
  },
  {
   "cell_type": "code",
   "execution_count": 8,
   "metadata": {
    "ExecuteTime": {
     "end_time": "2020-05-22T16:12:38.271004Z",
     "start_time": "2020-05-22T16:12:38.255753Z"
    },
    "button": false,
    "new_sheet": false,
    "run_control": {
     "read_only": false
    }
   },
   "outputs": [
    {
     "data": {
      "text/plain": [
       "array([[-2.03743147, -0.99782524],\n",
       "       [ 0.96900523,  0.98370298],\n",
       "       [ 1.99741008, -3.01666822],\n",
       "       [ 3.97334234,  3.98758687]])"
      ]
     },
     "execution_count": 8,
     "metadata": {},
     "output_type": "execute_result"
    }
   ],
   "source": [
    "k_means_cluster_centers = k_means.cluster_centers_\n",
    "k_means_cluster_centers"
   ]
  },
  {
   "cell_type": "markdown",
   "metadata": {
    "button": false,
    "new_sheet": false,
    "run_control": {
     "read_only": false
    }
   },
   "source": [
    "<h2 id=\"creating_visual_plot\">Creating the Visual Plot</h2>\n",
    "So now that we have the random data generated and the KMeans model initialized, let's plot them and see what it looks like!"
   ]
  },
  {
   "cell_type": "markdown",
   "metadata": {
    "button": false,
    "new_sheet": false,
    "run_control": {
     "read_only": false
    }
   },
   "source": [
    "Please read through the code and comments to understand how to plot the model."
   ]
  },
  {
   "cell_type": "code",
   "execution_count": 9,
   "metadata": {
    "ExecuteTime": {
     "end_time": "2020-05-22T16:12:58.821517Z",
     "start_time": "2020-05-22T16:12:58.537775Z"
    },
    "button": false,
    "new_sheet": false,
    "run_control": {
     "read_only": false
    },
    "scrolled": false
   },
   "outputs": [
    {
     "data": {
      "image/png": "[encoded data removed]",
      "text/plain": [
       "<Figure size 432x288 with 1 Axes>"
      ]
     },
     "metadata": {},
     "output_type": "display_data"
    }
   ],
   "source": [
    "# Initialize the plot with the specified dimensions.\n",
    "fig = plt.figure(figsize=(6, 4))\n",
    "\n",
    "# Colors uses a color map, which will produce an array of colors based on\n",
    "# the number of labels there are. We use set(k_means_labels) to get the\n",
    "# unique labels.\n",
    "colors = plt.cm.Spectral(np.linspace(0, 1, len(set(k_means_labels))))\n",
    "\n",
    "# Create a plot\n",
    "ax = fig.add_subplot(1, 1, 1)\n",
    "\n",
    "# For loop that plots the data points and centroids.\n",
    "# k will range from 0-3, which will match the possible clusters that each\n",
    "# data point is in.\n",
    "for k, col in zip(range(len([[4,4], [-2, -1], [2, -3], [1, 1]])), colors):\n",
    "\n",
    "    # Create a list of all data points, where the data poitns that are \n",
    "    # in the cluster (ex. cluster 0) are labeled as true, else they are\n",
    "    # labeled as false.\n",
    "    my_members = (k_means_labels == k)\n",
    "    \n",
    "    # Define the centroid, or cluster center.\n",
    "    cluster_center = k_means_cluster_centers[k]\n",
    "    \n",
    "    # Plots the datapoints with color col.\n",
    "    ax.plot(X[my_members, 0], X[my_members, 1], 'w', markerfacecolor=col, marker='.')\n",
    "    \n",
    "    # Plots the centroids with specified color, but with a darker outline\n",
    "    ax.plot(cluster_center[0], cluster_center[1], 'o', markerfacecolor=col,  markeredgecolor='k', markersize=6)\n",
    "\n",
    "# Title of the plot\n",
    "ax.set_title('KMeans')\n",
    "\n",
    "# Remove x-axis ticks\n",
    "ax.set_xticks(())\n",
    "\n",
    "# Remove y-axis ticks\n",
    "ax.set_yticks(())\n",
    "\n",
    "# Show the plot\n",
    "plt.show()\n"
   ]
  },
  {
   "cell_type": "markdown",
   "metadata": {},
   "source": [
    "## Practice\n",
    "Try to cluster the above dataset into 3 clusters.  \n",
    "Notice: do not generate data again, use the same dataset as above."
   ]
  },
  {
   "cell_type": "code",
   "execution_count": 11,
   "metadata": {
    "ExecuteTime": {
     "end_time": "2020-05-22T16:15:03.194309Z",
     "start_time": "2020-05-22T16:15:02.759882Z"
    }
   },
   "outputs": [
    {
     "data": {
      "image/png": "[encoded data removed]",
      "text/plain": [
       "<Figure size 432x288 with 1 Axes>"
      ]
     },
     "metadata": {},
     "output_type": "display_data"
    }
   ],
   "source": [
    "# write your code here\n",
    "k_means = KMeans(init = \"k-means++\", n_clusters = 3, n_init = 12)\n",
    "k_means.fit(X)\n",
    "k_means_labels = k_means.labels_\n",
    "k_means_labels\n",
    "k_means_cluster_centers = k_means.cluster_centers_\n",
    "k_means_cluster_centers\n",
    "# Initialize the plot with the specified dimensions.\n",
    "fig = plt.figure(figsize=(6, 4))\n",
    "\n",
    "# Colors uses a color map, which will produce an array of colors based on\n",
    "# the number of labels there are. We use set(k_means_labels) to get the\n",
    "# unique labels.\n",
    "colors = plt.cm.Spectral(np.linspace(0, 1, len(set(k_means_labels))))\n",
    "\n",
    "# Create a plot\n",
    "ax = fig.add_subplot(1, 1, 1)\n",
    "\n",
    "# For loop that plots the data points and centroids.\n",
    "# k will range from 0-3, which will match the possible clusters that each\n",
    "# data point is in.\n",
    "for k, col in zip(range(len([[4,4], [-2, -1], [2, -3], [1, 1]])), colors):\n",
    "\n",
    "    # Create a list of all data points, where the data poitns that are \n",
    "    # in the cluster (ex. cluster 0) are labeled as true, else they are\n",
    "    # labeled as false.\n",
    "    my_members = (k_means_labels == k)\n",
    "    \n",
    "    # Define the centroid, or cluster center.\n",
    "    cluster_center = k_means_cluster_centers[k]\n",
    "    \n",
    "    # Plots the datapoints with color col.\n",
    "    ax.plot(X[my_members, 0], X[my_members, 1], 'w', markerfacecolor=col, marker='.')\n",
    "    \n",
    "    # Plots the centroids with specified color, but with a darker outline\n",
    "    ax.plot(cluster_center[0], cluster_center[1], 'o', markerfacecolor=col,  markeredgecolor='k', markersize=6)\n",
    "\n",
    "# Title of the plot\n",
    "ax.set_title('KMeans')\n",
    "\n",
    "# Remove x-axis ticks\n",
    "ax.set_xticks(())\n",
    "\n",
    "# Remove y-axis ticks\n",
    "ax.set_yticks(())\n",
    "\n",
    "# Show the plot\n",
    "plt.show()\n"
   ]
  },
  {
   "cell_type": "markdown",
   "metadata": {},
   "source": [
    "Double-click __here__ for the solution.\n",
    "\n",
    "<!-- Your answer is below:\n",
    "\n",
    "k_means3 = KMeans(init = \"k-means++\", n_clusters = 3, n_init = 12)\n",
    "k_means3.fit(X)\n",
    "fig = plt.figure(figsize=(6, 4))\n",
    "colors = plt.cm.Spectral(np.linspace(0, 1, len(set(k_means3.labels_))))\n",
    "ax = fig.add_subplot(1, 1, 1)\n",
    "for k, col in zip(range(len(k_means3.cluster_centers_)), colors):\n",
    "    my_members = (k_means3.labels_ == k)\n",
    "    cluster_center = k_means3.cluster_centers_[k]\n",
    "    ax.plot(X[my_members, 0], X[my_members, 1], 'w', markerfacecolor=col, marker='.')\n",
    "    ax.plot(cluster_center[0], cluster_center[1], 'o', markerfacecolor=col,  markeredgecolor='k', markersize=6)\n",
    "plt.show()\n",
    "\n",
    "\n",
    "-->"
   ]
  },
  {
   "cell_type": "markdown",
   "metadata": {
    "button": false,
    "new_sheet": false,
    "run_control": {
     "read_only": false
    }
   },
   "source": [
    "<h2> Project 2: Real customer Segmentation with K-Means</h2>\n",
    "\n",
    "Imagine that you have a customer dataset, and you need to apply customer segmentation on this historical data.\n",
    "Customer segmentation is the practice of partitioning a customer base into groups of individuals that have similar characteristics. It is a significant strategy as a business can target these specific groups of customers and effectively allocate marketing resources. For example, one group might contain customers who are high-profit and low-risk, that is, more likely to purchase products, or subscribe for a service. A business task is to retaining those customers. Another group might include customers from non-profit organizations. And so on.\n",
    "\n",
    "Lets download the dataset. To download the data, we will use **`!wget`** to download it from IBM Object Storage.  \n",
    "__Did you know?__ When it comes to Machine Learning, you will likely be working with large datasets. As a business, where can you host your data? IBM is offering a unique opportunity for businesses, with 10 Tb of IBM Cloud Object Storage: [Sign up now for free](http://cocl.us/ML0101EN-IBM-Offer-CC)"
   ]
  },
  {
   "cell_type": "code",
   "execution_count": 12,
   "metadata": {
    "ExecuteTime": {
     "end_time": "2020-05-22T16:15:44.545387Z",
     "start_time": "2020-05-22T16:15:44.514378Z"
    },
    "button": false,
    "new_sheet": false,
    "run_control": {
     "read_only": false
    }
   },
   "outputs": [],
   "source": [
    "path=\"https://s3-api.us-geo.objectstorage.softlayer.net/cf-courses-data/CognitiveClass/ML0101ENv3/labs/Cust_Segmentation.csv\""
   ]
  },
  {
   "cell_type": "markdown",
   "metadata": {
    "button": false,
    "new_sheet": false,
    "run_control": {
     "read_only": false
    }
   },
   "source": [
    "## Load Data From CSV File  \n",
    "Before you can work with the data, you must use the URL to get the Cust_Segmentation.csv."
   ]
  },
  {
   "cell_type": "code",
   "execution_count": 13,
   "metadata": {
    "ExecuteTime": {
     "end_time": "2020-05-22T16:15:59.008811Z",
     "start_time": "2020-05-22T16:15:57.434777Z"
    },
    "button": false,
    "new_sheet": false,
    "run_control": {
     "read_only": false
    },
    "scrolled": true
   },
   "outputs": [
    {
     "data": {
      "text/html": [
       "<div>\n",
       "<style scoped>\n",
       "    .dataframe tbody tr th:only-of-type {\n",
       "        vertical-align: middle;\n",
       "    }\n",
       "\n",
       "    .dataframe tbody tr th {\n",
       "        vertical-align: top;\n",
       "    }\n",
       "\n",
       "    .dataframe thead th {\n",
       "        text-align: right;\n",
       "    }\n",
       "</style>\n",
       "<table border=\"1\" class=\"dataframe\">\n",
       "  <thead>\n",
       "    <tr style=\"text-align: right;\">\n",
       "      <th></th>\n",
       "      <th>Customer Id</th>\n",
       "      <th>Age</th>\n",
       "      <th>Edu</th>\n",
       "      <th>Years Employed</th>\n",
       "      <th>Income</th>\n",
       "      <th>Card Debt</th>\n",
       "      <th>Other Debt</th>\n",
       "      <th>Defaulted</th>\n",
       "      <th>Address</th>\n",
       "      <th>DebtIncomeRatio</th>\n",
       "    </tr>\n",
       "  </thead>\n",
       "  <tbody>\n",
       "    <tr>\n",
       "      <th>0</th>\n",
       "      <td>1</td>\n",
       "      <td>41</td>\n",
       "      <td>2</td>\n",
       "      <td>6</td>\n",
       "      <td>19</td>\n",
       "      <td>0.124</td>\n",
       "      <td>1.073</td>\n",
       "      <td>0.0</td>\n",
       "      <td>NBA001</td>\n",
       "      <td>6.3</td>\n",
       "    </tr>\n",
       "    <tr>\n",
       "      <th>1</th>\n",
       "      <td>2</td>\n",
       "      <td>47</td>\n",
       "      <td>1</td>\n",
       "      <td>26</td>\n",
       "      <td>100</td>\n",
       "      <td>4.582</td>\n",
       "      <td>8.218</td>\n",
       "      <td>0.0</td>\n",
       "      <td>NBA021</td>\n",
       "      <td>12.8</td>\n",
       "    </tr>\n",
       "    <tr>\n",
       "      <th>2</th>\n",
       "      <td>3</td>\n",
       "      <td>33</td>\n",
       "      <td>2</td>\n",
       "      <td>10</td>\n",
       "      <td>57</td>\n",
       "      <td>6.111</td>\n",
       "      <td>5.802</td>\n",
       "      <td>1.0</td>\n",
       "      <td>NBA013</td>\n",
       "      <td>20.9</td>\n",
       "    </tr>\n",
       "    <tr>\n",
       "      <th>3</th>\n",
       "      <td>4</td>\n",
       "      <td>29</td>\n",
       "      <td>2</td>\n",
       "      <td>4</td>\n",
       "      <td>19</td>\n",
       "      <td>0.681</td>\n",
       "      <td>0.516</td>\n",
       "      <td>0.0</td>\n",
       "      <td>NBA009</td>\n",
       "      <td>6.3</td>\n",
       "    </tr>\n",
       "    <tr>\n",
       "      <th>4</th>\n",
       "      <td>5</td>\n",
       "      <td>47</td>\n",
       "      <td>1</td>\n",
       "      <td>31</td>\n",
       "      <td>253</td>\n",
       "      <td>9.308</td>\n",
       "      <td>8.908</td>\n",
       "      <td>0.0</td>\n",
       "      <td>NBA008</td>\n",
       "      <td>7.2</td>\n",
       "    </tr>\n",
       "  </tbody>\n",
       "</table>\n",
       "</div>"
      ],
      "text/plain": [
       "   Customer Id  Age  Edu  Years Employed  Income  Card Debt  Other Debt  \\\n",
       "0            1   41    2               6      19      0.124       1.073   \n",
       "1            2   47    1              26     100      4.582       8.218   \n",
       "2            3   33    2              10      57      6.111       5.802   \n",
       "3            4   29    2               4      19      0.681       0.516   \n",
       "4            5   47    1              31     253      9.308       8.908   \n",
       "\n",
       "   Defaulted Address  DebtIncomeRatio  \n",
       "0        0.0  NBA001              6.3  \n",
       "1        0.0  NBA021             12.8  \n",
       "2        1.0  NBA013             20.9  \n",
       "3        0.0  NBA009              6.3  \n",
       "4        0.0  NBA008              7.2  "
      ]
     },
     "execution_count": 13,
     "metadata": {},
     "output_type": "execute_result"
    }
   ],
   "source": [
    "import pandas as pd\n",
    "cust_df = pd.read_csv(path)\n",
    "cust_df.head()"
   ]
  },
  {
   "cell_type": "code",
   "execution_count": 14,
   "metadata": {
    "ExecuteTime": {
     "end_time": "2020-05-22T16:16:21.092677Z",
     "start_time": "2020-05-22T16:16:21.052754Z"
    }
   },
   "outputs": [
    {
     "data": {
      "text/plain": [
       "(850, 10)"
      ]
     },
     "execution_count": 14,
     "metadata": {},
     "output_type": "execute_result"
    }
   ],
   "source": [
    "cust_df.shape"
   ]
  },
  {
   "cell_type": "code",
   "execution_count": 15,
   "metadata": {
    "ExecuteTime": {
     "end_time": "2020-05-22T16:17:19.056386Z",
     "start_time": "2020-05-22T16:17:18.988164Z"
    }
   },
   "outputs": [
    {
     "name": "stdout",
     "output_type": "stream",
     "text": [
      "<class 'pandas.core.frame.DataFrame'>\n",
      "RangeIndex: 850 entries, 0 to 849\n",
      "Data columns (total 10 columns):\n",
      " #   Column           Non-Null Count  Dtype  \n",
      "---  ------           --------------  -----  \n",
      " 0   Customer Id      850 non-null    int64  \n",
      " 1   Age              850 non-null    int64  \n",
      " 2   Edu              850 non-null    int64  \n",
      " 3   Years Employed   850 non-null    int64  \n",
      " 4   Income           850 non-null    int64  \n",
      " 5   Card Debt        850 non-null    float64\n",
      " 6   Other Debt       850 non-null    float64\n",
      " 7   Defaulted        700 non-null    float64\n",
      " 8   Address          850 non-null    object \n",
      " 9   DebtIncomeRatio  850 non-null    float64\n",
      "dtypes: float64(4), int64(5), object(1)\n",
      "memory usage: 66.5+ KB\n"
     ]
    }
   ],
   "source": [
    "cust_df.info()"
   ]
  },
  {
   "cell_type": "markdown",
   "metadata": {},
   "source": [
    "<h2 id=\"pre_processing\">Pre-processing</h2"
   ]
  },
  {
   "cell_type": "markdown",
   "metadata": {
    "button": false,
    "new_sheet": false,
    "run_control": {
     "read_only": false
    }
   },
   "source": [
    "As you can see, __Address__ in this dataset is a categorical variable. k-means algorithm isn't directly applicable to categorical variables because Euclidean distance function isn't really meaningful for discrete variables. So, lets drop this feature and run clustering."
   ]
  },
  {
   "cell_type": "code",
   "execution_count": 16,
   "metadata": {
    "ExecuteTime": {
     "end_time": "2020-05-22T16:17:51.855823Z",
     "start_time": "2020-05-22T16:17:51.804435Z"
    },
    "button": false,
    "new_sheet": false,
    "run_control": {
     "read_only": false
    }
   },
   "outputs": [
    {
     "data": {
      "text/html": [
       "<div>\n",
       "<style scoped>\n",
       "    .dataframe tbody tr th:only-of-type {\n",
       "        vertical-align: middle;\n",
       "    }\n",
       "\n",
       "    .dataframe tbody tr th {\n",
       "        vertical-align: top;\n",
       "    }\n",
       "\n",
       "    .dataframe thead th {\n",
       "        text-align: right;\n",
       "    }\n",
       "</style>\n",
       "<table border=\"1\" class=\"dataframe\">\n",
       "  <thead>\n",
       "    <tr style=\"text-align: right;\">\n",
       "      <th></th>\n",
       "      <th>Customer Id</th>\n",
       "      <th>Age</th>\n",
       "      <th>Edu</th>\n",
       "      <th>Years Employed</th>\n",
       "      <th>Income</th>\n",
       "      <th>Card Debt</th>\n",
       "      <th>Other Debt</th>\n",
       "      <th>Defaulted</th>\n",
       "      <th>DebtIncomeRatio</th>\n",
       "    </tr>\n",
       "  </thead>\n",
       "  <tbody>\n",
       "    <tr>\n",
       "      <th>0</th>\n",
       "      <td>1</td>\n",
       "      <td>41</td>\n",
       "      <td>2</td>\n",
       "      <td>6</td>\n",
       "      <td>19</td>\n",
       "      <td>0.124</td>\n",
       "      <td>1.073</td>\n",
       "      <td>0.0</td>\n",
       "      <td>6.3</td>\n",
       "    </tr>\n",
       "    <tr>\n",
       "      <th>1</th>\n",
       "      <td>2</td>\n",
       "      <td>47</td>\n",
       "      <td>1</td>\n",
       "      <td>26</td>\n",
       "      <td>100</td>\n",
       "      <td>4.582</td>\n",
       "      <td>8.218</td>\n",
       "      <td>0.0</td>\n",
       "      <td>12.8</td>\n",
       "    </tr>\n",
       "    <tr>\n",
       "      <th>2</th>\n",
       "      <td>3</td>\n",
       "      <td>33</td>\n",
       "      <td>2</td>\n",
       "      <td>10</td>\n",
       "      <td>57</td>\n",
       "      <td>6.111</td>\n",
       "      <td>5.802</td>\n",
       "      <td>1.0</td>\n",
       "      <td>20.9</td>\n",
       "    </tr>\n",
       "    <tr>\n",
       "      <th>3</th>\n",
       "      <td>4</td>\n",
       "      <td>29</td>\n",
       "      <td>2</td>\n",
       "      <td>4</td>\n",
       "      <td>19</td>\n",
       "      <td>0.681</td>\n",
       "      <td>0.516</td>\n",
       "      <td>0.0</td>\n",
       "      <td>6.3</td>\n",
       "    </tr>\n",
       "    <tr>\n",
       "      <th>4</th>\n",
       "      <td>5</td>\n",
       "      <td>47</td>\n",
       "      <td>1</td>\n",
       "      <td>31</td>\n",
       "      <td>253</td>\n",
       "      <td>9.308</td>\n",
       "      <td>8.908</td>\n",
       "      <td>0.0</td>\n",
       "      <td>7.2</td>\n",
       "    </tr>\n",
       "  </tbody>\n",
       "</table>\n",
       "</div>"
      ],
      "text/plain": [
       "   Customer Id  Age  Edu  Years Employed  Income  Card Debt  Other Debt  \\\n",
       "0            1   41    2               6      19      0.124       1.073   \n",
       "1            2   47    1              26     100      4.582       8.218   \n",
       "2            3   33    2              10      57      6.111       5.802   \n",
       "3            4   29    2               4      19      0.681       0.516   \n",
       "4            5   47    1              31     253      9.308       8.908   \n",
       "\n",
       "   Defaulted  DebtIncomeRatio  \n",
       "0        0.0              6.3  \n",
       "1        0.0             12.8  \n",
       "2        1.0             20.9  \n",
       "3        0.0              6.3  \n",
       "4        0.0              7.2  "
      ]
     },
     "execution_count": 16,
     "metadata": {},
     "output_type": "execute_result"
    }
   ],
   "source": [
    "df = cust_df.drop('Address', axis=1)\n",
    "df.head()"
   ]
  },
  {
   "cell_type": "code",
   "execution_count": 17,
   "metadata": {
    "ExecuteTime": {
     "end_time": "2020-05-22T16:18:08.431284Z",
     "start_time": "2020-05-22T16:18:08.400217Z"
    }
   },
   "outputs": [
    {
     "data": {
      "text/plain": [
       "(850, 9)"
      ]
     },
     "execution_count": 17,
     "metadata": {},
     "output_type": "execute_result"
    }
   ],
   "source": [
    "df.shape"
   ]
  },
  {
   "cell_type": "markdown",
   "metadata": {
    "button": false,
    "new_sheet": false,
    "run_control": {
     "read_only": false
    }
   },
   "source": [
    "## Normalizing over the standard deviation\n",
    "Now let's normalize the dataset. But why do we need normalization in the first place? Normalization is a statistical method that helps mathematical-based algorithms to interpret features with different magnitudes and distributions equally. We use __StandardScaler()__ to normalize our dataset."
   ]
  },
  {
   "cell_type": "code",
   "execution_count": 51,
   "metadata": {
    "ExecuteTime": {
     "end_time": "2020-05-22T18:12:07.404383Z",
     "start_time": "2020-05-22T18:12:07.389162Z"
    },
    "button": false,
    "new_sheet": false,
    "run_control": {
     "read_only": false
    }
   },
   "outputs": [],
   "source": [
    "from sklearn.preprocessing import StandardScaler\n",
    "X = df.values[:,1:]\n",
    "X = np.nan_to_num(X)\n",
    "Clus_dataSet = StandardScaler().fit_transform(X)\n",
    "X=Clus_dataSet"
   ]
  },
  {
   "cell_type": "markdown",
   "metadata": {},
   "source": [
    "<h2 id=\"modeling\">Modeling</h2>"
   ]
  },
  {
   "cell_type": "markdown",
   "metadata": {
    "button": false,
    "new_sheet": false,
    "run_control": {
     "read_only": false
    }
   },
   "source": [
    "In our example (if we didn't have access to the k-means algorithm), it would be the same as guessing that each customer group would have certain age, income, education, etc, with multiple tests and experiments. However, using the K-means clustering we can do all this process much easier.\n",
    "\n",
    "Lets apply k-means on our dataset, and take look at cluster labels."
   ]
  },
  {
   "cell_type": "code",
   "execution_count": 59,
   "metadata": {
    "ExecuteTime": {
     "end_time": "2020-05-22T18:13:10.588638Z",
     "start_time": "2020-05-22T18:13:10.474867Z"
    },
    "button": false,
    "new_sheet": false,
    "run_control": {
     "read_only": false
    }
   },
   "outputs": [
    {
     "name": "stdout",
     "output_type": "stream",
     "text": [
      "[1 0 0 1 0 0 0 0 1 0 0 0 1 1 1 1 1 1 0 1 1 0 0 0 0 0 1 0 0 0 0 0 1 1 0 1 1\n",
      " 1 1 0 1 0 1 0 1 0 1 1 1 0 0 0 1 0 0 1 1 1 0 0 0 0 0 0 1 0 0 1 1 1 0 0 0 0\n",
      " 1 1 0 1 0 0 0 0 0 1 0 1 1 1 1 1 0 1 1 1 1 0 1 1 1 1 1 0 0 0 1 0 1 1 0 0 0\n",
      " 1 0 1 1 1 1 0 0 1 1 1 1 0 0 0 1 1 1 1 0 0 1 1 1 1 0 1 1 1 0 1 0 1 0 1 0 0\n",
      " 1 1 0 0 1 1 0 0 0 0 1 0 1 0 0 0 1 1 1 1 1 0 0 1 1 1 1 1 0 1 1 0 0 0 1 0 1\n",
      " 0 1 1 0 0 1 0 0 1 0 1 1 0 0 1 0 1 1 1 1 0 1 0 0 1 1 0 0 0 1 1 0 0 0 0 1 0\n",
      " 1 1 1 1 0 1 1 0 0 1 0 1 0 1 0 1 0 1 1 0 1 1 1 0 0 0 0 1 1 1 1 1 0 0 0 1 1\n",
      " 1 1 0 0 1 0 0 0 0 1 0 1 1 0 0 1 1 1 0 1 1 1 0 0 1 0 1 0 1 0 0 1 0 1 0 1 1\n",
      " 1 1 1 0 0 0 1 1 1 0 0 1 0 0 0 1 1 1 0 1 1 1 0 1 0 1 0 1 1 0 1 1 0 0 0 0 1\n",
      " 1 0 1 1 0 1 0 0 0 1 1 0 0 1 1 1 1 0 1 0 1 1 1 0 1 1 1 0 1 1 1 0 1 0 0 0 0\n",
      " 1 1 0 1 1 1 1 0 1 1 1 1 1 1 0 1 0 1 1 1 1 0 0 0 1 0 1 0 0 1 1 1 1 1 1 0 1\n",
      " 0 0 1 0 0 0 1 1 0 0 1 0 1 0 0 1 1 0 0 1 1 0 1 0 1 1 1 0 1 1 1 0 0 0 0 1 0\n",
      " 0 0 0 0 0 0 0 1 1 1 0 1 1 1 1 0 0 0 1 1 1 1 0 1 0 0 0 0 0 0 0 1 0 1 1 1 0\n",
      " 1 0 1 1 1 0 0 1 1 1 0 0 0 1 1 1 0 0 1 1 1 0 0 1 1 1 1 0 1 1 1 1 0 0 1 1 1\n",
      " 1 0 0 1 1 1 0 1 1 0 1 1 1 1 0 0 1 1 1 1 1 0 0 0 1 0 0 0 0 1 0 1 0 0 1 0 0\n",
      " 1 0 1 1 1 0 0 1 0 1 0 0 1 0 1 0 0 1 1 0 1 1 1 1 0 0 1 0 0 0 1 0 1 1 0 1 0\n",
      " 0 0 1 1 1 1 0 0 0 0 1 0 1 0 1 1 1 1 1 1 1 1 0 0 0 1 0 1 0 1 1 1 1 1 1 1 0\n",
      " 0 0 1 0 0 0 1 1 0 1 0 1 1 0 1 0 0 0 1 1 1 1 1 0 0 1 1 1 0 0 1 1 1 0 0 1 0\n",
      " 0 1 1 1 0 0 0 1 1 0 1 0 1 1 0 1 0 0 1 0 1 0 1 1 1 1 1 0 1 1 0 1 1 1 1 0 1\n",
      " 1 1 0 1 1 0 1 0 1 0 0 0 1 1 0 0 0 1 1 1 1 1 0 1 1 1 0 0 0 1 0 0 0 1 0 0 0\n",
      " 1 0 1 1 0 0 0 0 1 1 1 1 1 1 1 1 1 1 0 1 0 0 1 0 1 1 0 0 1 0 1 1 1 0 0 0 0\n",
      " 1 0 1 1 0 0 0 0 1 0 1 1 1 0 0 0 0 1 1 1 1 1 1 1 0 1 1 0 1 0 1 0 1 1 1 1 0\n",
      " 1 1 1 1 1 0 1 0 1 1 1 0 0 1 1 1 0 1 0 1 1 1 1 1 1 1 1 0 0 0 0 1 1 1 1 0]\n"
     ]
    }
   ],
   "source": [
    "clusterNum = 2\n",
    "k_means = KMeans(init = \"k-means++\", n_clusters = clusterNum, n_init = 12)\n",
    "k_means.fit(X)\n",
    "labels = k_means.labels_\n",
    "print(labels)"
   ]
  },
  {
   "cell_type": "markdown",
   "metadata": {
    "button": false,
    "new_sheet": false,
    "run_control": {
     "read_only": false
    }
   },
   "source": [
    "<h2 id=\"insights\">Insights</h2>\n",
    "We assign the labels to each row in dataframe."
   ]
  },
  {
   "cell_type": "code",
   "execution_count": 60,
   "metadata": {
    "ExecuteTime": {
     "end_time": "2020-05-22T18:13:13.358227Z",
     "start_time": "2020-05-22T18:13:13.317792Z"
    },
    "button": false,
    "new_sheet": false,
    "run_control": {
     "read_only": false
    },
    "scrolled": true
   },
   "outputs": [
    {
     "data": {
      "text/html": [
       "<div>\n",
       "<style scoped>\n",
       "    .dataframe tbody tr th:only-of-type {\n",
       "        vertical-align: middle;\n",
       "    }\n",
       "\n",
       "    .dataframe tbody tr th {\n",
       "        vertical-align: top;\n",
       "    }\n",
       "\n",
       "    .dataframe thead th {\n",
       "        text-align: right;\n",
       "    }\n",
       "</style>\n",
       "<table border=\"1\" class=\"dataframe\">\n",
       "  <thead>\n",
       "    <tr style=\"text-align: right;\">\n",
       "      <th></th>\n",
       "      <th>Customer Id</th>\n",
       "      <th>Age</th>\n",
       "      <th>Edu</th>\n",
       "      <th>Years Employed</th>\n",
       "      <th>Income</th>\n",
       "      <th>Card Debt</th>\n",
       "      <th>Other Debt</th>\n",
       "      <th>Defaulted</th>\n",
       "      <th>DebtIncomeRatio</th>\n",
       "      <th>Clus_km</th>\n",
       "    </tr>\n",
       "  </thead>\n",
       "  <tbody>\n",
       "    <tr>\n",
       "      <th>0</th>\n",
       "      <td>1</td>\n",
       "      <td>41</td>\n",
       "      <td>2</td>\n",
       "      <td>6</td>\n",
       "      <td>19</td>\n",
       "      <td>0.124</td>\n",
       "      <td>1.073</td>\n",
       "      <td>0.0</td>\n",
       "      <td>6.3</td>\n",
       "      <td>1</td>\n",
       "    </tr>\n",
       "    <tr>\n",
       "      <th>1</th>\n",
       "      <td>2</td>\n",
       "      <td>47</td>\n",
       "      <td>1</td>\n",
       "      <td>26</td>\n",
       "      <td>100</td>\n",
       "      <td>4.582</td>\n",
       "      <td>8.218</td>\n",
       "      <td>0.0</td>\n",
       "      <td>12.8</td>\n",
       "      <td>0</td>\n",
       "    </tr>\n",
       "    <tr>\n",
       "      <th>2</th>\n",
       "      <td>3</td>\n",
       "      <td>33</td>\n",
       "      <td>2</td>\n",
       "      <td>10</td>\n",
       "      <td>57</td>\n",
       "      <td>6.111</td>\n",
       "      <td>5.802</td>\n",
       "      <td>1.0</td>\n",
       "      <td>20.9</td>\n",
       "      <td>0</td>\n",
       "    </tr>\n",
       "    <tr>\n",
       "      <th>3</th>\n",
       "      <td>4</td>\n",
       "      <td>29</td>\n",
       "      <td>2</td>\n",
       "      <td>4</td>\n",
       "      <td>19</td>\n",
       "      <td>0.681</td>\n",
       "      <td>0.516</td>\n",
       "      <td>0.0</td>\n",
       "      <td>6.3</td>\n",
       "      <td>1</td>\n",
       "    </tr>\n",
       "    <tr>\n",
       "      <th>4</th>\n",
       "      <td>5</td>\n",
       "      <td>47</td>\n",
       "      <td>1</td>\n",
       "      <td>31</td>\n",
       "      <td>253</td>\n",
       "      <td>9.308</td>\n",
       "      <td>8.908</td>\n",
       "      <td>0.0</td>\n",
       "      <td>7.2</td>\n",
       "      <td>0</td>\n",
       "    </tr>\n",
       "  </tbody>\n",
       "</table>\n",
       "</div>"
      ],
      "text/plain": [
       "   Customer Id  Age  Edu  Years Employed  Income  Card Debt  Other Debt  \\\n",
       "0            1   41    2               6      19      0.124       1.073   \n",
       "1            2   47    1              26     100      4.582       8.218   \n",
       "2            3   33    2              10      57      6.111       5.802   \n",
       "3            4   29    2               4      19      0.681       0.516   \n",
       "4            5   47    1              31     253      9.308       8.908   \n",
       "\n",
       "   Defaulted  DebtIncomeRatio  Clus_km  \n",
       "0        0.0              6.3        1  \n",
       "1        0.0             12.8        0  \n",
       "2        1.0             20.9        0  \n",
       "3        0.0              6.3        1  \n",
       "4        0.0              7.2        0  "
      ]
     },
     "execution_count": 60,
     "metadata": {},
     "output_type": "execute_result"
    }
   ],
   "source": [
    "df[\"Clus_km\"] = labels\n",
    "df.head(5)"
   ]
  },
  {
   "cell_type": "code",
   "execution_count": 54,
   "metadata": {
    "ExecuteTime": {
     "end_time": "2020-05-22T18:12:15.939826Z",
     "start_time": "2020-05-22T18:12:15.902841Z"
    }
   },
   "outputs": [
    {
     "name": "stdout",
     "output_type": "stream",
     "text": [
      "<class 'pandas.core.frame.DataFrame'>\n",
      "RangeIndex: 850 entries, 0 to 849\n",
      "Data columns (total 10 columns):\n",
      " #   Column           Non-Null Count  Dtype  \n",
      "---  ------           --------------  -----  \n",
      " 0   Customer Id      850 non-null    int64  \n",
      " 1   Age              850 non-null    int64  \n",
      " 2   Edu              850 non-null    int64  \n",
      " 3   Years Employed   850 non-null    int64  \n",
      " 4   Income           850 non-null    int64  \n",
      " 5   Card Debt        850 non-null    float64\n",
      " 6   Other Debt       850 non-null    float64\n",
      " 7   Defaulted        700 non-null    float64\n",
      " 8   DebtIncomeRatio  850 non-null    float64\n",
      " 9   Clus_km          850 non-null    int32  \n",
      "dtypes: float64(4), int32(1), int64(5)\n",
      "memory usage: 63.2 KB\n"
     ]
    }
   ],
   "source": [
    "df.info()"
   ]
  },
  {
   "cell_type": "markdown",
   "metadata": {
    "button": false,
    "new_sheet": false,
    "run_control": {
     "read_only": false
    }
   },
   "source": [
    "We can easily check the centroid values by averaging the features in each cluster."
   ]
  },
  {
   "cell_type": "code",
   "execution_count": 61,
   "metadata": {
    "ExecuteTime": {
     "end_time": "2020-05-22T18:13:16.382457Z",
     "start_time": "2020-05-22T18:13:16.352365Z"
    },
    "button": false,
    "new_sheet": false,
    "run_control": {
     "read_only": false
    }
   },
   "outputs": [
    {
     "data": {
      "text/html": [
       "<div>\n",
       "<style scoped>\n",
       "    .dataframe tbody tr th:only-of-type {\n",
       "        vertical-align: middle;\n",
       "    }\n",
       "\n",
       "    .dataframe tbody tr th {\n",
       "        vertical-align: top;\n",
       "    }\n",
       "\n",
       "    .dataframe thead th {\n",
       "        text-align: right;\n",
       "    }\n",
       "</style>\n",
       "<table border=\"1\" class=\"dataframe\">\n",
       "  <thead>\n",
       "    <tr style=\"text-align: right;\">\n",
       "      <th></th>\n",
       "      <th>Customer Id</th>\n",
       "      <th>Age</th>\n",
       "      <th>Edu</th>\n",
       "      <th>Years Employed</th>\n",
       "      <th>Income</th>\n",
       "      <th>Card Debt</th>\n",
       "      <th>Other Debt</th>\n",
       "      <th>Defaulted</th>\n",
       "      <th>DebtIncomeRatio</th>\n",
       "    </tr>\n",
       "    <tr>\n",
       "      <th>Clus_km</th>\n",
       "      <th></th>\n",
       "      <th></th>\n",
       "      <th></th>\n",
       "      <th></th>\n",
       "      <th></th>\n",
       "      <th></th>\n",
       "      <th></th>\n",
       "      <th></th>\n",
       "      <th></th>\n",
       "    </tr>\n",
       "  </thead>\n",
       "  <tbody>\n",
       "    <tr>\n",
       "      <th>0</th>\n",
       "      <td>410.772846</td>\n",
       "      <td>39.921671</td>\n",
       "      <td>1.796345</td>\n",
       "      <td>13.715405</td>\n",
       "      <td>71.903394</td>\n",
       "      <td>2.511927</td>\n",
       "      <td>4.789005</td>\n",
       "      <td>0.193548</td>\n",
       "      <td>10.591906</td>\n",
       "    </tr>\n",
       "    <tr>\n",
       "      <th>1</th>\n",
       "      <td>437.578158</td>\n",
       "      <td>31.017131</td>\n",
       "      <td>1.640257</td>\n",
       "      <td>4.342612</td>\n",
       "      <td>25.985011</td>\n",
       "      <td>0.809912</td>\n",
       "      <td>1.676163</td>\n",
       "      <td>0.315385</td>\n",
       "      <td>9.826981</td>\n",
       "    </tr>\n",
       "  </tbody>\n",
       "</table>\n",
       "</div>"
      ],
      "text/plain": [
       "         Customer Id        Age       Edu  Years Employed     Income  \\\n",
       "Clus_km                                                                \n",
       "0         410.772846  39.921671  1.796345       13.715405  71.903394   \n",
       "1         437.578158  31.017131  1.640257        4.342612  25.985011   \n",
       "\n",
       "         Card Debt  Other Debt  Defaulted  DebtIncomeRatio  \n",
       "Clus_km                                                     \n",
       "0         2.511927    4.789005   0.193548        10.591906  \n",
       "1         0.809912    1.676163   0.315385         9.826981  "
      ]
     },
     "execution_count": 61,
     "metadata": {},
     "output_type": "execute_result"
    }
   ],
   "source": [
    "df.groupby('Clus_km').mean()"
   ]
  },
  {
   "cell_type": "markdown",
   "metadata": {},
   "source": [
    "Now, lets look at the distribution of customers based on their age and income:"
   ]
  },
  {
   "cell_type": "code",
   "execution_count": 62,
   "metadata": {
    "ExecuteTime": {
     "end_time": "2020-05-22T18:13:19.182482Z",
     "start_time": "2020-05-22T18:13:18.909977Z"
    },
    "button": false,
    "new_sheet": false,
    "run_control": {
     "read_only": false
    }
   },
   "outputs": [
    {
     "data": {
      "image/png": "[encoded data removed]",
      "text/plain": [
       "<Figure size 432x288 with 1 Axes>"
      ]
     },
     "metadata": {
      "needs_background": "light"
     },
     "output_type": "display_data"
    }
   ],
   "source": [
    "area = np.pi * ( X[:, 1])**2  \n",
    "plt.scatter(X[:, 0], X[:, 3], s=area, c=labels.astype(np.float), alpha=0.5)\n",
    "plt.xlabel('Age', fontsize=18)\n",
    "plt.ylabel('Income', fontsize=16)\n",
    "\n",
    "plt.show()\n"
   ]
  },
  {
   "cell_type": "code",
   "execution_count": 63,
   "metadata": {
    "ExecuteTime": {
     "end_time": "2020-05-22T18:13:24.192969Z",
     "start_time": "2020-05-22T18:13:23.852187Z"
    }
   },
   "outputs": [
    {
     "data": {
      "text/plain": [
       "<mpl_toolkits.mplot3d.art3d.Path3DCollection at 0x24a287f9408>"
      ]
     },
     "execution_count": 63,
     "metadata": {},
     "output_type": "execute_result"
    },
    {
     "data": {
      "image/png": "[encoded data removed]",
      "text/plain": [
       "<Figure size 576x432 with 1 Axes>"
      ]
     },
     "metadata": {
      "needs_background": "light"
     },
     "output_type": "display_data"
    }
   ],
   "source": [
    "from mpl_toolkits.mplot3d import Axes3D \n",
    "fig = plt.figure(1, figsize=(8, 6))\n",
    "plt.clf()\n",
    "ax = Axes3D(fig, rect=[0, 0, .95, 1], elev=48, azim=134)\n",
    "\n",
    "plt.cla()\n",
    "# plt.ylabel('Age', fontsize=18)\n",
    "# plt.xlabel('Income', fontsize=16)\n",
    "# plt.zlabel('Education', fontsize=16)\n",
    "ax.set_xlabel('Education')\n",
    "ax.set_ylabel('Age')\n",
    "ax.set_zlabel('Income')\n",
    "\n",
    "ax.scatter(X[:, 1], X[:, 0], X[:, 3], c= labels.astype(np.float))\n"
   ]
  },
  {
   "cell_type": "markdown",
   "metadata": {
    "button": false,
    "new_sheet": false,
    "run_control": {
     "read_only": false
    }
   },
   "source": [
    "k-means will partition your customers into mutually exclusive groups, for example, into 3 clusters. The customers in each cluster are similar to each other demographically.\n",
    "Now we can create a profile for each group, considering the common characteristics of each cluster. \n",
    "For example, the 3 clusters can be:\n",
    "\n",
    "- AFFLUENT, EDUCATED AND OLD AGED\n",
    "- MIDDLE AGED AND MIDDLE INCOME\n",
    "- YOUNG AND LOW INCOME"
   ]
  },
  {
   "cell_type": "markdown",
   "metadata": {},
   "source": [
    "## Elbow Method for optimal value of k in K-Means\n",
    "\n",
    "Although k-means worked well on this toy dataset, it is important to reiterate that a drawback of k-means is that we have to specify the number of clusters, k, before we know what the optimal k is. The number of clusters to choose may not always be so obvious in real-world applications, especially if we are working with a higher dimensional dataset that cannot be visualized.\n",
    "\n",
    "The elbow method is a useful graphical tool to estimate the optimal number of clusters k for a given task. Intuitively, we can say that, if k increases, the within-cluster SSE (“distortion”) will decrease. This is because the samples will be closer to the centroids they are assigned to.\n",
    "\n",
    "The idea behind the elbow method is to identify the value of k where the distortion begins to decrease most rapidly, which will become clearer if we plot the distortion for different values of k:\n",
    "\n"
   ]
  },
  {
   "cell_type": "code",
   "execution_count": 91,
   "metadata": {
    "ExecuteTime": {
     "end_time": "2020-05-22T18:48:01.730843Z",
     "start_time": "2020-05-22T18:48:00.679882Z"
    },
    "scrolled": true
   },
   "outputs": [
    {
     "data": {
      "image/png": "[encoded data removed]",
      "text/plain": [
       "<Figure size 432x288 with 1 Axes>"
      ]
     },
     "metadata": {
      "needs_background": "light"
     },
     "output_type": "display_data"
    }
   ],
   "source": [
    "from sklearn.cluster import KMeans\n",
    "from sklearn import metrics\n",
    "from scipy.spatial.distance import cdist\n",
    "import numpy as np\n",
    "import matplotlib.pyplot as plt\n",
    "\n",
    "distortions = []\n",
    "\n",
    "K = range(1,10)\n",
    "for k in K:\n",
    "    kmeanModel = KMeans(n_clusters=k).fit(X)\n",
    "    kmeanModel.fit(X)\n",
    "    distortions.append(sum(np.min(cdist(X, kmeanModel.cluster_centers_, 'euclidean'), axis=1)) / X.shape[0])\n",
    "\n",
    "# Plot the elbow\n",
    "plt.plot(K, distortions, 'bx-')\n",
    "plt.xlabel('k')\n",
    "plt.ylabel('Distortion')\n",
    "plt.title('The Elbow Method showing the optimal k')\n",
    "plt.show()"
   ]
  },
  {
   "cell_type": "code",
   "execution_count": 93,
   "metadata": {
    "ExecuteTime": {
     "end_time": "2020-05-22T18:49:02.402736Z",
     "start_time": "2020-05-22T18:49:02.255104Z"
    }
   },
   "outputs": [
    {
     "data": {
      "image/png": "[encoded data removed]",
      "text/plain": [
       "<Figure size 432x288 with 1 Axes>"
      ]
     },
     "metadata": {
      "needs_background": "light"
     },
     "output_type": "display_data"
    }
   ],
   "source": [
    "plt.plot(K,np.gradient(distortions))\n",
    "plt.show()"
   ]
  },
  {
   "cell_type": "markdown",
   "metadata": {},
   "source": [
    "# Project 3: Clustering for dataset exploration\n",
    "\n",
    "Learn how to discover the underlying groups (or \"clusters\") in a dataset. By the end of this chapter, you'll be clustering companies using their stock market prices, and distinguishing different species by clustering their measurements."
   ]
  },
  {
   "cell_type": "markdown",
   "metadata": {},
   "source": [
    "## Clustering 2D points\n",
    "\n",
    "From the scatter plot of the previous exercise, you saw that the points seem to separate into 3 clusters. You'll now create a KMeans model to find 3 clusters, and fit it to the data points from the previous exercise. After the model has been fit, you'll obtain the cluster labels for some new points using the .predict() method.\n",
    "\n",
    "You are given the array points from the previous exercise, and also an array new_points.\n",
    "\n",
    "- Import KMeans from sklearn.cluster.\n",
    "- Using KMeans(), create a KMeans instance called model to find 3 clusters. To specify the number of clusters, use the n_clusters keyword argument.\n",
    "- Use the .fit() method of model to fit the model to the array of points points.\n",
    "- Use the .predict() method of model to predict the cluster labels of new_points, assigning the result to labels.\n"
   ]
  },
  {
   "cell_type": "markdown",
   "metadata": {},
   "source": [
    "**Defining points array**"
   ]
  },
  {
   "cell_type": "code",
   "execution_count": 97,
   "metadata": {
    "ExecuteTime": {
     "end_time": "2020-05-22T19:26:29.842007Z",
     "start_time": "2020-05-22T19:26:29.772968Z"
    },
    "hide_input": true
   },
   "outputs": [],
   "source": [
    "points=np.array([[ 0.06544649, -0.76866376],\n",
    "       [-1.52901547, -0.42953079],\n",
    "       [ 1.70993371,  0.69885253],\n",
    "       [ 1.16779145,  1.01262638],\n",
    "       [-1.80110088, -0.31861296],\n",
    "       [-1.63567888, -0.02859535],\n",
    "       [ 1.21990375,  0.74643463],\n",
    "       [-0.26175155, -0.62492939],\n",
    "       [-1.61925804, -0.47983949],\n",
    "       [-1.84329582, -0.16694431],\n",
    "       [ 1.35999602,  0.94995827],\n",
    "       [ 0.42291856, -0.7349534 ],\n",
    "       [-1.68576139,  0.10686728],\n",
    "       [ 0.90629995,  1.09105162],\n",
    "       [-1.56478322, -0.84675394],\n",
    "       [-0.0257849 , -1.18672539],\n",
    "       [ 0.83027324,  1.14504612],\n",
    "       [ 1.22450432,  1.35066759],\n",
    "       [-0.15394596, -0.71704301],\n",
    "       [ 0.86358809,  1.06824613],\n",
    "       [-1.43386366, -0.2381297 ],\n",
    "       [ 0.03844769, -0.74635022],\n",
    "       [-1.58567922,  0.08499354],\n",
    "       [ 0.6359888 , -0.58477698],\n",
    "       [ 0.24417242, -0.53172465],\n",
    "       [-2.19680359,  0.49473677],\n",
    "       [ 1.0323503 , -0.55688   ],\n",
    "       [-0.28858067, -0.39972528],\n",
    "       [ 0.20597008, -0.80171536],\n",
    "       [-1.2107308 , -0.34924109],\n",
    "       [ 1.33423684,  0.7721489 ],\n",
    "       [ 1.19480152,  1.04788556],\n",
    "       [ 0.9917477 ,  0.89202008],\n",
    "       [-1.8356219 , -0.04839732],\n",
    "       [ 0.08415721, -0.71564326],\n",
    "       [-1.48970175, -0.19299604],\n",
    "       [ 0.38782418, -0.82060119],\n",
    "       [-0.01448044, -0.9779841 ],\n",
    "       [-2.0521341 , -0.02129125],\n",
    "       [ 0.10331194, -0.82162781],\n",
    "       [-0.44189315, -0.65710974],\n",
    "       [ 1.10390926,  1.02481182],\n",
    "       [-1.59227759, -0.17374038],\n",
    "       [-1.47344152, -0.02202853],\n",
    "       [-1.35514704,  0.22971067],\n",
    "       [ 0.0412337 , -1.23776622],\n",
    "       [ 0.4761517 , -1.13672124],\n",
    "       [ 1.04335676,  0.82345905],\n",
    "       [-0.07961882, -0.85677394],\n",
    "       [ 0.87065059,  1.08052841],\n",
    "       [ 1.40267313,  1.07525119],\n",
    "       [ 0.80111157,  1.28342825],\n",
    "       [-0.16527516, -1.23583804],\n",
    "       [-0.33779221, -0.59194323],\n",
    "       [ 0.80610749, -0.73752159],\n",
    "       [-1.43590032, -0.56384446],\n",
    "       [ 0.54868895, -0.95143829],\n",
    "       [ 0.46803131, -0.74973907],\n",
    "       [-1.5137129 , -0.83914323],\n",
    "       [ 0.9138436 ,  1.51126532],\n",
    "       [-1.97233903, -0.41155375],\n",
    "       [ 0.5213406 , -0.88654894],\n",
    "       [ 0.62759494, -1.18590477],\n",
    "       [ 0.94163014,  1.35399335],\n",
    "       [ 0.56994768,  1.07036606],\n",
    "       [-1.87663382,  0.14745773],\n",
    "       [ 0.90612186,  0.91084011],\n",
    "       [-1.37481454,  0.28428395],\n",
    "       [-1.80564029, -0.96710574],\n",
    "       [ 0.34307757, -0.79999275],\n",
    "       [ 0.70380566,  1.00025804],\n",
    "       [-1.68489862, -0.30564595],\n",
    "       [ 1.31473221,  0.98614978],\n",
    "       [ 0.26151216, -0.26069251],\n",
    "       [ 0.9193121 ,  0.82371485],\n",
    "       [-1.21795929, -0.20219674],\n",
    "       [-0.17722723, -1.02665245],\n",
    "       [ 0.64824862, -0.66822881],\n",
    "       [ 0.41206786, -0.28783784],\n",
    "       [ 1.01568202,  1.13481667],\n",
    "       [ 0.67900254, -0.91489502],\n",
    "       [-1.05182747, -0.01062376],\n",
    "       [ 0.61306599,  1.78210384],\n",
    "       [-1.50219748, -0.52308922],\n",
    "       [-1.72717293, -0.46173916],\n",
    "       [-1.60995631, -0.1821007 ],\n",
    "       [-1.09111021, -0.0781398 ],\n",
    "       [-0.01046978, -0.80913034],\n",
    "       [ 0.32782303, -0.80734754],\n",
    "       [ 1.22038503,  1.1959793 ],\n",
    "       [-1.33328681, -0.30001937],\n",
    "       [ 0.87959517,  1.11566491],\n",
    "       [-1.14829098, -0.30400762],\n",
    "       [-0.58019755, -1.19996018],\n",
    "       [-0.01161159, -0.78468854],\n",
    "       [ 0.17359724, -0.63398145],\n",
    "       [ 1.32738556,  0.67759969],\n",
    "       [-1.93467327,  0.30572472],\n",
    "       [-1.57761893, -0.27726365],\n",
    "       [ 0.47639   ,  1.21422648],\n",
    "       [-1.65237509, -0.6803981 ],\n",
    "       [-0.12609976, -1.04327457],\n",
    "       [-1.89607082, -0.70085502],\n",
    "       [ 0.57466899,  0.74878369],\n",
    "       [-0.16660312, -0.83110295],\n",
    "       [ 0.8013355 ,  1.22244435],\n",
    "       [ 1.18455426,  1.4346467 ],\n",
    "       [ 1.08864428,  0.64667112],\n",
    "       [-1.61158505,  0.22805725],\n",
    "       [-1.57512205, -0.09612576],\n",
    "       [ 0.0721357 , -0.69640328],\n",
    "       [-1.40054298,  0.16390598],\n",
    "       [ 1.09607713,  1.16804691],\n",
    "       [-2.54346204, -0.23089822],\n",
    "       [-1.34544875,  0.25151126],\n",
    "       [-1.35478629, -0.19103317],\n",
    "       [ 0.18368113, -1.15827725],\n",
    "       [-1.31368677, -0.376357  ],\n",
    "       [ 0.09990129,  1.22500491],\n",
    "       [ 1.17225574,  1.30835143],\n",
    "       [ 0.0865397 , -0.79714371],\n",
    "       [-0.21053923, -1.13421511],\n",
    "       [ 0.26496024, -0.94760742],\n",
    "       [-0.2557591 , -1.06266022],\n",
    "       [-0.26039757, -0.74774225],\n",
    "       [-1.91787359,  0.16434571],\n",
    "       [ 0.93021139,  0.49436331],\n",
    "       [ 0.44770467, -0.72877918],\n",
    "       [-1.63802869, -0.58925528],\n",
    "       [-1.95712763, -0.10125137],\n",
    "       [ 0.9270337 ,  0.88251423],\n",
    "       [ 1.25660093,  0.60828073],\n",
    "       [-1.72818632,  0.08416887],\n",
    "       [ 0.3499788 , -0.30490298],\n",
    "       [-1.51696082, -0.50913109],\n",
    "       [ 0.18763605, -0.55424924],\n",
    "       [ 0.89609809,  0.83551508],\n",
    "       [-1.54968857, -0.17114782],\n",
    "       [ 1.2157457 ,  1.23317728],\n",
    "       [ 0.20307745, -1.03784906],\n",
    "       [ 0.84589086,  1.03615273],\n",
    "       [ 0.53237919,  1.47362884],\n",
    "       [-0.05319044, -1.36150553],\n",
    "       [ 1.38819743,  1.11729915],\n",
    "       [ 1.00696304,  1.0367721 ],\n",
    "       [ 0.56681869, -1.09637176],\n",
    "       [ 0.86888296,  1.05248874],\n",
    "       [-1.16286609, -0.55875245],\n",
    "       [ 0.27717768, -0.83844015],\n",
    "       [ 0.16563267, -0.80306607],\n",
    "       [ 0.38263303, -0.42683241],\n",
    "       [ 1.14519807,  0.89659026],\n",
    "       [ 0.81455857,  0.67533667],\n",
    "       [-1.8603152 , -0.09537561],\n",
    "       [ 0.965641  ,  0.90295579],\n",
    "       [-1.49897451, -0.33254044],\n",
    "       [-0.1335489 , -0.80727582],\n",
    "       [ 0.12541527, -1.13354906],\n",
    "       [ 1.06062436,  1.28816358],\n",
    "       [-1.49154578, -0.2024641 ],\n",
    "       [ 1.16189032,  1.28819877],\n",
    "       [ 0.54282033,  0.75203524],\n",
    "       [ 0.89221065,  0.99211624],\n",
    "       [-1.49932011, -0.32430667],\n",
    "       [ 0.3166647 , -1.34482915],\n",
    "       [ 0.13972469, -1.22097448],\n",
    "       [-1.5499724 , -0.10782584],\n",
    "       [ 1.23846858,  1.37668804],\n",
    "       [ 1.25558954,  0.72026098],\n",
    "       [ 0.25558689, -1.28529763],\n",
    "       [ 0.45168933, -0.55952093],\n",
    "       [ 1.06202057,  1.03404604],\n",
    "       [ 0.67451908, -0.54970299],\n",
    "       [ 0.22759676, -1.02729468],\n",
    "       [-1.45835281, -0.04951074],\n",
    "       [ 0.23273501, -0.70849262],\n",
    "       [ 1.59679589,  1.11395076],\n",
    "       [ 0.80476105,  0.544627  ],\n",
    "       [ 1.15492521,  1.04352191],\n",
    "       [ 0.59632776, -1.19142897],\n",
    "       [ 0.02839068, -0.43829366],\n",
    "       [ 1.13451584,  0.5632633 ],\n",
    "       [ 0.21576204, -1.04445753],\n",
    "       [ 1.41048987,  1.02830719],\n",
    "       [ 1.12289302,  0.58029441],\n",
    "       [ 0.25200688, -0.82588436],\n",
    "       [-1.28566081, -0.07390909],\n",
    "       [ 1.52849815,  1.11822469],\n",
    "       [-0.23907858, -0.70541972],\n",
    "       [-0.25792784, -0.81825035],\n",
    "       [ 0.59367818, -0.45239915],\n",
    "       [ 0.07931909, -0.29233213],\n",
    "       [-1.27256815,  0.11630577],\n",
    "       [ 0.66930129,  1.00731481],\n",
    "       [ 0.34791546, -1.20822877],\n",
    "       [-2.11283993, -0.66897935],\n",
    "       [-1.6293824 , -0.32718222],\n",
    "       [-1.53819139, -0.01501972],\n",
    "       [-0.11988545, -0.6036339 ],\n",
    "       [-1.54418956, -0.30389844],\n",
    "       [ 0.30026614, -0.77723173],\n",
    "       [ 0.00935449, -0.53888192],\n",
    "       [-1.33424393, -0.11560431],\n",
    "       [ 0.47504489,  0.78421384],\n",
    "       [ 0.59313264,  1.232239  ],\n",
    "       [ 0.41370369, -1.35205857],\n",
    "       [ 0.55840948,  0.78831053],\n",
    "       [ 0.49855018, -0.789949  ],\n",
    "       [ 0.35675809, -0.81038693],\n",
    "       [-1.86197825, -0.59071305],\n",
    "       [-1.61977671, -0.16076687],\n",
    "       [ 0.80779295, -0.73311294],\n",
    "       [ 1.62745775,  0.62787163],\n",
    "       [-1.56993593, -0.08467567],\n",
    "       [ 1.02558561,  0.89383302],\n",
    "       [ 0.24293461, -0.6088253 ],\n",
    "       [ 1.23130242,  1.00262186],\n",
    "       [-1.9651013 , -0.15886289],\n",
    "       [ 0.42795032, -0.70384432],\n",
    "       [-1.58306818, -0.19431923],\n",
    "       [-1.57195922,  0.01413469],\n",
    "       [-0.98145373,  0.06132285],\n",
    "       [-1.48637844, -0.5746531 ],\n",
    "       [ 0.98745828,  0.69188053],\n",
    "       [ 1.28619721,  1.28128821],\n",
    "       [ 0.85850596,  0.95541481],\n",
    "       [ 0.19028286, -0.82112942],\n",
    "       [ 0.26561046, -0.04255239],\n",
    "       [-1.61897897,  0.00862372],\n",
    "       [ 0.24070183, -0.52664209],\n",
    "       [ 1.15220993,  0.43916694],\n",
    "       [-1.21967812, -0.2580313 ],\n",
    "       [ 0.33412533, -0.86117761],\n",
    "       [ 0.17131003, -0.75638965],\n",
    "       [-1.19828397, -0.73744665],\n",
    "       [-0.12245932, -0.45648879],\n",
    "       [ 1.51200698,  0.88825741],\n",
    "       [ 1.10338866,  0.92347479],\n",
    "       [ 1.30972095,  0.59066989],\n",
    "       [ 0.19964876,  1.14855889],\n",
    "       [ 0.81460515,  0.84538972],\n",
    "       [-1.6422739 , -0.42296206],\n",
    "       [ 0.01224351, -0.21247816],\n",
    "       [ 0.33709102, -0.74618065],\n",
    "       [ 0.47301054,  0.72712075],\n",
    "       [ 0.34706626,  1.23033757],\n",
    "       [-0.00393279, -0.97209694],\n",
    "       [-1.64303119,  0.05276337],\n",
    "       [ 1.44649625,  1.14217033],\n",
    "       [-1.93030087, -0.40026146],\n",
    "       [-2.37296135, -0.72633645],\n",
    "       [ 0.45860122, -1.06048953],\n",
    "       [ 0.4896361 , -1.18928313],\n",
    "       [-1.02335902, -0.17520578],\n",
    "       [-1.32761107, -0.93963549],\n",
    "       [-1.50987909, -0.09473658],\n",
    "       [ 0.02723057, -0.79870549],\n",
    "       [ 1.0169412 ,  1.26461701],\n",
    "       [ 0.47733527, -0.9898471 ],\n",
    "       [-1.27784224, -0.547416  ],\n",
    "       [ 0.49898802, -0.6237259 ],\n",
    "       [ 1.06004731,  0.86870008],\n",
    "       [ 1.00207501,  1.38293512],\n",
    "       [ 1.31161394,  0.62833956],\n",
    "       [ 1.13428443,  1.18346542],\n",
    "       [ 1.27671346,  0.96632878],\n",
    "       [-0.63342885, -0.97768251],\n",
    "       [ 0.12698779, -0.93142317],\n",
    "       [-1.34510812, -0.23754226],\n",
    "       [-0.53162278, -1.25153594],\n",
    "       [ 0.21959934, -0.90269938],\n",
    "       [-1.78997479, -0.12115748],\n",
    "       [ 1.23197473, -0.07453764],\n",
    "       [ 1.4163536 ,  1.21551752],\n",
    "       [-1.90280976, -0.1638976 ],\n",
    "       [-0.22440081, -0.75454248],\n",
    "       [ 0.59559412,  0.92414553],\n",
    "       [ 1.21930773,  1.08175284],\n",
    "       [-1.99427535, -0.37587799],\n",
    "       [-1.27818474, -0.52454551],\n",
    "       [ 0.62352689, -1.01430108],\n",
    "       [ 0.14024251, -0.428266  ],\n",
    "       [-0.16145713, -1.16359731],\n",
    "       [-1.74795865, -0.06033101],\n",
    "       [-1.16659791,  0.0902393 ],\n",
    "       [ 0.41110408, -0.8084249 ],\n",
    "       [ 1.14757168,  0.77804528],\n",
    "       [-1.65590748, -0.40105446],\n",
    "       [-1.15306865,  0.00858699],\n",
    "       [ 0.60892121,  0.68974833],\n",
    "       [-0.08434138, -0.97615256],\n",
    "       [ 0.19170053, -0.42331438],\n",
    "       [ 0.29663162, -1.13357399],\n",
    "       [-1.36893628, -0.25052124],\n",
    "       [-0.08037807, -0.56784155],\n",
    "       [ 0.35695011, -1.15064408],\n",
    "       [ 0.02482179, -0.63594828],\n",
    "       [-1.49075558, -0.2482507 ],\n",
    "       [-1.408588  ,  0.25635431],\n",
    "       [-1.98274626, -0.54584475]])"
   ]
  },
  {
   "cell_type": "code",
   "execution_count": null,
   "metadata": {
    "ExecuteTime": {
     "end_time": "2020-05-22T19:31:27.364995Z",
     "start_time": "2020-05-22T19:31:27.318127Z"
    }
   },
   "outputs": [],
   "source": [
    "# Import KMeans\n",
    "from sklearn.cluster import KMeans \n",
    "\n",
    "# Create a KMeans instance with 3 clusters: model\n",
    "model = KMeans(n_clusters=3)\n",
    "\n",
    "# Fit model to points\n",
    "model.fit(points)"
   ]
  },
  {
   "cell_type": "markdown",
   "metadata": {},
   "source": [
    "**With the model created we are going to label some new points.**"
   ]
  },
  {
   "cell_type": "code",
   "execution_count": 99,
   "metadata": {
    "ExecuteTime": {
     "end_time": "2020-05-22T19:35:11.739472Z",
     "start_time": "2020-05-22T19:35:11.676966Z"
    },
    "hide_input": true
   },
   "outputs": [],
   "source": [
    "new_points=np.array([[ 4.00233332e-01, -1.26544471e+00],\n",
    "       [ 8.03230370e-01,  1.28260167e+00],\n",
    "       [-1.39507552e+00,  5.57292921e-02],\n",
    "       [-3.41192677e-01, -1.07661994e+00],\n",
    "       [ 1.54781747e+00,  1.40250049e+00],\n",
    "       [ 2.45032018e-01, -4.83442328e-01],\n",
    "       [ 1.20706886e+00,  8.88752605e-01],\n",
    "       [ 1.25132628e+00,  1.15555395e+00],\n",
    "       [ 1.81004415e+00,  9.65530731e-01],\n",
    "       [-1.66963401e+00, -3.08103509e-01],\n",
    "       [-7.17482105e-02, -9.37939700e-01],\n",
    "       [ 6.82631927e-01,  1.10258160e+00],\n",
    "       [ 1.09039598e+00,  1.43899529e+00],\n",
    "       [-1.67645414e+00, -5.04557049e-01],\n",
    "       [-1.84447804e+00,  4.52539544e-02],\n",
    "       [ 1.24234851e+00,  1.02088661e+00],\n",
    "       [-1.86147041e+00,  6.38645811e-03],\n",
    "       [-1.46044943e+00,  1.53252383e-01],\n",
    "       [ 4.98981817e-01,  8.98006058e-01],\n",
    "       [ 9.83962244e-01,  1.04369375e+00],\n",
    "       [-1.83136742e+00, -1.63632835e-01],\n",
    "       [ 1.30622617e+00,  1.07658717e+00],\n",
    "       [ 3.53420328e-01, -7.51320218e-01],\n",
    "       [ 1.13957970e+00,  1.54503860e+00],\n",
    "       [ 2.93995694e-01, -1.26135005e+00],\n",
    "       [-1.14558225e+00, -3.78709636e-02],\n",
    "       [ 1.18716105e+00,  6.00240663e-01],\n",
    "       [-2.23211946e+00,  2.30475094e-01],\n",
    "       [-1.28320430e+00, -3.93314568e-01],\n",
    "       [ 4.94296696e-01, -8.83972009e-01],\n",
    "       [ 6.31834930e-02, -9.11952228e-01],\n",
    "       [ 9.35759539e-01,  8.66820685e-01],\n",
    "       [ 1.58014721e+00,  1.03788392e+00],\n",
    "       [ 1.06304960e+00,  1.02706082e+00],\n",
    "       [-1.39732536e+00, -5.05162249e-01],\n",
    "       [-1.09935240e-01, -9.08113619e-01],\n",
    "       [ 1.17346758e+00,  9.47501092e-01],\n",
    "       [ 9.20084511e-01,  1.45767672e+00],\n",
    "       [ 5.82658956e-01, -9.00086832e-01],\n",
    "       [ 9.52772328e-01,  8.99042386e-01],\n",
    "       [-1.37266956e+00, -3.17878215e-02],\n",
    "       [ 2.12706760e-02, -7.07614194e-01],\n",
    "       [ 3.27049052e-01, -5.55998107e-01],\n",
    "       [-1.71590267e+00,  2.15222266e-01],\n",
    "       [ 5.12516209e-01, -7.60128245e-01],\n",
    "       [ 1.13023469e+00,  7.22451122e-01],\n",
    "       [-1.43074310e+00, -3.42787511e-01],\n",
    "       [-1.82724625e+00,  1.17657775e-01],\n",
    "       [ 1.41801350e+00,  1.11455080e+00],\n",
    "       [ 1.26897304e+00,  1.41925971e+00],\n",
    "       [ 8.04076494e-01,  1.63988557e+00],\n",
    "       [ 8.34567752e-01,  1.09956689e+00],\n",
    "       [-1.24714732e+00, -2.23522320e-01],\n",
    "       [-1.29422537e+00,  8.18770024e-02],\n",
    "       [-2.27378316e-01, -4.13331387e-01],\n",
    "       [ 2.18830387e-01, -4.68183120e-01],\n",
    "       [-1.22593414e+00,  2.55599147e-01],\n",
    "       [-1.31294033e+00, -4.28892070e-01],\n",
    "       [-1.33532382e+00,  6.52053776e-01],\n",
    "       [-3.01100233e-01, -1.25156451e+00],\n",
    "       [ 2.02778356e-01, -9.05277445e-01],\n",
    "       [ 1.01357784e+00,  1.12378981e+00],\n",
    "       [ 8.18324394e-01,  8.60841257e-01],\n",
    "       [ 1.26181556e+00,  1.46613744e+00],\n",
    "       [ 4.64867724e-01, -7.97212459e-01],\n",
    "       [ 3.60908898e-01,  8.44106720e-01],\n",
    "       [-2.15098310e+00, -3.69583937e-01],\n",
    "       [ 1.05005281e+00,  8.74181364e-01],\n",
    "       [ 1.06580074e-01, -7.49268153e-01],\n",
    "       [-1.73945723e+00,  2.52183577e-01],\n",
    "       [-1.12017687e-01, -6.52469788e-01],\n",
    "       [ 5.16618951e-01, -6.41267582e-01],\n",
    "       [ 3.26621787e-01, -8.80608015e-01],\n",
    "       [ 1.09017759e+00,  1.10952558e+00],\n",
    "       [ 3.64459576e-01, -6.94215622e-01],\n",
    "       [-1.90779318e+00,  1.87383674e-01],\n",
    "       [-1.95601829e+00,  1.39959126e-01],\n",
    "       [ 3.18541701e-01, -4.05271704e-01],\n",
    "       [ 7.36512699e-01,  1.76416255e+00],\n",
    "       [-1.44175162e+00, -5.72320429e-02],\n",
    "       [ 3.21757168e-01, -5.34283821e-01],\n",
    "       [-1.37317305e+00,  4.64484644e-02],\n",
    "       [ 6.87225910e-02, -1.10522944e+00],\n",
    "       [ 9.59314218e-01,  6.52316210e-01],\n",
    "       [-1.62641919e+00, -5.62423280e-01],\n",
    "       [ 1.06788305e+00,  7.29260482e-01],\n",
    "       [-1.79643547e+00, -9.88307418e-01],\n",
    "       [-9.88628377e-02, -6.81198092e-02],\n",
    "       [-1.05135700e-01,  1.17022143e+00],\n",
    "       [ 8.79964699e-01,  1.25340317e+00],\n",
    "       [ 9.80753407e-01,  1.15486539e+00],\n",
    "       [-8.33224966e-02, -9.24844368e-01],\n",
    "       [ 8.48759673e-01,  1.09397425e+00],\n",
    "       [ 1.32941649e+00,  1.13734563e+00],\n",
    "       [ 3.23788068e-01, -7.49732451e-01],\n",
    "       [-1.52610970e+00, -2.49016929e-01],\n",
    "       [-1.48598116e+00, -2.68828608e-01],\n",
    "       [-1.80479553e+00,  1.87052700e-01],\n",
    "       [-2.01907347e+00, -4.49511651e-01],\n",
    "       [ 2.87202402e-01, -6.55487415e-01],\n",
    "       [ 8.22295102e-01,  1.38443234e+00],\n",
    "       [-3.56997036e-02, -8.01825807e-01],\n",
    "       [-1.66955440e+00, -1.38258505e-01],\n",
    "       [-1.78226821e+00,  2.93353033e-01],\n",
    "       [ 7.25837138e-01, -6.23374024e-01],\n",
    "       [ 3.88432593e-01, -7.61283497e-01],\n",
    "       [ 1.49002783e+00,  7.95678671e-01],\n",
    "       [ 6.55423228e-04, -7.40580702e-01],\n",
    "       [-1.34533116e+00, -4.75629937e-01],\n",
    "       [-8.03845106e-01, -3.09943013e-01],\n",
    "       [-2.49041295e-01, -1.00662418e+00],\n",
    "       [-1.41095118e+00, -7.06744127e-02],\n",
    "       [-1.75119594e+00, -3.00491336e-01],\n",
    "       [-1.27942724e+00,  1.73774600e-01],\n",
    "       [ 3.35028183e-01,  6.24761151e-01],\n",
    "       [ 1.16819649e+00,  1.18902251e+00],\n",
    "       [ 7.15210457e-01,  9.26077419e-01],\n",
    "       [ 1.30057278e+00,  9.16349565e-01],\n",
    "       [-1.21697008e+00,  1.10039477e-01],\n",
    "       [-1.70707935e+00, -5.99659536e-02],\n",
    "       [ 1.20730655e+00,  1.05480463e+00],\n",
    "       [ 1.86896009e-01, -9.58047234e-01],\n",
    "       [ 8.03463471e-01,  3.86133140e-01],\n",
    "       [-1.73486790e+00, -1.49831913e-01],\n",
    "       [ 1.31261499e+00,  1.11802982e+00],\n",
    "       [ 4.04993148e-01, -5.10900347e-01],\n",
    "       [-1.93267968e+00,  2.20764694e-01],\n",
    "       [ 6.56004799e-01,  9.61887161e-01],\n",
    "       [-1.40588215e+00,  1.17134403e-01],\n",
    "       [-1.74306264e+00, -7.47473959e-02],\n",
    "       [ 5.43745412e-01,  1.47209224e+00],\n",
    "       [-1.97331669e+00, -2.27124493e-01],\n",
    "       [ 1.53901171e+00,  1.36049081e+00],\n",
    "       [-1.48323452e+00, -4.90302063e-01],\n",
    "       [ 3.86748484e-01, -1.26173400e+00],\n",
    "       [ 1.17015716e+00,  1.18549415e+00],\n",
    "       [-8.05381721e-02, -3.21923627e-01],\n",
    "       [-6.82273156e-02, -8.52825887e-01],\n",
    "       [ 7.13500028e-01,  1.27868520e+00],\n",
    "       [-1.85014378e+00, -5.03490558e-01],\n",
    "       [ 6.36085266e-02, -1.41257040e+00],\n",
    "       [ 1.52966062e+00,  9.66056572e-01],\n",
    "       [ 1.62165714e-01, -1.37374843e+00],\n",
    "       [-3.23474497e-01, -7.06620269e-01],\n",
    "       [-1.51768993e+00,  1.87658302e-01],\n",
    "       [ 8.88895911e-01,  7.62237161e-01],\n",
    "       [ 4.83164032e-01,  8.81931869e-01],\n",
    "       [-5.52997766e-02, -7.11305016e-01],\n",
    "       [-1.57966441e+00, -6.29220313e-01],\n",
    "       [ 5.51308645e-02, -8.47206763e-01],\n",
    "       [-2.06001582e+00,  5.87697787e-02],\n",
    "       [ 1.11810855e+00,  1.30254175e+00],\n",
    "       [ 4.87016164e-01, -9.90143937e-01],\n",
    "       [-1.65518042e+00, -1.69386383e-01],\n",
    "       [-1.44349738e+00,  1.90299243e-01],\n",
    "       [-1.70074547e-01, -8.26736022e-01],\n",
    "       [-1.82433979e+00, -3.07814626e-01],\n",
    "       [ 1.03093485e+00,  1.26457691e+00],\n",
    "       [ 1.64431169e+00,  1.27773115e+00],\n",
    "       [-1.47617693e+00,  2.60783872e-02],\n",
    "       [ 1.00953067e+00,  1.14270181e+00],\n",
    "       [-1.45285636e+00, -2.55216207e-01],\n",
    "       [-1.74092917e+00, -8.34443177e-02],\n",
    "       [ 1.22038299e+00,  1.28699961e+00],\n",
    "       [ 9.16925397e-01,  7.32070275e-01],\n",
    "       [-1.60754185e-03, -7.26375571e-01],\n",
    "       [ 8.93841238e-01,  8.41146643e-01],\n",
    "       [ 6.33791961e-01,  1.00915134e+00],\n",
    "       [-1.47927075e+00, -6.99781936e-01],\n",
    "       [ 5.44799374e-02, -1.06441970e+00],\n",
    "       [-1.51935568e+00, -4.89276929e-01],\n",
    "       [ 2.89939026e-01, -7.73145523e-01],\n",
    "       [-9.68154061e-03, -1.13302207e+00],\n",
    "       [ 1.13474639e+00,  9.71541744e-01],\n",
    "       [ 5.36421406e-01, -8.47906388e-01],\n",
    "       [ 1.14759864e+00,  6.89915205e-01],\n",
    "       [ 5.73291902e-01,  7.90802710e-01],\n",
    "       [ 2.12377397e-01, -6.07569808e-01],\n",
    "       [ 5.26579548e-01, -8.15930264e-01],\n",
    "       [-2.01831641e+00,  6.78650740e-02],\n",
    "       [-2.35512624e-01, -1.08205132e+00],\n",
    "       [ 1.59274780e-01, -6.00717261e-01],\n",
    "       [ 2.28120356e-01, -1.16003549e+00],\n",
    "       [-1.53658378e+00,  8.40798808e-02],\n",
    "       [ 1.13954609e+00,  6.31782001e-01],\n",
    "       [ 1.01119255e+00,  1.04360805e+00],\n",
    "       [-1.42039867e-01, -4.81230337e-01],\n",
    "       [-2.23120182e+00,  8.49162905e-02],\n",
    "       [ 1.25554811e-01, -1.01794793e+00],\n",
    "       [-1.72493509e+00, -6.94426177e-01],\n",
    "       [-1.60434630e+00,  4.45550868e-01],\n",
    "       [ 7.37153979e-01,  9.26560744e-01],\n",
    "       [ 6.72905271e-01,  1.13366030e+00],\n",
    "       [ 1.20066456e+00,  7.26273093e-01],\n",
    "       [ 7.58747209e-02, -9.83378326e-01],\n",
    "       [ 1.28783262e+00,  1.18088601e+00],\n",
    "       [ 1.06521930e+00,  1.00714746e+00],\n",
    "       [ 1.05871698e+00,  1.12956519e+00],\n",
    "       [-1.12643410e+00,  1.66787744e-01],\n",
    "       [-1.10157218e+00, -3.64137806e-01],\n",
    "       [ 2.35118217e-01, -1.39769949e-01],\n",
    "       [ 1.13853795e+00,  1.01018519e+00],\n",
    "       [ 5.31205654e-01, -8.81990792e-01],\n",
    "       [ 4.33085936e-01, -7.64059042e-01],\n",
    "       [-4.48926156e-03, -1.30548411e+00],\n",
    "       [-1.76348589e+00, -4.97430739e-01],\n",
    "       [ 1.36485681e+00,  5.83404699e-01],\n",
    "       [ 5.66923900e-01,  1.51391963e+00],\n",
    "       [ 1.35736826e+00,  6.70915318e-01],\n",
    "       [ 1.07173397e+00,  6.11990884e-01],\n",
    "       [ 1.00106915e+00,  8.93815326e-01],\n",
    "       [ 1.33091007e+00,  8.79773879e-01],\n",
    "       [-1.79603740e+00, -3.53883973e-02],\n",
    "       [-1.27222979e+00,  4.00156642e-01],\n",
    "       [ 8.47480603e-01,  1.17032364e+00],\n",
    "       [-1.50989129e+00, -7.12318330e-01],\n",
    "       [-1.24953576e+00, -5.57859730e-01],\n",
    "       [-1.27717973e+00, -5.99350550e-01],\n",
    "       [-1.81946743e+00,  7.37057673e-01],\n",
    "       [ 1.19949867e+00,  1.56969386e+00],\n",
    "       [-1.25543847e+00, -2.33892826e-01],\n",
    "       [-1.63052058e+00,  1.61455865e-01],\n",
    "       [ 1.10611305e+00,  7.39698224e-01],\n",
    "       [ 6.70193192e-01,  8.70567001e-01],\n",
    "       [ 3.69670156e-01, -6.94645306e-01],\n",
    "       [-1.26362293e+00, -6.99249285e-01],\n",
    "       [-3.66687507e-01, -1.35310260e+00],\n",
    "       [ 2.44032147e-01, -6.59470793e-01],\n",
    "       [-1.27679142e+00, -4.85453412e-01],\n",
    "       [ 3.77473612e-02, -6.99251605e-01],\n",
    "       [-2.19148539e+00, -4.91199500e-01],\n",
    "       [-2.93277777e-01, -5.89488212e-01],\n",
    "       [-1.65737397e+00, -2.98337786e-01],\n",
    "       [ 7.36638861e-01,  5.78037057e-01],\n",
    "       [ 1.13709081e+00,  1.30119754e+00],\n",
    "       [-1.44146601e+00,  3.13934680e-02],\n",
    "       [ 5.92360708e-01,  1.22545114e+00],\n",
    "       [ 6.51719414e-01,  4.92674894e-01],\n",
    "       [ 5.94559139e-01,  8.25637315e-01],\n",
    "       [-1.87900722e+00, -5.21899626e-01],\n",
    "       [ 2.15225041e-01, -1.28269851e+00],\n",
    "       [ 4.99145965e-01, -6.70268634e-01],\n",
    "       [-1.82954176e+00, -3.39269731e-01],\n",
    "       [ 7.92721403e-01,  1.33785606e+00],\n",
    "       [ 9.54363372e-01,  9.80396626e-01],\n",
    "       [-1.35359846e+00,  1.03976340e-01],\n",
    "       [ 1.05595062e+00,  8.07031927e-01],\n",
    "       [-1.94311010e+00, -1.18976964e-01],\n",
    "       [-1.39604137e+00, -3.10095976e-01],\n",
    "       [ 1.28977624e+00,  1.01753365e+00],\n",
    "       [-1.59503139e+00, -5.40574609e-01],\n",
    "       [-1.41994046e+00, -3.81032569e-01],\n",
    "       [-2.35569801e-02, -1.10133702e+00],\n",
    "       [-1.26038568e+00, -6.93273886e-01],\n",
    "       [ 9.60215981e-01, -8.11553694e-01],\n",
    "       [ 5.51803308e-01, -1.01793176e+00],\n",
    "       [ 3.70185085e-01, -1.06885468e+00],\n",
    "       [ 8.25529207e-01,  8.77007060e-01],\n",
    "       [-1.87032595e+00,  2.87507199e-01],\n",
    "       [-1.56260769e+00, -1.89196712e-01],\n",
    "       [-1.26346548e+00, -7.74725237e-01],\n",
    "       [-6.33800421e-02, -7.59400611e-01],\n",
    "       [ 8.85298280e-01,  8.85620519e-01],\n",
    "       [-1.43324686e-01, -1.16083678e+00],\n",
    "       [-1.83908725e+00, -3.26655515e-01],\n",
    "       [ 2.74709229e-01, -1.04546829e+00],\n",
    "       [-1.45703573e+00, -2.91842036e-01],\n",
    "       [-1.59048842e+00,  1.66063031e-01],\n",
    "       [ 9.25549284e-01,  7.41406406e-01],\n",
    "       [ 1.97245469e-01, -7.80703225e-01],\n",
    "       [ 2.88401697e-01, -8.32425551e-01],\n",
    "       [ 7.24141618e-01, -7.99149200e-01],\n",
    "       [-1.62658639e+00, -1.80005543e-01],\n",
    "       [ 5.84481588e-01,  1.13195640e+00],\n",
    "       [ 1.02146732e+00,  4.59657799e-01],\n",
    "       [ 8.65050554e-01,  9.57714887e-01],\n",
    "       [ 3.98717766e-01, -1.24273147e+00],\n",
    "       [ 8.62234892e-01,  1.10955561e+00],\n",
    "       [-1.35999430e+00,  2.49942654e-02],\n",
    "       [-1.19178505e+00, -3.82946323e-02],\n",
    "       [ 1.29392424e+00,  1.10320509e+00],\n",
    "       [ 1.25679630e+00, -7.79857582e-01],\n",
    "       [ 9.38040302e-02, -5.53247258e-01],\n",
    "       [-1.73512175e+00, -9.76271667e-02],\n",
    "       [ 2.23153587e-01, -9.43474351e-01],\n",
    "       [ 4.01989100e-01, -1.10963051e+00],\n",
    "       [-1.42244158e+00,  1.81914703e-01],\n",
    "       [ 3.92476267e-01, -8.78426277e-01],\n",
    "       [ 1.25181875e+00,  6.93614996e-01],\n",
    "       [ 1.77481317e-02, -7.20304235e-01],\n",
    "       [-1.87752521e+00, -2.63870424e-01],\n",
    "       [-1.58063602e+00, -5.50456344e-01],\n",
    "       [-1.59589493e+00, -1.53932892e-01],\n",
    "       [-1.01829770e+00,  3.88542370e-02],\n",
    "       [ 1.24819659e+00,  6.60041803e-01],\n",
    "       [-1.25551377e+00, -2.96172009e-02],\n",
    "       [-1.41864559e+00, -3.58230179e-01],\n",
    "       [ 5.25758326e-01,  8.70500543e-01],\n",
    "       [ 5.55599988e-01,  1.18765072e+00],\n",
    "       [ 2.81344439e-02, -6.99111314e-01]])"
   ]
  },
  {
   "cell_type": "code",
   "execution_count": 100,
   "metadata": {
    "ExecuteTime": {
     "end_time": "2020-05-22T19:35:20.012562Z",
     "start_time": "2020-05-22T19:35:19.974812Z"
    }
   },
   "outputs": [
    {
     "name": "stdout",
     "output_type": "stream",
     "text": [
      "[0 1 2 0 1 0 1 1 1 2 0 1 1 2 2 1 2 2 1 1 2 1 0 1 0 2 1 2 2 0 0 1 1 1 2 0 1\n",
      " 1 0 1 2 0 0 2 0 1 2 2 1 1 1 1 2 2 0 0 2 2 2 0 0 1 1 1 0 1 2 1 0 2 0 0 0 1\n",
      " 0 2 2 0 1 2 0 2 0 1 2 1 2 0 1 1 1 0 1 1 0 2 2 2 2 0 1 0 2 2 0 0 1 0 2 2 0\n",
      " 2 2 2 1 1 1 1 2 2 1 0 1 2 1 0 2 1 2 2 1 2 1 2 0 1 0 0 1 2 0 1 0 0 2 1 1 0\n",
      " 2 0 2 1 0 2 2 0 2 1 1 2 1 2 2 1 1 0 1 1 2 0 2 0 0 1 0 1 1 0 0 2 0 0 0 2 1\n",
      " 1 0 2 0 2 2 1 1 1 0 1 1 1 2 2 0 1 0 0 0 2 1 1 1 1 1 1 2 2 1 2 2 2 2 1 2 2\n",
      " 1 1 0 2 0 0 2 0 2 0 2 1 1 2 1 1 1 2 0 0 2 1 1 2 1 2 2 1 2 2 0 2 0 0 0 1 2\n",
      " 2 2 0 1 0 2 0 2 2 1 0 0 0 2 1 1 1 0 1 2 2 1 0 0 2 0 0 2 0 1 0 2 2 2 2 1 2\n",
      " 2 1 1 0]\n"
     ]
    }
   ],
   "source": [
    "# Determine the cluster labels of new_points: labels\n",
    "labels = model.predict(new_points)\n",
    "\n",
    "# Print cluster labels of new_points\n",
    "print(labels)"
   ]
  },
  {
   "cell_type": "markdown",
   "metadata": {},
   "source": [
    "## Inspect your clustering\n",
    "\n",
    "Let's now inspect the clustering you performed in the previous exercise!\n",
    "\n",
    "A solution to the previous exercise has already run, so new_points is an array of points and labels is the array of their cluster labels.\n",
    "\n",
    "- Import matplotlib.pyplot as plt.\n",
    "- Assign column 0 of new_points to xs, and column 1 of new_points to ys.\n",
    "- Make a scatter plot of xs and ys, specifying the c=labels keyword arguments to color the points by their cluster label. Also specify alpha=0.5.\n",
    "- Compute the coordinates of the centroids using the .cluster_centers_ attribute of model.\n",
    "- Assign column 0 of centroids to centroids_x, and column 1 of centroids to centroids_y.\n",
    "- Make a scatter plot of centroids_x and centroids_y, using 'D' (a diamond) as a marker by specifying the marker parameter. Set the size of the markers to be 50 using s=50.\n"
   ]
  },
  {
   "cell_type": "code",
   "execution_count": 101,
   "metadata": {
    "ExecuteTime": {
     "end_time": "2020-05-22T19:44:18.388250Z",
     "start_time": "2020-05-22T19:44:18.203750Z"
    },
    "hide_input": false
   },
   "outputs": [
    {
     "data": {
      "image/png": "[encoded data removed]",
      "text/plain": [
       "<Figure size 432x288 with 1 Axes>"
      ]
     },
     "metadata": {
      "needs_background": "light"
     },
     "output_type": "display_data"
    }
   ],
   "source": [
    "# Import pyplot\n",
    "from matplotlib import pyplot as plt\n",
    "\n",
    "# Assign the columns of new_points: xs and ys\n",
    "xs = new_points[:,0]\n",
    "ys = new_points[:,1]\n",
    "\n",
    "# Make a scatter plot of xs and ys, using labels to define the colors\n",
    "plt.scatter(xs, ys, c=labels, alpha=0.5)\n",
    "\n",
    "# Assign the cluster centers: centroids\n",
    "centroids = model.cluster_centers_\n",
    "\n",
    "# Assign the columns of centroids: centroids_x, centroids_y\n",
    "centroids_x = centroids[:,0]\n",
    "centroids_y = centroids[:,1]\n",
    "\n",
    "# Make a scatter plot of centroids_x and centroids_y\n",
    "plt.scatter(centroids_x, centroids_y, marker='D', s=50)\n",
    "plt.show()"
   ]
  },
  {
   "cell_type": "markdown",
   "metadata": {},
   "source": [
    "## How many clusters of grain?\n",
    "\n",
    "In the video, you learned how to choose a good number of clusters for a dataset using the k-means inertia graph. You are given an array samples containing the measurements (such as area, perimeter, length, and several others) of samples of grain. What's a good number of clusters in this case?\n",
    "\n",
    "KMeans and PyPlot (plt) have already been imported for you.\n",
    "\n",
    "This dataset was sourced from the UCI Machine Learning Repository.\n",
    "\n",
    "- For each of the given values of k, perform the following steps:\n",
    "- Create a KMeans instance called model with k clusters.\n",
    "- Fit the model to the grain data samples.\n",
    "- Append the value of the inertia_ attribute of model to the list inertias.\n",
    "- The code to plot ks vs inertias has been written for you, so hit 'Submit Answer' to see the plot!\n"
   ]
  },
  {
   "cell_type": "code",
   "execution_count": 199,
   "metadata": {
    "ExecuteTime": {
     "end_time": "2020-05-22T21:33:27.870139Z",
     "start_time": "2020-05-22T21:33:27.854517Z"
    }
   },
   "outputs": [
    {
     "data": {
      "text/html": [
       "<div>\n",
       "<style scoped>\n",
       "    .dataframe tbody tr th:only-of-type {\n",
       "        vertical-align: middle;\n",
       "    }\n",
       "\n",
       "    .dataframe tbody tr th {\n",
       "        vertical-align: top;\n",
       "    }\n",
       "\n",
       "    .dataframe thead th {\n",
       "        text-align: right;\n",
       "    }\n",
       "</style>\n",
       "<table border=\"1\" class=\"dataframe\">\n",
       "  <thead>\n",
       "    <tr style=\"text-align: right;\">\n",
       "      <th></th>\n",
       "      <th>Column1</th>\n",
       "      <th>Column2</th>\n",
       "      <th>Column3</th>\n",
       "      <th>Column4</th>\n",
       "      <th>Column5</th>\n",
       "      <th>Column6</th>\n",
       "      <th>Column7</th>\n",
       "      <th>Column8</th>\n",
       "    </tr>\n",
       "  </thead>\n",
       "  <tbody>\n",
       "    <tr>\n",
       "      <th>0</th>\n",
       "      <td>15.26</td>\n",
       "      <td>14.84</td>\n",
       "      <td>0.8710</td>\n",
       "      <td>5.763</td>\n",
       "      <td>3.312</td>\n",
       "      <td>2.221</td>\n",
       "      <td>5.220</td>\n",
       "      <td>1</td>\n",
       "    </tr>\n",
       "    <tr>\n",
       "      <th>1</th>\n",
       "      <td>14.88</td>\n",
       "      <td>14.57</td>\n",
       "      <td>0.8811</td>\n",
       "      <td>5.554</td>\n",
       "      <td>3.333</td>\n",
       "      <td>1.018</td>\n",
       "      <td>4.956</td>\n",
       "      <td>1</td>\n",
       "    </tr>\n",
       "    <tr>\n",
       "      <th>2</th>\n",
       "      <td>14.29</td>\n",
       "      <td>14.09</td>\n",
       "      <td>0.9050</td>\n",
       "      <td>5.291</td>\n",
       "      <td>3.337</td>\n",
       "      <td>2.699</td>\n",
       "      <td>4.825</td>\n",
       "      <td>1</td>\n",
       "    </tr>\n",
       "    <tr>\n",
       "      <th>3</th>\n",
       "      <td>13.84</td>\n",
       "      <td>13.94</td>\n",
       "      <td>0.8955</td>\n",
       "      <td>5.324</td>\n",
       "      <td>3.379</td>\n",
       "      <td>2.259</td>\n",
       "      <td>4.805</td>\n",
       "      <td>1</td>\n",
       "    </tr>\n",
       "    <tr>\n",
       "      <th>4</th>\n",
       "      <td>16.14</td>\n",
       "      <td>14.99</td>\n",
       "      <td>0.9034</td>\n",
       "      <td>5.658</td>\n",
       "      <td>3.562</td>\n",
       "      <td>1.355</td>\n",
       "      <td>5.175</td>\n",
       "      <td>1</td>\n",
       "    </tr>\n",
       "  </tbody>\n",
       "</table>\n",
       "</div>"
      ],
      "text/plain": [
       "   Column1  Column2  Column3  Column4  Column5  Column6  Column7  Column8\n",
       "0    15.26    14.84   0.8710    5.763    3.312    2.221    5.220        1\n",
       "1    14.88    14.57   0.8811    5.554    3.333    1.018    4.956        1\n",
       "2    14.29    14.09   0.9050    5.291    3.337    2.699    4.825        1\n",
       "3    13.84    13.94   0.8955    5.324    3.379    2.259    4.805        1\n",
       "4    16.14    14.99   0.9034    5.658    3.562    1.355    5.175        1"
      ]
     },
     "execution_count": 199,
     "metadata": {},
     "output_type": "execute_result"
    }
   ],
   "source": [
    "import pandas as pd\n",
    "samples_data=pd.read_csv(\"data.csv\")\n",
    "samples_data.head()"
   ]
  },
  {
   "cell_type": "code",
   "execution_count": 200,
   "metadata": {
    "ExecuteTime": {
     "end_time": "2020-05-22T21:33:30.521693Z",
     "start_time": "2020-05-22T21:33:30.490447Z"
    }
   },
   "outputs": [
    {
     "name": "stdout",
     "output_type": "stream",
     "text": [
      "   Column1  Column2  Column3  Column4  Column5  Column6  Column7  Column8  \\\n",
      "0    15.26    14.84   0.8710    5.763    3.312    2.221    5.220        1   \n",
      "1    14.88    14.57   0.8811    5.554    3.333    1.018    4.956        1   \n",
      "2    14.29    14.09   0.9050    5.291    3.337    2.699    4.825        1   \n",
      "3    13.84    13.94   0.8955    5.324    3.379    2.259    4.805        1   \n",
      "4    16.14    14.99   0.9034    5.658    3.562    1.355    5.175        1   \n",
      "\n",
      "     Species  \n",
      "0  Kama weed  \n",
      "1  Kama weed  \n",
      "2  Kama weed  \n",
      "3  Kama weed  \n",
      "4  Kama weed  \n"
     ]
    }
   ],
   "source": [
    "lista=samples_data.Column8.values.tolist()\n",
    "species=[]\n",
    "for i in lista:\n",
    "    if i==3:\n",
    "        species.append(\"Canadian weed\")\n",
    "    if i==2:\n",
    "        species.append(\"Rosa weed\")\n",
    "    if i==1:\n",
    "        species.append(\"Kama weed\")\n",
    "\n",
    "samples_data[\"Species\"]=species\n",
    "print(samples_data.head())"
   ]
  },
  {
   "cell_type": "code",
   "execution_count": 201,
   "metadata": {
    "ExecuteTime": {
     "end_time": "2020-05-22T21:34:05.471984Z",
     "start_time": "2020-05-22T21:34:05.456341Z"
    }
   },
   "outputs": [],
   "source": [
    "varieties=np.array(samples_data.Species)"
   ]
  },
  {
   "cell_type": "code",
   "execution_count": 202,
   "metadata": {
    "ExecuteTime": {
     "end_time": "2020-05-22T21:34:10.118780Z",
     "start_time": "2020-05-22T21:34:10.087532Z"
    }
   },
   "outputs": [
    {
     "data": {
      "text/html": [
       "<div>\n",
       "<style scoped>\n",
       "    .dataframe tbody tr th:only-of-type {\n",
       "        vertical-align: middle;\n",
       "    }\n",
       "\n",
       "    .dataframe tbody tr th {\n",
       "        vertical-align: top;\n",
       "    }\n",
       "\n",
       "    .dataframe thead th {\n",
       "        text-align: right;\n",
       "    }\n",
       "</style>\n",
       "<table border=\"1\" class=\"dataframe\">\n",
       "  <thead>\n",
       "    <tr style=\"text-align: right;\">\n",
       "      <th></th>\n",
       "      <th>Column1</th>\n",
       "      <th>Column2</th>\n",
       "      <th>Column3</th>\n",
       "      <th>Column4</th>\n",
       "      <th>Column5</th>\n",
       "      <th>Column6</th>\n",
       "      <th>Column7</th>\n",
       "    </tr>\n",
       "  </thead>\n",
       "  <tbody>\n",
       "    <tr>\n",
       "      <th>0</th>\n",
       "      <td>15.26</td>\n",
       "      <td>14.84</td>\n",
       "      <td>0.8710</td>\n",
       "      <td>5.763</td>\n",
       "      <td>3.312</td>\n",
       "      <td>2.221</td>\n",
       "      <td>5.220</td>\n",
       "    </tr>\n",
       "    <tr>\n",
       "      <th>1</th>\n",
       "      <td>14.88</td>\n",
       "      <td>14.57</td>\n",
       "      <td>0.8811</td>\n",
       "      <td>5.554</td>\n",
       "      <td>3.333</td>\n",
       "      <td>1.018</td>\n",
       "      <td>4.956</td>\n",
       "    </tr>\n",
       "    <tr>\n",
       "      <th>2</th>\n",
       "      <td>14.29</td>\n",
       "      <td>14.09</td>\n",
       "      <td>0.9050</td>\n",
       "      <td>5.291</td>\n",
       "      <td>3.337</td>\n",
       "      <td>2.699</td>\n",
       "      <td>4.825</td>\n",
       "    </tr>\n",
       "    <tr>\n",
       "      <th>3</th>\n",
       "      <td>13.84</td>\n",
       "      <td>13.94</td>\n",
       "      <td>0.8955</td>\n",
       "      <td>5.324</td>\n",
       "      <td>3.379</td>\n",
       "      <td>2.259</td>\n",
       "      <td>4.805</td>\n",
       "    </tr>\n",
       "    <tr>\n",
       "      <th>4</th>\n",
       "      <td>16.14</td>\n",
       "      <td>14.99</td>\n",
       "      <td>0.9034</td>\n",
       "      <td>5.658</td>\n",
       "      <td>3.562</td>\n",
       "      <td>1.355</td>\n",
       "      <td>5.175</td>\n",
       "    </tr>\n",
       "  </tbody>\n",
       "</table>\n",
       "</div>"
      ],
      "text/plain": [
       "   Column1  Column2  Column3  Column4  Column5  Column6  Column7\n",
       "0    15.26    14.84   0.8710    5.763    3.312    2.221    5.220\n",
       "1    14.88    14.57   0.8811    5.554    3.333    1.018    4.956\n",
       "2    14.29    14.09   0.9050    5.291    3.337    2.699    4.825\n",
       "3    13.84    13.94   0.8955    5.324    3.379    2.259    4.805\n",
       "4    16.14    14.99   0.9034    5.658    3.562    1.355    5.175"
      ]
     },
     "execution_count": 202,
     "metadata": {},
     "output_type": "execute_result"
    }
   ],
   "source": [
    "samples_data.drop('Column8', axis=1, inplace=True)\n",
    "samples_data.drop('Species', axis=1, inplace=True)\n",
    "samples_data.head()"
   ]
  },
  {
   "cell_type": "code",
   "execution_count": 203,
   "metadata": {
    "ExecuteTime": {
     "end_time": "2020-05-22T21:34:20.921904Z",
     "start_time": "2020-05-22T21:34:20.899767Z"
    }
   },
   "outputs": [
    {
     "data": {
      "text/plain": [
       "array([[15.26  , 14.84  ,  0.871 , ...,  3.312 ,  2.221 ,  5.22  ],\n",
       "       [14.88  , 14.57  ,  0.8811, ...,  3.333 ,  1.018 ,  4.956 ],\n",
       "       [14.29  , 14.09  ,  0.905 , ...,  3.337 ,  2.699 ,  4.825 ],\n",
       "       ...,\n",
       "       [13.2   , 13.66  ,  0.8883, ...,  3.232 ,  8.315 ,  5.056 ],\n",
       "       [11.84  , 13.21  ,  0.8521, ...,  2.836 ,  3.598 ,  5.044 ],\n",
       "       [12.3   , 13.34  ,  0.8684, ...,  2.974 ,  5.637 ,  5.063 ]])"
      ]
     },
     "execution_count": 203,
     "metadata": {},
     "output_type": "execute_result"
    }
   ],
   "source": [
    "samples=samples_data.to_numpy()\n",
    "samples"
   ]
  },
  {
   "cell_type": "code",
   "execution_count": 204,
   "metadata": {
    "ExecuteTime": {
     "end_time": "2020-05-22T21:34:24.760491Z",
     "start_time": "2020-05-22T21:34:24.559823Z"
    }
   },
   "outputs": [
    {
     "data": {
      "image/png": "[encoded data removed]",
      "text/plain": [
       "<Figure size 432x288 with 1 Axes>"
      ]
     },
     "metadata": {
      "needs_background": "light"
     },
     "output_type": "display_data"
    }
   ],
   "source": [
    "ks = range(1, 6)\n",
    "inertias = []\n",
    "\n",
    "for k in ks:\n",
    "    # Create a KMeans instance with k clusters: model\n",
    "    model = KMeans(n_clusters=k)\n",
    "    # Fit model to samples\n",
    "    model.fit(samples)  \n",
    "    # Append the inertia to the list of inertias\n",
    "    inertias.append(model.inertia_)\n",
    "    \n",
    "# Plot ks vs inertias\n",
    "plt.plot(ks, inertias, '-o')\n",
    "plt.xlabel('number of clusters, k')\n",
    "plt.ylabel('inertia')\n",
    "plt.xticks(ks)\n",
    "plt.show()\n"
   ]
  },
  {
   "cell_type": "markdown",
   "metadata": {},
   "source": [
    "## Evaluating the grain clustering\n",
    "\n",
    "In the previous exercise, you observed from the inertia plot that 3 is a good number of clusters for the grain data. In fact, the grain samples come from a mix of 3 different grain varieties: \"Kama\", \"Rosa\" and \"Canadian\". In this exercise, cluster the grain samples into three clusters, and compare the clusters to the grain varieties using a cross-tabulation.\n",
    "\n",
    "You have the array samples of grain samples, and a list varieties giving the grain variety for each sample. Pandas (pd) and KMeans have already been imported for you.\n",
    "\n",
    "\n",
    "- Create a KMeans model called model with 3 clusters.\n",
    "- Use the .fit_predict() method of model to fit it to samples and derive the cluster labels. \n",
    "- Using .fit_predict() is the same as using .fit() followed by .predict().\n",
    "- Create a DataFrame df with two columns named 'labels' and 'varieties', using labels and varieties, respectively, for the column values. This has been done for you.\n",
    "- Use the pd.crosstab() function on df['labels'] and df['varieties'] to count the number of times each grain variety coincides with each cluster label. Assign the result to ct.\n",
    "- Hit 'Submit Answer' to see the cross-tabulation!\n"
   ]
  },
  {
   "cell_type": "code",
   "execution_count": 205,
   "metadata": {
    "ExecuteTime": {
     "end_time": "2020-05-22T21:34:38.887070Z",
     "start_time": "2020-05-22T21:34:38.833807Z"
    }
   },
   "outputs": [
    {
     "name": "stdout",
     "output_type": "stream",
     "text": [
      "varieties  Canadian weed  Kama weed  Rosa weed\n",
      "labels                                        \n",
      "0                     68          9          0\n",
      "1                      0          1         60\n",
      "2                      2         60         10\n"
     ]
    }
   ],
   "source": [
    "# Create a KMeans model with 3 clusters: model\n",
    "model = KMeans(n_clusters=3)\n",
    "\n",
    "# Use fit_predict to fit model and obtain cluster labels: labels\n",
    "labels = model.fit_predict(samples)\n",
    "\n",
    "# Create a DataFrame with labels and varieties as columns: df\n",
    "df = pd.DataFrame({'labels': labels, 'varieties': varieties})\n",
    "\n",
    "# Create crosstab: ct\n",
    "ct = pd.crosstab(df['labels'], df['varieties']) \n",
    "\n",
    "# Display ct\n",
    "print(ct)"
   ]
  },
  {
   "cell_type": "markdown",
   "metadata": {},
   "source": [
    "# Project 4: Iris Dataset\n",
    "\n",
    "<img src=\"https://raw.githubusercontent.com/ritchieng/machine-learning-dataschool/master/images/03_iris.png\">\n",
    "\n",
    "The iris dataset contains the following data\n",
    "- 50 samples of 3 different species of iris (150 samples total)\n",
    "- Measurements: sepal length, sepal width, petal length, petal width\n",
    "- The format for the data: (sepal length, sepal width, petal length, petal width)\n",
    "\n"
   ]
  },
  {
   "cell_type": "code",
   "execution_count": 103,
   "metadata": {
    "ExecuteTime": {
     "end_time": "2020-05-22T19:51:25.359800Z",
     "start_time": "2020-05-22T19:51:25.312931Z"
    }
   },
   "outputs": [
    {
     "data": {
      "text/plain": [
       "sklearn.utils.Bunch"
      ]
     },
     "execution_count": 103,
     "metadata": {},
     "output_type": "execute_result"
    }
   ],
   "source": [
    "# import load_iris function from datasets module\n",
    "# convention is to import modules instead of sklearn as a whole\n",
    "from sklearn.datasets import load_iris\n",
    "\n",
    "# save \"bunch\" object containing iris dataset and its attributes\n",
    "# the data type is \"bunch\"\n",
    "iris = load_iris()\n",
    "type(iris)"
   ]
  },
  {
   "cell_type": "code",
   "execution_count": 105,
   "metadata": {
    "ExecuteTime": {
     "end_time": "2020-05-22T19:54:57.009694Z",
     "start_time": "2020-05-22T19:54:56.994069Z"
    },
    "hide_input": true,
    "scrolled": true
   },
   "outputs": [
    {
     "name": "stdout",
     "output_type": "stream",
     "text": [
      "[[5.1 3.5 1.4 0.2]\n",
      " [4.9 3.  1.4 0.2]\n",
      " [4.7 3.2 1.3 0.2]\n",
      " [4.6 3.1 1.5 0.2]\n",
      " [5.  3.6 1.4 0.2]\n",
      " [5.4 3.9 1.7 0.4]\n",
      " [4.6 3.4 1.4 0.3]\n",
      " [5.  3.4 1.5 0.2]\n",
      " [4.4 2.9 1.4 0.2]\n",
      " [4.9 3.1 1.5 0.1]\n",
      " [5.4 3.7 1.5 0.2]\n",
      " [4.8 3.4 1.6 0.2]\n",
      " [4.8 3.  1.4 0.1]\n",
      " [4.3 3.  1.1 0.1]\n",
      " [5.8 4.  1.2 0.2]\n",
      " [5.7 4.4 1.5 0.4]\n",
      " [5.4 3.9 1.3 0.4]\n",
      " [5.1 3.5 1.4 0.3]\n",
      " [5.7 3.8 1.7 0.3]\n",
      " [5.1 3.8 1.5 0.3]\n",
      " [5.4 3.4 1.7 0.2]\n",
      " [5.1 3.7 1.5 0.4]\n",
      " [4.6 3.6 1.  0.2]\n",
      " [5.1 3.3 1.7 0.5]\n",
      " [4.8 3.4 1.9 0.2]\n",
      " [5.  3.  1.6 0.2]\n",
      " [5.  3.4 1.6 0.4]\n",
      " [5.2 3.5 1.5 0.2]\n",
      " [5.2 3.4 1.4 0.2]\n",
      " [4.7 3.2 1.6 0.2]\n",
      " [4.8 3.1 1.6 0.2]\n",
      " [5.4 3.4 1.5 0.4]\n",
      " [5.2 4.1 1.5 0.1]\n",
      " [5.5 4.2 1.4 0.2]\n",
      " [4.9 3.1 1.5 0.2]\n",
      " [5.  3.2 1.2 0.2]\n",
      " [5.5 3.5 1.3 0.2]\n",
      " [4.9 3.6 1.4 0.1]\n",
      " [4.4 3.  1.3 0.2]\n",
      " [5.1 3.4 1.5 0.2]\n",
      " [5.  3.5 1.3 0.3]\n",
      " [4.5 2.3 1.3 0.3]\n",
      " [4.4 3.2 1.3 0.2]\n",
      " [5.  3.5 1.6 0.6]\n",
      " [5.1 3.8 1.9 0.4]\n",
      " [4.8 3.  1.4 0.3]\n",
      " [5.1 3.8 1.6 0.2]\n",
      " [4.6 3.2 1.4 0.2]\n",
      " [5.3 3.7 1.5 0.2]\n",
      " [5.  3.3 1.4 0.2]\n",
      " [7.  3.2 4.7 1.4]\n",
      " [6.4 3.2 4.5 1.5]\n",
      " [6.9 3.1 4.9 1.5]\n",
      " [5.5 2.3 4.  1.3]\n",
      " [6.5 2.8 4.6 1.5]\n",
      " [5.7 2.8 4.5 1.3]\n",
      " [6.3 3.3 4.7 1.6]\n",
      " [4.9 2.4 3.3 1. ]\n",
      " [6.6 2.9 4.6 1.3]\n",
      " [5.2 2.7 3.9 1.4]\n",
      " [5.  2.  3.5 1. ]\n",
      " [5.9 3.  4.2 1.5]\n",
      " [6.  2.2 4.  1. ]\n",
      " [6.1 2.9 4.7 1.4]\n",
      " [5.6 2.9 3.6 1.3]\n",
      " [6.7 3.1 4.4 1.4]\n",
      " [5.6 3.  4.5 1.5]\n",
      " [5.8 2.7 4.1 1. ]\n",
      " [6.2 2.2 4.5 1.5]\n",
      " [5.6 2.5 3.9 1.1]\n",
      " [5.9 3.2 4.8 1.8]\n",
      " [6.1 2.8 4.  1.3]\n",
      " [6.3 2.5 4.9 1.5]\n",
      " [6.1 2.8 4.7 1.2]\n",
      " [6.4 2.9 4.3 1.3]\n",
      " [6.6 3.  4.4 1.4]\n",
      " [6.8 2.8 4.8 1.4]\n",
      " [6.7 3.  5.  1.7]\n",
      " [6.  2.9 4.5 1.5]\n",
      " [5.7 2.6 3.5 1. ]\n",
      " [5.5 2.4 3.8 1.1]\n",
      " [5.5 2.4 3.7 1. ]\n",
      " [5.8 2.7 3.9 1.2]\n",
      " [6.  2.7 5.1 1.6]\n",
      " [5.4 3.  4.5 1.5]\n",
      " [6.  3.4 4.5 1.6]\n",
      " [6.7 3.1 4.7 1.5]\n",
      " [6.3 2.3 4.4 1.3]\n",
      " [5.6 3.  4.1 1.3]\n",
      " [5.5 2.5 4.  1.3]\n",
      " [5.5 2.6 4.4 1.2]\n",
      " [6.1 3.  4.6 1.4]\n",
      " [5.8 2.6 4.  1.2]\n",
      " [5.  2.3 3.3 1. ]\n",
      " [5.6 2.7 4.2 1.3]\n",
      " [5.7 3.  4.2 1.2]\n",
      " [5.7 2.9 4.2 1.3]\n",
      " [6.2 2.9 4.3 1.3]\n",
      " [5.1 2.5 3.  1.1]\n",
      " [5.7 2.8 4.1 1.3]\n",
      " [6.3 3.3 6.  2.5]\n",
      " [5.8 2.7 5.1 1.9]\n",
      " [7.1 3.  5.9 2.1]\n",
      " [6.3 2.9 5.6 1.8]\n",
      " [6.5 3.  5.8 2.2]\n",
      " [7.6 3.  6.6 2.1]\n",
      " [4.9 2.5 4.5 1.7]\n",
      " [7.3 2.9 6.3 1.8]\n",
      " [6.7 2.5 5.8 1.8]\n",
      " [7.2 3.6 6.1 2.5]\n",
      " [6.5 3.2 5.1 2. ]\n",
      " [6.4 2.7 5.3 1.9]\n",
      " [6.8 3.  5.5 2.1]\n",
      " [5.7 2.5 5.  2. ]\n",
      " [5.8 2.8 5.1 2.4]\n",
      " [6.4 3.2 5.3 2.3]\n",
      " [6.5 3.  5.5 1.8]\n",
      " [7.7 3.8 6.7 2.2]\n",
      " [7.7 2.6 6.9 2.3]\n",
      " [6.  2.2 5.  1.5]\n",
      " [6.9 3.2 5.7 2.3]\n",
      " [5.6 2.8 4.9 2. ]\n",
      " [7.7 2.8 6.7 2. ]\n",
      " [6.3 2.7 4.9 1.8]\n",
      " [6.7 3.3 5.7 2.1]\n",
      " [7.2 3.2 6.  1.8]\n",
      " [6.2 2.8 4.8 1.8]\n",
      " [6.1 3.  4.9 1.8]\n",
      " [6.4 2.8 5.6 2.1]\n",
      " [7.2 3.  5.8 1.6]\n",
      " [7.4 2.8 6.1 1.9]\n",
      " [7.9 3.8 6.4 2. ]\n",
      " [6.4 2.8 5.6 2.2]\n",
      " [6.3 2.8 5.1 1.5]\n",
      " [6.1 2.6 5.6 1.4]\n",
      " [7.7 3.  6.1 2.3]\n",
      " [6.3 3.4 5.6 2.4]\n",
      " [6.4 3.1 5.5 1.8]\n",
      " [6.  3.  4.8 1.8]\n",
      " [6.9 3.1 5.4 2.1]\n",
      " [6.7 3.1 5.6 2.4]\n",
      " [6.9 3.1 5.1 2.3]\n",
      " [5.8 2.7 5.1 1.9]\n",
      " [6.8 3.2 5.9 2.3]\n",
      " [6.7 3.3 5.7 2.5]\n",
      " [6.7 3.  5.2 2.3]\n",
      " [6.3 2.5 5.  1.9]\n",
      " [6.5 3.  5.2 2. ]\n",
      " [6.2 3.4 5.4 2.3]\n",
      " [5.9 3.  5.1 1.8]]\n"
     ]
    }
   ],
   "source": [
    "# print the iris data\n",
    "# same data as shown previously\n",
    "# each row represents each sample\n",
    "# each column represents the features\n",
    "samples=iris.data\n",
    "print(samples)"
   ]
  },
  {
   "cell_type": "markdown",
   "metadata": {},
   "source": [
    "## Creating model"
   ]
  },
  {
   "cell_type": "code",
   "execution_count": 109,
   "metadata": {
    "ExecuteTime": {
     "end_time": "2020-05-22T20:00:25.378276Z",
     "start_time": "2020-05-22T20:00:25.347028Z"
    }
   },
   "outputs": [
    {
     "name": "stdout",
     "output_type": "stream",
     "text": [
      "[0 0 0 0 0 0 0 0 0 0 0 0 0 0 0 0 0 0 0 0 0 0 0 0 0 0 0 0 0 0 0 0 0 0 0 0 0\n",
      " 0 0 0 0 0 0 0 0 0 0 0 0 0 2 2 1 2 2 2 2 2 2 2 2 2 2 2 2 2 2 2 2 2 2 2 2 2\n",
      " 2 2 2 1 2 2 2 2 2 2 2 2 2 2 2 2 2 2 2 2 2 2 2 2 2 2 1 2 1 1 1 1 2 1 1 1 1\n",
      " 1 1 2 2 1 1 1 1 2 1 2 1 2 1 1 2 2 1 1 1 1 1 2 1 1 1 1 2 1 1 1 2 1 1 1 2 1\n",
      " 1 2]\n"
     ]
    }
   ],
   "source": [
    "from sklearn.cluster import KMeans \n",
    "model = KMeans(n_clusters=3) \n",
    "model.fit(samples) \n",
    "labels = model.predict(samples)\n",
    "print(labels)"
   ]
  },
  {
   "cell_type": "markdown",
   "metadata": {},
   "source": [
    "## Cluster labels for new samples"
   ]
  },
  {
   "cell_type": "code",
   "execution_count": 110,
   "metadata": {
    "ExecuteTime": {
     "end_time": "2020-05-22T20:01:41.395698Z",
     "start_time": "2020-05-22T20:01:41.380163Z"
    }
   },
   "outputs": [
    {
     "name": "stdout",
     "output_type": "stream",
     "text": [
      "[0 1 2]\n"
     ]
    }
   ],
   "source": [
    "new_samples =np.array([[5.7,4.4,1.5,0.4],\n",
    "                      [6.5,3,5.5,1.8],\n",
    "                      [5.8,2.7,5.1,1.9]])\n",
    "new_labels = model.predict(new_samples)\n",
    "print(new_labels)\n"
   ]
  },
  {
   "cell_type": "markdown",
   "metadata": {},
   "source": [
    "## Scatter plots"
   ]
  },
  {
   "cell_type": "code",
   "execution_count": 111,
   "metadata": {
    "ExecuteTime": {
     "end_time": "2020-05-22T20:04:02.237342Z",
     "start_time": "2020-05-22T20:04:02.083502Z"
    }
   },
   "outputs": [
    {
     "data": {
      "image/png": "[encoded data removed]",
      "text/plain": [
       "<Figure size 432x288 with 1 Axes>"
      ]
     },
     "metadata": {
      "needs_background": "light"
     },
     "output_type": "display_data"
    }
   ],
   "source": [
    "import matplotlib.pyplot as plt\n",
    "xs = samples[:,0]\n",
    "ys = samples[:,2]\n",
    "plt.scatter(xs, ys, c=labels)\n",
    "plt.show()"
   ]
  },
  {
   "cell_type": "markdown",
   "metadata": {},
   "source": [
    "## Evaluating a clustering\n",
    "\n",
    "Let's import the iris dataset again, with the species column."
   ]
  },
  {
   "cell_type": "code",
   "execution_count": 124,
   "metadata": {
    "ExecuteTime": {
     "end_time": "2020-05-22T20:11:13.671979Z",
     "start_time": "2020-05-22T20:11:13.640820Z"
    }
   },
   "outputs": [],
   "source": [
    "from sklearn.datasets import load_iris\n",
    "import pandas as pd\n",
    "dataset=load_iris()\n",
    "data=pd.DataFrame(dataset['data'],columns=['Petal length','Petal Width','Sepal Length','Sepal Width'])\n",
    "data['Species']=dataset['target']\n",
    "data['Species']=data['Species'].apply(lambda x: dataset['target_names'][x])"
   ]
  },
  {
   "cell_type": "markdown",
   "metadata": {},
   "source": [
    "Know we proceed to add to our df a new column with labels created with the k-mean algorithm"
   ]
  },
  {
   "cell_type": "code",
   "execution_count": 125,
   "metadata": {
    "ExecuteTime": {
     "end_time": "2020-05-22T20:12:39.224665Z",
     "start_time": "2020-05-22T20:12:39.209038Z"
    }
   },
   "outputs": [],
   "source": [
    "data['labels']=np.array(labels)"
   ]
  },
  {
   "cell_type": "code",
   "execution_count": 126,
   "metadata": {
    "ExecuteTime": {
     "end_time": "2020-05-22T20:12:47.041945Z",
     "start_time": "2020-05-22T20:12:47.019709Z"
    }
   },
   "outputs": [
    {
     "data": {
      "text/html": [
       "<div>\n",
       "<style scoped>\n",
       "    .dataframe tbody tr th:only-of-type {\n",
       "        vertical-align: middle;\n",
       "    }\n",
       "\n",
       "    .dataframe tbody tr th {\n",
       "        vertical-align: top;\n",
       "    }\n",
       "\n",
       "    .dataframe thead th {\n",
       "        text-align: right;\n",
       "    }\n",
       "</style>\n",
       "<table border=\"1\" class=\"dataframe\">\n",
       "  <thead>\n",
       "    <tr style=\"text-align: right;\">\n",
       "      <th></th>\n",
       "      <th>Petal length</th>\n",
       "      <th>Petal Width</th>\n",
       "      <th>Sepal Length</th>\n",
       "      <th>Sepal Width</th>\n",
       "      <th>Species</th>\n",
       "      <th>labels</th>\n",
       "    </tr>\n",
       "  </thead>\n",
       "  <tbody>\n",
       "    <tr>\n",
       "      <th>0</th>\n",
       "      <td>5.1</td>\n",
       "      <td>3.5</td>\n",
       "      <td>1.4</td>\n",
       "      <td>0.2</td>\n",
       "      <td>setosa</td>\n",
       "      <td>0</td>\n",
       "    </tr>\n",
       "    <tr>\n",
       "      <th>1</th>\n",
       "      <td>4.9</td>\n",
       "      <td>3.0</td>\n",
       "      <td>1.4</td>\n",
       "      <td>0.2</td>\n",
       "      <td>setosa</td>\n",
       "      <td>0</td>\n",
       "    </tr>\n",
       "    <tr>\n",
       "      <th>2</th>\n",
       "      <td>4.7</td>\n",
       "      <td>3.2</td>\n",
       "      <td>1.3</td>\n",
       "      <td>0.2</td>\n",
       "      <td>setosa</td>\n",
       "      <td>0</td>\n",
       "    </tr>\n",
       "    <tr>\n",
       "      <th>3</th>\n",
       "      <td>4.6</td>\n",
       "      <td>3.1</td>\n",
       "      <td>1.5</td>\n",
       "      <td>0.2</td>\n",
       "      <td>setosa</td>\n",
       "      <td>0</td>\n",
       "    </tr>\n",
       "    <tr>\n",
       "      <th>4</th>\n",
       "      <td>5.0</td>\n",
       "      <td>3.6</td>\n",
       "      <td>1.4</td>\n",
       "      <td>0.2</td>\n",
       "      <td>setosa</td>\n",
       "      <td>0</td>\n",
       "    </tr>\n",
       "  </tbody>\n",
       "</table>\n",
       "</div>"
      ],
      "text/plain": [
       "   Petal length  Petal Width  Sepal Length  Sepal Width Species  labels\n",
       "0           5.1          3.5           1.4          0.2  setosa       0\n",
       "1           4.9          3.0           1.4          0.2  setosa       0\n",
       "2           4.7          3.2           1.3          0.2  setosa       0\n",
       "3           4.6          3.1           1.5          0.2  setosa       0\n",
       "4           5.0          3.6           1.4          0.2  setosa       0"
      ]
     },
     "execution_count": 126,
     "metadata": {},
     "output_type": "execute_result"
    }
   ],
   "source": [
    "data.head()"
   ]
  },
  {
   "cell_type": "markdown",
   "metadata": {},
   "source": [
    "Then we can evaluate our model using a crosstab table."
   ]
  },
  {
   "cell_type": "code",
   "execution_count": 127,
   "metadata": {
    "ExecuteTime": {
     "end_time": "2020-05-22T20:16:35.132034Z",
     "start_time": "2020-05-22T20:16:35.085168Z"
    }
   },
   "outputs": [
    {
     "name": "stdout",
     "output_type": "stream",
     "text": [
      "Species  setosa  versicolor  virginica\n",
      "labels                                \n",
      "0            50           0          0\n",
      "1             0           2         36\n",
      "2             0          48         14\n"
     ]
    }
   ],
   "source": [
    "ct = pd.crosstab(data['labels'], data['Species']) \n",
    "print(ct)"
   ]
  },
  {
   "cell_type": "markdown",
   "metadata": {},
   "source": [
    "## Inertia measures clustering quality\n",
    "\n",
    "- Measures how spread out the clusters are (lower is better) \n",
    "- Distance from each sample to centroid of its cluster \n",
    "- After fit(), available as attribute inertia_ \n",
    "- k-means attempts to minimize the inertia when choosing clusters"
   ]
  },
  {
   "cell_type": "code",
   "execution_count": 129,
   "metadata": {
    "ExecuteTime": {
     "end_time": "2020-05-22T20:20:19.907732Z",
     "start_time": "2020-05-22T20:20:19.860855Z"
    }
   },
   "outputs": [
    {
     "name": "stdout",
     "output_type": "stream",
     "text": [
      "78.85144142614601\n"
     ]
    }
   ],
   "source": [
    "from sklearn.cluster import KMeans \n",
    "\n",
    "model = KMeans(n_clusters=3)\n",
    "model.fit(samples)\n",
    "print(model.inertia_)"
   ]
  },
  {
   "cell_type": "markdown",
   "metadata": {},
   "source": [
    "## The number of clusters\n",
    "- Clusterings of the iris dataset with different numbers of clusters\n",
    "- More clusters means lower inertia\n",
    "- What is the best number of clusters?\n",
    "- A good clustering has tight clusters (so low inertia)\n",
    "- ... but not too many clusters!\n",
    "- Choose an \"elbow\" in the inertia plot\n",
    "- Where inertia begins to decrease more slowly\n",
    "- E.g. for iris dataset, 3 is a good choice"
   ]
  },
  {
   "cell_type": "code",
   "execution_count": 131,
   "metadata": {
    "ExecuteTime": {
     "end_time": "2020-05-22T20:26:06.924894Z",
     "start_time": "2020-05-22T20:26:06.593350Z"
    }
   },
   "outputs": [
    {
     "data": {
      "image/png": "[encoded data removed]",
      "text/plain": [
       "<Figure size 432x288 with 1 Axes>"
      ]
     },
     "metadata": {
      "needs_background": "light"
     },
     "output_type": "display_data"
    }
   ],
   "source": [
    "inertia = []\n",
    "\n",
    "K = range(1,10)\n",
    "for k in K:\n",
    "    model = KMeans(n_clusters=k)\n",
    "    model.fit(samples)\n",
    "    inertia.append(model.inertia_)\n",
    "\n",
    "# Plot the elbow\n",
    "plt.plot(K, inertia, 'bx-')\n",
    "plt.xlabel('Number of cluster (k)')\n",
    "plt.ylabel('inertia')\n",
    "plt.title('The Elbow Method showing the optimal k')\n",
    "plt.show()"
   ]
  },
  {
   "cell_type": "markdown",
   "metadata": {},
   "source": [
    "# Project 5: Fish Catch Preprocessing and Using Pipeline\n",
    "\n"
   ]
  },
  {
   "cell_type": "markdown",
   "metadata": {},
   "source": [
    "## Setup"
   ]
  },
  {
   "cell_type": "code",
   "execution_count": 246,
   "metadata": {
    "ExecuteTime": {
     "end_time": "2020-05-22T22:26:20.983497Z",
     "start_time": "2020-05-22T22:26:20.967872Z"
    }
   },
   "outputs": [],
   "source": [
    "import pandas as pd\n",
    "fish=pd.read_csv(\"fish.csv\", header=None, delimiter=r\"\\s+\")"
   ]
  },
  {
   "cell_type": "code",
   "execution_count": 247,
   "metadata": {
    "ExecuteTime": {
     "end_time": "2020-05-22T22:26:21.784416Z",
     "start_time": "2020-05-22T22:26:21.768791Z"
    }
   },
   "outputs": [
    {
     "data": {
      "text/html": [
       "<div>\n",
       "<style scoped>\n",
       "    .dataframe tbody tr th:only-of-type {\n",
       "        vertical-align: middle;\n",
       "    }\n",
       "\n",
       "    .dataframe tbody tr th {\n",
       "        vertical-align: top;\n",
       "    }\n",
       "\n",
       "    .dataframe thead th {\n",
       "        text-align: right;\n",
       "    }\n",
       "</style>\n",
       "<table border=\"1\" class=\"dataframe\">\n",
       "  <thead>\n",
       "    <tr style=\"text-align: right;\">\n",
       "      <th></th>\n",
       "      <th>0</th>\n",
       "      <th>1</th>\n",
       "      <th>2</th>\n",
       "      <th>3</th>\n",
       "      <th>4</th>\n",
       "      <th>5</th>\n",
       "      <th>6</th>\n",
       "      <th>7</th>\n",
       "      <th>8</th>\n",
       "    </tr>\n",
       "  </thead>\n",
       "  <tbody>\n",
       "    <tr>\n",
       "      <th>0</th>\n",
       "      <td>1</td>\n",
       "      <td>1</td>\n",
       "      <td>242.0</td>\n",
       "      <td>23.2</td>\n",
       "      <td>25.4</td>\n",
       "      <td>30.0</td>\n",
       "      <td>38.4</td>\n",
       "      <td>13.4</td>\n",
       "      <td>NaN</td>\n",
       "    </tr>\n",
       "    <tr>\n",
       "      <th>1</th>\n",
       "      <td>2</td>\n",
       "      <td>1</td>\n",
       "      <td>290.0</td>\n",
       "      <td>24.0</td>\n",
       "      <td>26.3</td>\n",
       "      <td>31.2</td>\n",
       "      <td>40.0</td>\n",
       "      <td>13.8</td>\n",
       "      <td>NaN</td>\n",
       "    </tr>\n",
       "    <tr>\n",
       "      <th>2</th>\n",
       "      <td>3</td>\n",
       "      <td>1</td>\n",
       "      <td>340.0</td>\n",
       "      <td>23.9</td>\n",
       "      <td>26.5</td>\n",
       "      <td>31.1</td>\n",
       "      <td>39.8</td>\n",
       "      <td>15.1</td>\n",
       "      <td>NaN</td>\n",
       "    </tr>\n",
       "    <tr>\n",
       "      <th>3</th>\n",
       "      <td>4</td>\n",
       "      <td>1</td>\n",
       "      <td>363.0</td>\n",
       "      <td>26.3</td>\n",
       "      <td>29.0</td>\n",
       "      <td>33.5</td>\n",
       "      <td>38.0</td>\n",
       "      <td>13.3</td>\n",
       "      <td>NaN</td>\n",
       "    </tr>\n",
       "    <tr>\n",
       "      <th>4</th>\n",
       "      <td>5</td>\n",
       "      <td>1</td>\n",
       "      <td>430.0</td>\n",
       "      <td>26.5</td>\n",
       "      <td>29.0</td>\n",
       "      <td>34.0</td>\n",
       "      <td>36.6</td>\n",
       "      <td>15.1</td>\n",
       "      <td>NaN</td>\n",
       "    </tr>\n",
       "  </tbody>\n",
       "</table>\n",
       "</div>"
      ],
      "text/plain": [
       "   0  1      2     3     4     5     6     7   8\n",
       "0  1  1  242.0  23.2  25.4  30.0  38.4  13.4 NaN\n",
       "1  2  1  290.0  24.0  26.3  31.2  40.0  13.8 NaN\n",
       "2  3  1  340.0  23.9  26.5  31.1  39.8  15.1 NaN\n",
       "3  4  1  363.0  26.3  29.0  33.5  38.0  13.3 NaN\n",
       "4  5  1  430.0  26.5  29.0  34.0  36.6  15.1 NaN"
      ]
     },
     "execution_count": 247,
     "metadata": {},
     "output_type": "execute_result"
    }
   ],
   "source": [
    "fish.head()"
   ]
  },
  {
   "cell_type": "code",
   "execution_count": 248,
   "metadata": {
    "ExecuteTime": {
     "end_time": "2020-05-22T22:26:22.339416Z",
     "start_time": "2020-05-22T22:26:22.323789Z"
    }
   },
   "outputs": [],
   "source": [
    "fish.columns = ['Obs','Species','Weight','Lengthl','Length2','Length3','Height','Width','Sex']"
   ]
  },
  {
   "cell_type": "code",
   "execution_count": 249,
   "metadata": {
    "ExecuteTime": {
     "end_time": "2020-05-22T22:26:22.988611Z",
     "start_time": "2020-05-22T22:26:22.957311Z"
    }
   },
   "outputs": [
    {
     "data": {
      "text/html": [
       "<div>\n",
       "<style scoped>\n",
       "    .dataframe tbody tr th:only-of-type {\n",
       "        vertical-align: middle;\n",
       "    }\n",
       "\n",
       "    .dataframe tbody tr th {\n",
       "        vertical-align: top;\n",
       "    }\n",
       "\n",
       "    .dataframe thead th {\n",
       "        text-align: right;\n",
       "    }\n",
       "</style>\n",
       "<table border=\"1\" class=\"dataframe\">\n",
       "  <thead>\n",
       "    <tr style=\"text-align: right;\">\n",
       "      <th></th>\n",
       "      <th>Obs</th>\n",
       "      <th>Species</th>\n",
       "      <th>Weight</th>\n",
       "      <th>Lengthl</th>\n",
       "      <th>Length2</th>\n",
       "      <th>Length3</th>\n",
       "      <th>Height</th>\n",
       "      <th>Width</th>\n",
       "      <th>Sex</th>\n",
       "    </tr>\n",
       "  </thead>\n",
       "  <tbody>\n",
       "    <tr>\n",
       "      <th>0</th>\n",
       "      <td>1</td>\n",
       "      <td>1</td>\n",
       "      <td>242.0</td>\n",
       "      <td>23.2</td>\n",
       "      <td>25.4</td>\n",
       "      <td>30.0</td>\n",
       "      <td>38.4</td>\n",
       "      <td>13.4</td>\n",
       "      <td>NaN</td>\n",
       "    </tr>\n",
       "    <tr>\n",
       "      <th>1</th>\n",
       "      <td>2</td>\n",
       "      <td>1</td>\n",
       "      <td>290.0</td>\n",
       "      <td>24.0</td>\n",
       "      <td>26.3</td>\n",
       "      <td>31.2</td>\n",
       "      <td>40.0</td>\n",
       "      <td>13.8</td>\n",
       "      <td>NaN</td>\n",
       "    </tr>\n",
       "    <tr>\n",
       "      <th>2</th>\n",
       "      <td>3</td>\n",
       "      <td>1</td>\n",
       "      <td>340.0</td>\n",
       "      <td>23.9</td>\n",
       "      <td>26.5</td>\n",
       "      <td>31.1</td>\n",
       "      <td>39.8</td>\n",
       "      <td>15.1</td>\n",
       "      <td>NaN</td>\n",
       "    </tr>\n",
       "    <tr>\n",
       "      <th>3</th>\n",
       "      <td>4</td>\n",
       "      <td>1</td>\n",
       "      <td>363.0</td>\n",
       "      <td>26.3</td>\n",
       "      <td>29.0</td>\n",
       "      <td>33.5</td>\n",
       "      <td>38.0</td>\n",
       "      <td>13.3</td>\n",
       "      <td>NaN</td>\n",
       "    </tr>\n",
       "    <tr>\n",
       "      <th>4</th>\n",
       "      <td>5</td>\n",
       "      <td>1</td>\n",
       "      <td>430.0</td>\n",
       "      <td>26.5</td>\n",
       "      <td>29.0</td>\n",
       "      <td>34.0</td>\n",
       "      <td>36.6</td>\n",
       "      <td>15.1</td>\n",
       "      <td>NaN</td>\n",
       "    </tr>\n",
       "  </tbody>\n",
       "</table>\n",
       "</div>"
      ],
      "text/plain": [
       "   Obs  Species  Weight  Lengthl  Length2  Length3  Height  Width  Sex\n",
       "0    1        1   242.0     23.2     25.4     30.0    38.4   13.4  NaN\n",
       "1    2        1   290.0     24.0     26.3     31.2    40.0   13.8  NaN\n",
       "2    3        1   340.0     23.9     26.5     31.1    39.8   15.1  NaN\n",
       "3    4        1   363.0     26.3     29.0     33.5    38.0   13.3  NaN\n",
       "4    5        1   430.0     26.5     29.0     34.0    36.6   15.1  NaN"
      ]
     },
     "execution_count": 249,
     "metadata": {},
     "output_type": "execute_result"
    }
   ],
   "source": [
    "fish.head()"
   ]
  },
  {
   "cell_type": "code",
   "execution_count": 250,
   "metadata": {
    "ExecuteTime": {
     "end_time": "2020-05-22T22:26:23.691686Z",
     "start_time": "2020-05-22T22:26:23.660510Z"
    }
   },
   "outputs": [
    {
     "name": "stdout",
     "output_type": "stream",
     "text": [
      "   Obs  Species  Weight  Lengthl  Length2  Length3  Height  Width  Sex  \\\n",
      "0    1        1   242.0     23.2     25.4     30.0    38.4   13.4  NaN   \n",
      "1    2        1   290.0     24.0     26.3     31.2    40.0   13.8  NaN   \n",
      "2    3        1   340.0     23.9     26.5     31.1    39.8   15.1  NaN   \n",
      "3    4        1   363.0     26.3     29.0     33.5    38.0   13.3  NaN   \n",
      "4    5        1   430.0     26.5     29.0     34.0    36.6   15.1  NaN   \n",
      "\n",
      "  Species_Name  \n",
      "0        Bream  \n",
      "1        Bream  \n",
      "2        Bream  \n",
      "3        Bream  \n",
      "4        Bream  \n"
     ]
    }
   ],
   "source": [
    "lista=fish.Species.values.tolist()\n",
    "species_name=[]\n",
    "for i in lista:\n",
    "    if i==1:\n",
    "        species_name.append(\"Bream\")\n",
    "    if i==2:\n",
    "        species_name.append(\"Whitewish\")\n",
    "    if i==3:\n",
    "        species_name.append(\"Roach\")\n",
    "    if i==4:\n",
    "        species_name.append(\"Parkki\")    \n",
    "    if i==5:\n",
    "        species_name.append(\"Smelt\")    \n",
    "    if i==6:\n",
    "        species_name.append(\"Pike\") \n",
    "    if i==7:\n",
    "        species_name.append(\"Perch\")\n",
    "        \n",
    "fish[\"Species_Name\"]=species_name\n",
    "print(fish.head())"
   ]
  },
  {
   "cell_type": "code",
   "execution_count": 251,
   "metadata": {
    "ExecuteTime": {
     "end_time": "2020-05-22T22:26:25.264915Z",
     "start_time": "2020-05-22T22:26:25.233664Z"
    }
   },
   "outputs": [
    {
     "data": {
      "text/html": [
       "<div>\n",
       "<style scoped>\n",
       "    .dataframe tbody tr th:only-of-type {\n",
       "        vertical-align: middle;\n",
       "    }\n",
       "\n",
       "    .dataframe tbody tr th {\n",
       "        vertical-align: top;\n",
       "    }\n",
       "\n",
       "    .dataframe thead th {\n",
       "        text-align: right;\n",
       "    }\n",
       "</style>\n",
       "<table border=\"1\" class=\"dataframe\">\n",
       "  <thead>\n",
       "    <tr style=\"text-align: right;\">\n",
       "      <th></th>\n",
       "      <th>Species</th>\n",
       "      <th>Weight</th>\n",
       "      <th>Lengthl</th>\n",
       "      <th>Length2</th>\n",
       "      <th>Length3</th>\n",
       "      <th>Height</th>\n",
       "      <th>Width</th>\n",
       "    </tr>\n",
       "  </thead>\n",
       "  <tbody>\n",
       "    <tr>\n",
       "      <th>0</th>\n",
       "      <td>1</td>\n",
       "      <td>242.0</td>\n",
       "      <td>23.2</td>\n",
       "      <td>25.4</td>\n",
       "      <td>30.0</td>\n",
       "      <td>38.4</td>\n",
       "      <td>13.4</td>\n",
       "    </tr>\n",
       "    <tr>\n",
       "      <th>1</th>\n",
       "      <td>1</td>\n",
       "      <td>290.0</td>\n",
       "      <td>24.0</td>\n",
       "      <td>26.3</td>\n",
       "      <td>31.2</td>\n",
       "      <td>40.0</td>\n",
       "      <td>13.8</td>\n",
       "    </tr>\n",
       "    <tr>\n",
       "      <th>2</th>\n",
       "      <td>1</td>\n",
       "      <td>340.0</td>\n",
       "      <td>23.9</td>\n",
       "      <td>26.5</td>\n",
       "      <td>31.1</td>\n",
       "      <td>39.8</td>\n",
       "      <td>15.1</td>\n",
       "    </tr>\n",
       "    <tr>\n",
       "      <th>3</th>\n",
       "      <td>1</td>\n",
       "      <td>363.0</td>\n",
       "      <td>26.3</td>\n",
       "      <td>29.0</td>\n",
       "      <td>33.5</td>\n",
       "      <td>38.0</td>\n",
       "      <td>13.3</td>\n",
       "    </tr>\n",
       "    <tr>\n",
       "      <th>4</th>\n",
       "      <td>1</td>\n",
       "      <td>430.0</td>\n",
       "      <td>26.5</td>\n",
       "      <td>29.0</td>\n",
       "      <td>34.0</td>\n",
       "      <td>36.6</td>\n",
       "      <td>15.1</td>\n",
       "    </tr>\n",
       "  </tbody>\n",
       "</table>\n",
       "</div>"
      ],
      "text/plain": [
       "   Species  Weight  Lengthl  Length2  Length3  Height  Width\n",
       "0        1   242.0     23.2     25.4     30.0    38.4   13.4\n",
       "1        1   290.0     24.0     26.3     31.2    40.0   13.8\n",
       "2        1   340.0     23.9     26.5     31.1    39.8   15.1\n",
       "3        1   363.0     26.3     29.0     33.5    38.0   13.3\n",
       "4        1   430.0     26.5     29.0     34.0    36.6   15.1"
      ]
     },
     "execution_count": 251,
     "metadata": {},
     "output_type": "execute_result"
    }
   ],
   "source": [
    "fish.drop(['Obs', 'Sex', 'Species_Name'], axis=1, inplace=True)\n",
    "fish.head()"
   ]
  },
  {
   "cell_type": "code",
   "execution_count": 271,
   "metadata": {
    "ExecuteTime": {
     "end_time": "2020-05-22T22:35:12.912273Z",
     "start_time": "2020-05-22T22:35:12.896653Z"
    }
   },
   "outputs": [],
   "source": [
    "fish.fillna(fish.Weight.mean(), inplace=True)"
   ]
  },
  {
   "cell_type": "code",
   "execution_count": 272,
   "metadata": {
    "ExecuteTime": {
     "end_time": "2020-05-22T22:35:18.591758Z",
     "start_time": "2020-05-22T22:35:18.576147Z"
    }
   },
   "outputs": [
    {
     "data": {
      "text/plain": [
       "Species    False\n",
       "Weight     False\n",
       "Lengthl    False\n",
       "Length2    False\n",
       "Length3    False\n",
       "Height     False\n",
       "Width      False\n",
       "dtype: bool"
      ]
     },
     "execution_count": 272,
     "metadata": {},
     "output_type": "execute_result"
    }
   ],
   "source": [
    "fish.isna().any()"
   ]
  },
  {
   "cell_type": "code",
   "execution_count": 273,
   "metadata": {
    "ExecuteTime": {
     "end_time": "2020-05-22T22:35:21.440607Z",
     "start_time": "2020-05-22T22:35:21.424892Z"
    }
   },
   "outputs": [],
   "source": [
    "samples=fish.to_numpy()"
   ]
  },
  {
   "cell_type": "code",
   "execution_count": 274,
   "metadata": {
    "ExecuteTime": {
     "end_time": "2020-05-22T22:35:23.028514Z",
     "start_time": "2020-05-22T22:35:23.006290Z"
    }
   },
   "outputs": [
    {
     "name": "stdout",
     "output_type": "stream",
     "text": [
      "[[1.00e+00 2.42e+02 2.32e+01 ... 3.00e+01 3.84e+01 1.34e+01]\n",
      " [1.00e+00 2.90e+02 2.40e+01 ... 3.12e+01 4.00e+01 1.38e+01]\n",
      " [1.00e+00 3.40e+02 2.39e+01 ... 3.11e+01 3.98e+01 1.51e+01]\n",
      " ...\n",
      " [7.00e+00 1.10e+03 4.01e+01 ... 4.55e+01 2.75e+01 1.63e+01]\n",
      " [7.00e+00 1.00e+03 4.02e+01 ... 4.60e+01 2.74e+01 1.77e+01]\n",
      " [7.00e+00 1.00e+03 4.11e+01 ... 4.66e+01 2.68e+01 1.63e+01]]\n"
     ]
    }
   ],
   "source": [
    "print(samples)"
   ]
  },
  {
   "cell_type": "markdown",
   "metadata": {},
   "source": [
    "## Standardizing fish data for clustering\n",
    "\n",
    "You are given an array samples giving measurements of fish. Each row represents an individual fish. The measurements, such as weight in grams, length in centimeters, and the percentage ratio of height to length, have very different scales. In order to cluster this data effectively, you'll need to standardize these features first. In this exercise, you'll build a pipeline to standardize and cluster the data.\n",
    "\n",
    "These fish measurement data were sourced from the Journal of Statistics Education.\n",
    "\n",
    "Instructions\n",
    "\n",
    "Import:\n",
    "- make_pipeline from sklearn.pipeline.\n",
    "- StandardScaler from sklearn.preprocessing.\n",
    "- KMeans from sklearn.cluster.\n",
    "- Create an instance of StandardScaler called scaler.\n",
    "- Create an instance of KMeans with 4 clusters called kmeans.\n",
    "- Create a pipeline called pipeline that chains scaler and kmeans. To do this, you just need to pass them in as arguments to make_pipeline().\n"
   ]
  },
  {
   "cell_type": "code",
   "execution_count": 275,
   "metadata": {
    "ExecuteTime": {
     "end_time": "2020-05-22T22:35:25.081434Z",
     "start_time": "2020-05-22T22:35:25.065886Z"
    }
   },
   "outputs": [],
   "source": [
    "# Perform the necessary imports\n",
    "from sklearn.pipeline import make_pipeline\n",
    "from sklearn.preprocessing import StandardScaler\n",
    "from sklearn.cluster import KMeans\n",
    "\n",
    "# Create scaler: scaler\n",
    "scaler = StandardScaler()\n",
    "\n",
    "# Create KMeans instance: kmeans\n",
    "kmeans = KMeans(n_clusters=4)\n",
    "\n",
    "# Create pipeline: pipeline\n",
    "pipeline = make_pipeline(scaler,kmeans)\n"
   ]
  },
  {
   "cell_type": "markdown",
   "metadata": {},
   "source": [
    "## Clustering the fish data\n",
    "\n",
    "You'll now use your standardization and clustering pipeline from the previous exercise to cluster the fish by their measurements, and then create a cross-tabulation to compare the cluster labels with the fish species.\n",
    "\n",
    "As before, samples is the 2D array of fish measurements. Your pipeline is available as pipeline, and the species of every fish sample is given by the list species.\n",
    "\n",
    "Instructions\n",
    "\n",
    "- Import pandas as pd.\n",
    "- Fit the pipeline to the fish measurements samples.\n",
    "- Obtain the cluster labels for samples by using the .predict() method of pipeline.\n",
    "- Using pd.DataFrame(), create a DataFrame df with two columns named 'labels' and 'species', using labels and species, respectively, for the column values.\n",
    "- Using pd.crosstab(), create a cross-tabulation ct of df['labels'] and df['species'].\n"
   ]
  },
  {
   "cell_type": "code",
   "execution_count": 276,
   "metadata": {
    "ExecuteTime": {
     "end_time": "2020-05-22T22:35:27.405981Z",
     "start_time": "2020-05-22T22:35:27.359045Z"
    }
   },
   "outputs": [],
   "source": [
    "# Import pandas\n",
    "import pandas as pd\n",
    "\n",
    "# Fit the pipeline to samples\n",
    "pipeline.fit(samples)\n",
    "\n",
    "# Calculate the cluster labels: labels\n",
    "labels = pipeline.predict(samples)"
   ]
  },
  {
   "cell_type": "code",
   "execution_count": 277,
   "metadata": {
    "ExecuteTime": {
     "end_time": "2020-05-22T22:35:29.412339Z",
     "start_time": "2020-05-22T22:35:29.365469Z"
    }
   },
   "outputs": [
    {
     "name": "stdout",
     "output_type": "stream",
     "text": [
      "varieties  Bream  Parkki  Perch  Pike  Roach  Smelt  Whitewish\n",
      "labels                                                        \n",
      "0              0       0     19     0      0      0          0\n",
      "1              0      10     37     0     19     14          2\n",
      "2             35       1      0     0      1      0          4\n",
      "3              0       0      0    17      0      0          0\n"
     ]
    }
   ],
   "source": [
    "# Create a DataFrame with labels and species as columns: df\n",
    "df = pd.DataFrame({'labels': labels, 'varieties': species_name})\n",
    "\n",
    "# Create crosstab: ct\n",
    "ct = pd.crosstab(df['labels'], df['varieties']) \n",
    "\n",
    "# Display ct\n",
    "print(ct)"
   ]
  },
  {
   "cell_type": "markdown",
   "metadata": {},
   "source": [
    "# Project 6: Clustering stocks using KMeans\n",
    "\n",
    "In this exercise, you'll cluster companies using their daily stock price movements (i.e. the dollar difference between the closing and opening prices for each trading day). You are given a NumPy array movements of daily price movements from 2010 to 2015 (obtained from Yahoo! Finance), where each row corresponds to a company, and each column corresponds to a trading day.\n",
    "\n",
    "Some stocks are more expensive than others. To account for this, include a Normalizer at the beginning of your pipeline. The Normalizer will separately transform each company's stock price to a relative scale before the clustering begins.\n",
    "\n",
    "Note that Normalizer() is different to StandardScaler(), which you used in the previous exercise. While StandardScaler() standardizes features (such as the features of the fish data from the previous exercise) by removing the mean and scaling to unit variance, Normalizer() rescales each sample - here, each company's stock price - independently of the other.\n",
    "\n",
    "KMeans and make_pipeline have already been imported for you.\n",
    "\n",
    "- Import Normalizer from sklearn.preprocessing.\n",
    "- Create an instance of Normalizer called normalizer.\n",
    "- Create an instance of KMeans called kmeans with 10 clusters.\n",
    "- Using make_pipeline(), create a pipeline called pipeline that chains normalizer and kmeans.\n",
    "- Fit the pipeline to the movements array.\n"
   ]
  },
  {
   "cell_type": "code",
   "execution_count": 336,
   "metadata": {
    "ExecuteTime": {
     "end_time": "2020-05-22T23:26:45.942227Z",
     "start_time": "2020-05-22T23:26:45.842058Z"
    }
   },
   "outputs": [
    {
     "data": {
      "text/html": [
       "<div>\n",
       "<style scoped>\n",
       "    .dataframe tbody tr th:only-of-type {\n",
       "        vertical-align: middle;\n",
       "    }\n",
       "\n",
       "    .dataframe tbody tr th {\n",
       "        vertical-align: top;\n",
       "    }\n",
       "\n",
       "    .dataframe thead th {\n",
       "        text-align: right;\n",
       "    }\n",
       "</style>\n",
       "<table border=\"1\" class=\"dataframe\">\n",
       "  <thead>\n",
       "    <tr style=\"text-align: right;\">\n",
       "      <th></th>\n",
       "      <th>Index</th>\n",
       "      <th>Name</th>\n",
       "      <th>0</th>\n",
       "      <th>1</th>\n",
       "      <th>2</th>\n",
       "      <th>3</th>\n",
       "      <th>4</th>\n",
       "      <th>5</th>\n",
       "      <th>6</th>\n",
       "      <th>7</th>\n",
       "      <th>...</th>\n",
       "      <th>953</th>\n",
       "      <th>954</th>\n",
       "      <th>955</th>\n",
       "      <th>956</th>\n",
       "      <th>957</th>\n",
       "      <th>958</th>\n",
       "      <th>959</th>\n",
       "      <th>960</th>\n",
       "      <th>961</th>\n",
       "      <th>962</th>\n",
       "    </tr>\n",
       "  </thead>\n",
       "  <tbody>\n",
       "    <tr>\n",
       "      <th>0</th>\n",
       "      <td>0</td>\n",
       "      <td>Apple</td>\n",
       "      <td>0.580000</td>\n",
       "      <td>-0.220005</td>\n",
       "      <td>-3.409998</td>\n",
       "      <td>-1.170000</td>\n",
       "      <td>1.680011</td>\n",
       "      <td>-2.689994</td>\n",
       "      <td>-1.469994</td>\n",
       "      <td>2.779997</td>\n",
       "      <td>...</td>\n",
       "      <td>0.320008</td>\n",
       "      <td>4.519997</td>\n",
       "      <td>2.899987</td>\n",
       "      <td>9.590019</td>\n",
       "      <td>-6.540016</td>\n",
       "      <td>5.959976</td>\n",
       "      <td>6.910011</td>\n",
       "      <td>-5.359962</td>\n",
       "      <td>0.840019</td>\n",
       "      <td>-19.589981</td>\n",
       "    </tr>\n",
       "    <tr>\n",
       "      <th>1</th>\n",
       "      <td>1</td>\n",
       "      <td>AIG</td>\n",
       "      <td>-0.640002</td>\n",
       "      <td>-0.650000</td>\n",
       "      <td>-0.210001</td>\n",
       "      <td>-0.420000</td>\n",
       "      <td>0.710001</td>\n",
       "      <td>-0.200001</td>\n",
       "      <td>-1.130001</td>\n",
       "      <td>0.069999</td>\n",
       "      <td>...</td>\n",
       "      <td>0.919998</td>\n",
       "      <td>0.709999</td>\n",
       "      <td>0.119999</td>\n",
       "      <td>-0.480000</td>\n",
       "      <td>0.010002</td>\n",
       "      <td>-0.279998</td>\n",
       "      <td>-0.190003</td>\n",
       "      <td>-0.040001</td>\n",
       "      <td>-0.400002</td>\n",
       "      <td>0.660000</td>\n",
       "    </tr>\n",
       "    <tr>\n",
       "      <th>2</th>\n",
       "      <td>2</td>\n",
       "      <td>Amazon</td>\n",
       "      <td>-2.350006</td>\n",
       "      <td>1.260009</td>\n",
       "      <td>-2.350006</td>\n",
       "      <td>-2.009995</td>\n",
       "      <td>2.960006</td>\n",
       "      <td>-2.309997</td>\n",
       "      <td>-1.640007</td>\n",
       "      <td>1.209999</td>\n",
       "      <td>...</td>\n",
       "      <td>2.109985</td>\n",
       "      <td>3.699982</td>\n",
       "      <td>9.570008</td>\n",
       "      <td>-3.450013</td>\n",
       "      <td>4.820008</td>\n",
       "      <td>-4.079986</td>\n",
       "      <td>2.579986</td>\n",
       "      <td>4.790009</td>\n",
       "      <td>-1.760009</td>\n",
       "      <td>3.740021</td>\n",
       "    </tr>\n",
       "    <tr>\n",
       "      <th>3</th>\n",
       "      <td>3</td>\n",
       "      <td>American express</td>\n",
       "      <td>0.109997</td>\n",
       "      <td>0.000000</td>\n",
       "      <td>0.260002</td>\n",
       "      <td>0.720002</td>\n",
       "      <td>0.190003</td>\n",
       "      <td>-0.270001</td>\n",
       "      <td>0.750000</td>\n",
       "      <td>0.300004</td>\n",
       "      <td>...</td>\n",
       "      <td>0.680001</td>\n",
       "      <td>2.290001</td>\n",
       "      <td>0.409996</td>\n",
       "      <td>-0.069999</td>\n",
       "      <td>0.100006</td>\n",
       "      <td>0.069999</td>\n",
       "      <td>0.130005</td>\n",
       "      <td>1.849999</td>\n",
       "      <td>0.040001</td>\n",
       "      <td>0.540001</td>\n",
       "    </tr>\n",
       "    <tr>\n",
       "      <th>4</th>\n",
       "      <td>4</td>\n",
       "      <td>Boeing</td>\n",
       "      <td>0.459999</td>\n",
       "      <td>1.770000</td>\n",
       "      <td>1.549999</td>\n",
       "      <td>2.690003</td>\n",
       "      <td>0.059997</td>\n",
       "      <td>-1.080002</td>\n",
       "      <td>0.360000</td>\n",
       "      <td>0.549999</td>\n",
       "      <td>...</td>\n",
       "      <td>1.559997</td>\n",
       "      <td>2.480003</td>\n",
       "      <td>0.019997</td>\n",
       "      <td>-1.220001</td>\n",
       "      <td>0.480003</td>\n",
       "      <td>3.020004</td>\n",
       "      <td>-0.029999</td>\n",
       "      <td>1.940002</td>\n",
       "      <td>1.130005</td>\n",
       "      <td>0.309998</td>\n",
       "    </tr>\n",
       "  </tbody>\n",
       "</table>\n",
       "<p>5 rows × 965 columns</p>\n",
       "</div>"
      ],
      "text/plain": [
       "   Index              Name         0         1         2         3         4  \\\n",
       "0      0             Apple  0.580000 -0.220005 -3.409998 -1.170000  1.680011   \n",
       "1      1               AIG -0.640002 -0.650000 -0.210001 -0.420000  0.710001   \n",
       "2      2            Amazon -2.350006  1.260009 -2.350006 -2.009995  2.960006   \n",
       "3      3  American express  0.109997  0.000000  0.260002  0.720002  0.190003   \n",
       "4      4            Boeing  0.459999  1.770000  1.549999  2.690003  0.059997   \n",
       "\n",
       "          5         6         7  ...       953       954       955       956  \\\n",
       "0 -2.689994 -1.469994  2.779997  ...  0.320008  4.519997  2.899987  9.590019   \n",
       "1 -0.200001 -1.130001  0.069999  ...  0.919998  0.709999  0.119999 -0.480000   \n",
       "2 -2.309997 -1.640007  1.209999  ...  2.109985  3.699982  9.570008 -3.450013   \n",
       "3 -0.270001  0.750000  0.300004  ...  0.680001  2.290001  0.409996 -0.069999   \n",
       "4 -1.080002  0.360000  0.549999  ...  1.559997  2.480003  0.019997 -1.220001   \n",
       "\n",
       "        957       958       959       960       961        962  \n",
       "0 -6.540016  5.959976  6.910011 -5.359962  0.840019 -19.589981  \n",
       "1  0.010002 -0.279998 -0.190003 -0.040001 -0.400002   0.660000  \n",
       "2  4.820008 -4.079986  2.579986  4.790009 -1.760009   3.740021  \n",
       "3  0.100006  0.069999  0.130005  1.849999  0.040001   0.540001  \n",
       "4  0.480003  3.020004 -0.029999  1.940002  1.130005   0.309998  \n",
       "\n",
       "[5 rows x 965 columns]"
      ]
     },
     "execution_count": 336,
     "metadata": {},
     "output_type": "execute_result"
    }
   ],
   "source": [
    "import pandas as pd\n",
    "stocks=pd.read_csv(\"stocks.csv\")\n",
    "stocks.head()"
   ]
  },
  {
   "cell_type": "code",
   "execution_count": 337,
   "metadata": {
    "ExecuteTime": {
     "end_time": "2020-05-22T23:26:48.469006Z",
     "start_time": "2020-05-22T23:26:48.453387Z"
    }
   },
   "outputs": [],
   "source": [
    "companies1=stocks.Name.values\n"
   ]
  },
  {
   "cell_type": "code",
   "execution_count": 338,
   "metadata": {
    "ExecuteTime": {
     "end_time": "2020-05-22T23:26:49.440375Z",
     "start_time": "2020-05-22T23:26:49.424743Z"
    }
   },
   "outputs": [],
   "source": [
    "stocks.dropna(axis=1,inplace=True)\n"
   ]
  },
  {
   "cell_type": "code",
   "execution_count": 339,
   "metadata": {
    "ExecuteTime": {
     "end_time": "2020-05-22T23:26:50.442610Z",
     "start_time": "2020-05-22T23:26:50.420468Z"
    }
   },
   "outputs": [],
   "source": [
    "stocks.drop([\"Index\", \"Name\"],axis=1, inplace=True)"
   ]
  },
  {
   "cell_type": "code",
   "execution_count": 340,
   "metadata": {
    "ExecuteTime": {
     "end_time": "2020-05-22T23:26:51.323923Z",
     "start_time": "2020-05-22T23:26:51.308210Z"
    }
   },
   "outputs": [],
   "source": [
    "movements=stocks.to_numpy()"
   ]
  },
  {
   "cell_type": "code",
   "execution_count": 341,
   "metadata": {
    "ExecuteTime": {
     "end_time": "2020-05-22T23:26:53.085059Z",
     "start_time": "2020-05-22T23:26:53.069437Z"
    }
   },
   "outputs": [
    {
     "data": {
      "text/plain": [
       "array([[ 5.8000000e-01, -2.2000500e-01, -3.4099980e+00, ...,\n",
       "        -5.3599620e+00,  8.4001900e-01, -1.9589981e+01],\n",
       "       [-6.4000200e-01, -6.5000000e-01, -2.1000100e-01, ...,\n",
       "        -4.0001000e-02, -4.0000200e-01,  6.6000000e-01],\n",
       "       [-2.3500060e+00,  1.2600090e+00, -2.3500060e+00, ...,\n",
       "         4.7900090e+00, -1.7600090e+00,  3.7400210e+00],\n",
       "       ...,\n",
       "       [ 4.3000100e-01,  2.2999600e-01,  5.7000000e-01, ...,\n",
       "        -2.6000200e-01,  4.0000100e-01,  4.8000300e-01],\n",
       "       [ 9.0000000e-02,  1.0000000e-02, -8.0000000e-02, ...,\n",
       "        -3.0000000e-02,  2.0000000e-02, -3.0000000e-02],\n",
       "       [ 1.5999900e-01,  1.0001000e-02,  0.0000000e+00, ...,\n",
       "        -6.0001000e-02,  2.5999800e-01,  9.9998000e-02]])"
      ]
     },
     "execution_count": 341,
     "metadata": {},
     "output_type": "execute_result"
    }
   ],
   "source": [
    "movements"
   ]
  },
  {
   "cell_type": "code",
   "execution_count": 342,
   "metadata": {
    "ExecuteTime": {
     "end_time": "2020-05-22T23:26:54.504330Z",
     "start_time": "2020-05-22T23:26:54.404076Z"
    }
   },
   "outputs": [
    {
     "data": {
      "text/plain": [
       "Pipeline(memory=None,\n",
       "         steps=[('normalizer', Normalizer(copy=True, norm='l2')),\n",
       "                ('kmeans',\n",
       "                 KMeans(algorithm='auto', copy_x=True, init='k-means++',\n",
       "                        max_iter=300, n_clusters=10, n_init=10, n_jobs=None,\n",
       "                        precompute_distances='auto', random_state=None,\n",
       "                        tol=0.0001, verbose=0))],\n",
       "         verbose=False)"
      ]
     },
     "execution_count": 342,
     "metadata": {},
     "output_type": "execute_result"
    }
   ],
   "source": [
    "# Import Normalizer\n",
    "from sklearn.preprocessing import Normalizer\n",
    "from sklearn.pipeline import make_pipeline\n",
    "\n",
    "# Create a normalizer: normalizer\n",
    "normalizer = Normalizer()\n",
    "\n",
    "# Create a KMeans model with 10 clusters: kmeans\n",
    "kmeans = KMeans(n_clusters=10)\n",
    "\n",
    "# Make a pipeline chaining normalizer and kmeans: pipeline\n",
    "pipeline = make_pipeline(normalizer,kmeans)\n",
    "\n",
    "# Fit pipeline to the daily price movements\n",
    "pipeline.fit(movements)"
   ]
  },
  {
   "cell_type": "markdown",
   "metadata": {},
   "source": [
    "## Which stocks move together?\n",
    "\n",
    "In the previous exercise, you clustered companies by their daily stock price movements. So which company have stock prices that tend to change in the same way? You'll now inspect the cluster labels from your clustering to find out.\n",
    "\n",
    "Your solution to the previous exercise has already been run. Recall that you constructed a Pipeline pipeline containing a KMeans model and fit it to the NumPy array movements of daily stock movements. In addition, a list companies of the company names is available.\n",
    "\n",
    "\n",
    "- Import pandas as pd.\n",
    "- Use the .predict() method of the pipeline to predict the labels for movements.\n",
    "- Align the cluster labels with the list of company names companies by creating a DataFrame df with labels and companies as columns. This has been done for you.\n",
    "- Use the .sort_values() method of df to sort the DataFrame by the 'labels' column, and print the result.\n",
    "- Hit 'Submit Answer' and take a moment to see which companies are together in each cluster!\n"
   ]
  },
  {
   "cell_type": "code",
   "execution_count": 343,
   "metadata": {
    "ExecuteTime": {
     "end_time": "2020-05-22T23:26:57.240696Z",
     "start_time": "2020-05-22T23:26:57.225077Z"
    },
    "hide_input": true
   },
   "outputs": [],
   "source": [
    "companies=['Apple',\n",
    " 'AIG',\n",
    " 'Amazon',\n",
    " 'American express',\n",
    " 'Boeing',\n",
    " 'Bank of America',\n",
    " 'British American Tobacco',\n",
    " 'Canon',\n",
    " 'Caterpillar',\n",
    " 'Colgate-Palmolive',\n",
    " 'ConocoPhillips',\n",
    " 'Cisco',\n",
    " 'Chevron',\n",
    " 'DuPont de Nemours',\n",
    " 'Dell',\n",
    " 'Ford',\n",
    " 'General Electrics',\n",
    " 'Google/Alphabet',\n",
    " 'Goldman Sachs',\n",
    " 'GlaxoSmithKline',\n",
    " 'Home Depot',\n",
    " 'Honda',\n",
    " 'HP',\n",
    " 'IBM',\n",
    " 'Intel',\n",
    " 'Johnson & Johnson',\n",
    " 'JPMorgan Chase',\n",
    " 'Kimberly-Clark',\n",
    " 'Coca Cola',\n",
    " 'Lookheed Martin',\n",
    " 'MasterCard',\n",
    " 'McDonalds',\n",
    " '3M',\n",
    " 'Microsoft',\n",
    " 'Mitsubishi',\n",
    " 'Navistar',\n",
    " 'Northrop Grumman',\n",
    " 'Novartis',\n",
    " 'Pepsi',\n",
    " 'Pfizer',\n",
    " 'Procter Gamble',\n",
    " 'Philip Morris',\n",
    " 'Royal Dutch Shell',\n",
    " 'SAP',\n",
    " 'Schlumberger',\n",
    " 'Sony',\n",
    " 'Sanofi-Aventis',\n",
    " 'Symantec',\n",
    " 'Toyota',\n",
    " 'Total',\n",
    " 'Taiwan Semiconductor Manufacturing',\n",
    " 'Texas instruments',\n",
    " 'Unilever',\n",
    " 'Valero Energy',\n",
    " 'Walgreen',\n",
    " 'Wells Fargo',\n",
    " 'Wal-Mart',\n",
    " 'Exxon',\n",
    " 'Xerox',\n",
    " 'Yahoo']"
   ]
  },
  {
   "cell_type": "code",
   "execution_count": 345,
   "metadata": {
    "ExecuteTime": {
     "end_time": "2020-05-22T23:27:28.781770Z",
     "start_time": "2020-05-22T23:27:28.750527Z"
    }
   },
   "outputs": [
    {
     "name": "stdout",
     "output_type": "stream",
     "text": [
      "    labels                           companies\n",
      "29       0                     Lookheed Martin\n",
      "36       0                    Northrop Grumman\n",
      "4        0                              Boeing\n",
      "53       1                       Valero Energy\n",
      "35       1                            Navistar\n",
      "32       1                                  3M\n",
      "30       1                          MasterCard\n",
      "58       1                               Xerox\n",
      "16       1                   General Electrics\n",
      "15       1                                Ford\n",
      "13       1                   DuPont de Nemours\n",
      "59       1                               Yahoo\n",
      "3        1                    American express\n",
      "8        1                         Caterpillar\n",
      "57       2                               Exxon\n",
      "52       2                            Unilever\n",
      "49       2                               Total\n",
      "46       2                      Sanofi-Aventis\n",
      "44       2                        Schlumberger\n",
      "43       2                                 SAP\n",
      "42       2                   Royal Dutch Shell\n",
      "39       2                              Pfizer\n",
      "37       2                            Novartis\n",
      "6        2            British American Tobacco\n",
      "12       2                             Chevron\n",
      "20       2                          Home Depot\n",
      "10       2                      ConocoPhillips\n",
      "23       2                                 IBM\n",
      "19       2                     GlaxoSmithKline\n",
      "56       3                            Wal-Mart\n",
      "54       3                            Walgreen\n",
      "9        3                   Colgate-Palmolive\n",
      "40       3                      Procter Gamble\n",
      "25       3                   Johnson & Johnson\n",
      "27       3                      Kimberly-Clark\n",
      "38       4                               Pepsi\n",
      "41       4                       Philip Morris\n",
      "28       4                           Coca Cola\n",
      "31       4                           McDonalds\n",
      "34       5                          Mitsubishi\n",
      "21       5                               Honda\n",
      "45       5                                Sony\n",
      "7        5                               Canon\n",
      "48       5                              Toyota\n",
      "26       6                      JPMorgan Chase\n",
      "55       6                         Wells Fargo\n",
      "5        6                     Bank of America\n",
      "18       6                       Goldman Sachs\n",
      "1        7                                 AIG\n",
      "17       8                     Google/Alphabet\n",
      "0        8                               Apple\n",
      "50       9  Taiwan Semiconductor Manufacturing\n",
      "51       9                   Texas instruments\n",
      "14       9                                Dell\n",
      "33       9                           Microsoft\n",
      "24       9                               Intel\n",
      "22       9                                  HP\n",
      "2        9                              Amazon\n",
      "11       9                               Cisco\n",
      "47       9                            Symantec\n"
     ]
    }
   ],
   "source": [
    "# Import pandas\n",
    "import pandas as pd\n",
    "\n",
    "# Predict the cluster labels: labels\n",
    "labels = pipeline.predict(movements)\n",
    "\n",
    "# Create a DataFrame aligning labels and companies: df\n",
    "df = pd.DataFrame({'labels': labels, 'companies': companies1})\n",
    "\n",
    "# Display df sorted by cluster label\n",
    "print(df.sort_values(\"labels\"))"
   ]
  },
  {
   "cell_type": "code",
   "execution_count": null,
   "metadata": {},
   "outputs": [],
   "source": []
  }
 ],
 "metadata": {
  "kernelspec": {
   "display_name": "Python 3",
   "language": "python",
   "name": "python3"
  },
  "language_info": {
   "codemirror_mode": {
    "name": "ipython",
    "version": 3
   },
   "file_extension": ".py",
   "mimetype": "text/x-python",
   "name": "python",
   "nbconvert_exporter": "python",
   "pygments_lexer": "ipython3",
   "version": "3.7.6"
  },
  "toc": {
   "base_numbering": 1,
   "nav_menu": {},
   "number_sections": false,
   "sideBar": true,
   "skip_h1_title": false,
   "title_cell": "Table of Contents",
   "title_sidebar": "Contents",
   "toc_cell": false,
   "toc_position": {
    "height": "calc(100% - 180px)",
    "left": "10px",
    "top": "150px",
    "width": "411.133px"
   },
   "toc_section_display": true,
   "toc_window_display": true
  },
  "widgets": {
   "state": {},
   "version": "1.1.2"
  }
 },
 "nbformat": 4,
 "nbformat_minor": 2
}
